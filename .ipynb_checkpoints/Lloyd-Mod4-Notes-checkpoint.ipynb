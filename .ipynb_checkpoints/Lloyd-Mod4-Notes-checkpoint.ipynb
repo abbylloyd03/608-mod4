{
 "cells": [
  {
   "cell_type": "markdown",
   "id": "21410960-a523-45af-8c28-77c4f71fa527",
   "metadata": {},
   "source": [
    "# Chapter 5: Lists and Tuples"
   ]
  },
  {
   "cell_type": "markdown",
   "id": "675139e3-d946-4837-b71e-a5c30f16baf1",
   "metadata": {},
   "source": [
    "### 5.2 Lists"
   ]
  },
  {
   "cell_type": "markdown",
   "id": "d1ac20ab-ce8c-4d67-bff6-62e086554e4d",
   "metadata": {},
   "source": [
    "Lists typically store homogeneous data, but they may also store heterogenous data."
   ]
  },
  {
   "cell_type": "code",
   "execution_count": 3,
   "id": "3138ac1a-e8ec-4a23-bee4-2532a3c67784",
   "metadata": {},
   "outputs": [
    {
     "name": "stdout",
     "output_type": "stream",
     "text": [
      "[-45, 6, 0, 72, 1543]\n",
      "<class 'list'>\n"
     ]
    }
   ],
   "source": [
    "c = [-45, 6, 0, 72, 1543]\n",
    "print(c)\n",
    "print(type(c))"
   ]
  },
  {
   "cell_type": "markdown",
   "id": "18905d85-53be-4045-8289-412837d45b19",
   "metadata": {},
   "source": [
    "Accessing elements of a list"
   ]
  },
  {
   "cell_type": "code",
   "execution_count": 4,
   "id": "b745779f-5455-4b45-9cbe-3c95cbb25bd8",
   "metadata": {},
   "outputs": [
    {
     "data": {
      "text/plain": [
       "-45"
      ]
     },
     "execution_count": 4,
     "metadata": {},
     "output_type": "execute_result"
    }
   ],
   "source": [
    "c[0]"
   ]
  },
  {
   "cell_type": "code",
   "execution_count": 5,
   "id": "59da734c-e9aa-40fc-a692-f71fca1e39d0",
   "metadata": {},
   "outputs": [
    {
     "data": {
      "text/plain": [
       "1543"
      ]
     },
     "execution_count": 5,
     "metadata": {},
     "output_type": "execute_result"
    }
   ],
   "source": [
    "c[4]"
   ]
  },
  {
   "cell_type": "markdown",
   "id": "bf824c9c-ead2-4a08-af5b-b6a4e9a2bec0",
   "metadata": {},
   "source": [
    "Length of a list"
   ]
  },
  {
   "cell_type": "code",
   "execution_count": 6,
   "id": "49075136-79f0-4d17-b092-2ba7832de1d1",
   "metadata": {},
   "outputs": [
    {
     "data": {
      "text/plain": [
       "5"
      ]
     },
     "execution_count": 6,
     "metadata": {},
     "output_type": "execute_result"
    }
   ],
   "source": [
    "len(c)"
   ]
  },
  {
   "cell_type": "markdown",
   "id": "3eda7b9a-feaa-4c42-af56-9b740be77d7c",
   "metadata": {},
   "source": [
    "Accessing elements of a list with negative indices"
   ]
  },
  {
   "cell_type": "code",
   "execution_count": 7,
   "id": "4feefba0-ce51-4ee5-8311-fc9f42183007",
   "metadata": {},
   "outputs": [
    {
     "data": {
      "text/plain": [
       "1543"
      ]
     },
     "execution_count": 7,
     "metadata": {},
     "output_type": "execute_result"
    }
   ],
   "source": [
    "c[-1]"
   ]
  },
  {
   "cell_type": "code",
   "execution_count": 8,
   "id": "ef5f27a1-eab0-4b1c-aaa2-9cfb9acf02b1",
   "metadata": {},
   "outputs": [
    {
     "data": {
      "text/plain": [
       "-45"
      ]
     },
     "execution_count": 8,
     "metadata": {},
     "output_type": "execute_result"
    }
   ],
   "source": [
    "c[-5]"
   ]
  },
  {
   "cell_type": "markdown",
   "id": "b0055dd7-b18d-40cd-94cf-0c71f13154cd",
   "metadata": {},
   "source": [
    "Lists are mutable"
   ]
  },
  {
   "cell_type": "code",
   "execution_count": 9,
   "id": "16aa9fdd-bd54-4f88-93fc-4abed6a52bfc",
   "metadata": {},
   "outputs": [
    {
     "name": "stdout",
     "output_type": "stream",
     "text": [
      "[-45, 6, 0, 72, 17]\n"
     ]
    }
   ],
   "source": [
    "c[4] = 17\n",
    "print(c)"
   ]
  },
  {
   "cell_type": "markdown",
   "id": "110e6eb3-9da2-406c-ae3c-6ec47085a65f",
   "metadata": {},
   "source": [
    "Python's string and tuple sequences are immutable–they cannot be modified. "
   ]
  },
  {
   "cell_type": "code",
   "execution_count": 10,
   "id": "5aaef6e4-8570-4c78-b21b-9599f2125783",
   "metadata": {},
   "outputs": [
    {
     "name": "stdout",
     "output_type": "stream",
     "text": [
      "h\n"
     ]
    }
   ],
   "source": [
    "s = 'hello'\n",
    "print(s[0])"
   ]
  },
  {
   "cell_type": "code",
   "execution_count": 11,
   "id": "9c5f8bd1-a397-431f-94ef-6cb4a11bc310",
   "metadata": {},
   "outputs": [
    {
     "ename": "TypeError",
     "evalue": "'str' object does not support item assignment",
     "output_type": "error",
     "traceback": [
      "\u001b[0;31m---------------------------------------------------------------------------\u001b[0m",
      "\u001b[0;31mTypeError\u001b[0m                                 Traceback (most recent call last)",
      "Input \u001b[0;32mIn [11]\u001b[0m, in \u001b[0;36m<module>\u001b[0;34m\u001b[0m\n\u001b[0;32m----> 1\u001b[0m s[\u001b[38;5;241m0\u001b[39m] \u001b[38;5;241m=\u001b[39m \u001b[38;5;124m'\u001b[39m\u001b[38;5;124mH\u001b[39m\u001b[38;5;124m'\u001b[39m\n",
      "\u001b[0;31mTypeError\u001b[0m: 'str' object does not support item assignment"
     ]
    }
   ],
   "source": [
    "s[0] = 'H'"
   ]
  },
  {
   "cell_type": "markdown",
   "id": "05bbca47-d1fa-489d-aa8b-3272df96f481",
   "metadata": {},
   "source": [
    "Attempting to Access a nonexistent element"
   ]
  },
  {
   "cell_type": "code",
   "execution_count": 12,
   "id": "eb40e7af-37f9-4de3-92fc-3c90ed208c44",
   "metadata": {},
   "outputs": [
    {
     "ename": "IndexError",
     "evalue": "list index out of range",
     "output_type": "error",
     "traceback": [
      "\u001b[0;31m---------------------------------------------------------------------------\u001b[0m",
      "\u001b[0;31mIndexError\u001b[0m                                Traceback (most recent call last)",
      "Input \u001b[0;32mIn [12]\u001b[0m, in \u001b[0;36m<module>\u001b[0;34m\u001b[0m\n\u001b[0;32m----> 1\u001b[0m \u001b[43mc\u001b[49m\u001b[43m[\u001b[49m\u001b[38;5;241;43m100\u001b[39;49m\u001b[43m]\u001b[49m\n",
      "\u001b[0;31mIndexError\u001b[0m: list index out of range"
     ]
    }
   ],
   "source": [
    "c[100]"
   ]
  },
  {
   "cell_type": "markdown",
   "id": "2490a697-af20-492a-bedf-36f21d290252",
   "metadata": {},
   "source": [
    "Using list elements in expressions"
   ]
  },
  {
   "cell_type": "code",
   "execution_count": 13,
   "id": "b2c67c92-6d03-4b47-b45b-2a07dd8486ef",
   "metadata": {},
   "outputs": [
    {
     "data": {
      "text/plain": [
       "-39"
      ]
     },
     "execution_count": 13,
     "metadata": {},
     "output_type": "execute_result"
    }
   ],
   "source": [
    "c[0] + c[1] + c[2]"
   ]
  },
  {
   "cell_type": "markdown",
   "id": "6ea0da85-c72c-46b0-b340-4a135d31fc49",
   "metadata": {},
   "source": [
    "Appending to a list with +="
   ]
  },
  {
   "cell_type": "code",
   "execution_count": 14,
   "id": "da7057f6-79a4-4e0e-a21c-42d782494680",
   "metadata": {},
   "outputs": [
    {
     "data": {
      "text/plain": [
       "[1, 2, 3, 4, 5]"
      ]
     },
     "execution_count": 14,
     "metadata": {},
     "output_type": "execute_result"
    }
   ],
   "source": [
    "a_list = []\n",
    "\n",
    "for number in range(1, 6):\n",
    "    a_list += [number] #the square brackets around number creat a one-element list, which we append to a_list\n",
    "\n",
    "a_list"
   ]
  },
  {
   "cell_type": "code",
   "execution_count": 15,
   "id": "172ced3b-f57a-420e-8883-dcffd16f7760",
   "metadata": {},
   "outputs": [
    {
     "data": {
      "text/plain": [
       "['P', 'y', 't', 'h', 'o', 'n']"
      ]
     },
     "execution_count": 15,
     "metadata": {},
     "output_type": "execute_result"
    }
   ],
   "source": [
    "letters = []\n",
    "\n",
    "letters += 'Python'\n",
    "\n",
    "letters"
   ]
  },
  {
   "cell_type": "markdown",
   "id": "d39c2e30-735a-429c-af42-80d84fdea605",
   "metadata": {},
   "source": [
    "Concatenating lists with +"
   ]
  },
  {
   "cell_type": "code",
   "execution_count": 16,
   "id": "948a3436-99d4-46c6-8305-a3c586af6fe3",
   "metadata": {},
   "outputs": [
    {
     "data": {
      "text/plain": [
       "[10, 20, 30, 40, 50]"
      ]
     },
     "execution_count": 16,
     "metadata": {},
     "output_type": "execute_result"
    }
   ],
   "source": [
    "list1 = [10, 20, 30]\n",
    "\n",
    "list2 = [40, 50]\n",
    "\n",
    "concatenated_list = list1 + list2\n",
    "\n",
    "concatenated_list"
   ]
  },
  {
   "cell_type": "markdown",
   "id": "b73bf9e3-4746-426b-89ea-1817b174e283",
   "metadata": {},
   "source": [
    "Using for and range to accesss list indices and values"
   ]
  },
  {
   "cell_type": "code",
   "execution_count": 17,
   "id": "7fdbf10d-090c-456f-bda8-78db8e430228",
   "metadata": {},
   "outputs": [
    {
     "name": "stdout",
     "output_type": "stream",
     "text": [
      "0: 10\n",
      "1: 20\n",
      "2: 30\n",
      "3: 40\n",
      "4: 50\n"
     ]
    }
   ],
   "source": [
    "for i in range(len(concatenated_list)):\n",
    "    print(f'{i}: {concatenated_list[i]}')"
   ]
  },
  {
   "cell_type": "code",
   "execution_count": 18,
   "id": "05585e78-5539-44ce-b76e-e75ac5747a07",
   "metadata": {},
   "outputs": [
    {
     "name": "stdout",
     "output_type": "stream",
     "text": [
      "True\n",
      "False\n",
      "True\n",
      "True\n"
     ]
    }
   ],
   "source": [
    "a = [1, 2, 3]\n",
    "\n",
    "b = [1, 2, 3]\n",
    "\n",
    "c = [1, 2, 3, 4]\n",
    "\n",
    "print(a == b)\n",
    "\n",
    "print(a == c)\n",
    "\n",
    "print(a < c) # fewer elements\n",
    "\n",
    "print(c >= b)"
   ]
  },
  {
   "cell_type": "markdown",
   "id": "e28f53c5-d5e0-4ff5-8a8b-77addb4f54ef",
   "metadata": {},
   "source": [
    "### 5.2 Self Check"
   ]
  },
  {
   "cell_type": "code",
   "execution_count": 21,
   "id": "22c7a9a8-16f2-481d-a595-961b41486375",
   "metadata": {},
   "outputs": [
    {
     "name": "stdout",
     "output_type": "stream",
     "text": [
      "[1, 8, 27, 64, 125, 216, 343, 512, 729, 1000]\n"
     ]
    }
   ],
   "source": [
    "def cube_list(values):\n",
    "    for i in range(len(values)):\n",
    "        values[i] **= 3\n",
    "\n",
    "numbers = [1, 2, 3, 4, 5, 6, 7, 8, 9, 10]\n",
    "\n",
    "cube_list(numbers)\n",
    "print(numbers)"
   ]
  }
 ],
 "metadata": {
  "kernelspec": {
   "display_name": "Python 3 (ipykernel)",
   "language": "python",
   "name": "python3"
  },
  "language_info": {
   "codemirror_mode": {
    "name": "ipython",
    "version": 3
   },
   "file_extension": ".py",
   "mimetype": "text/x-python",
   "name": "python",
   "nbconvert_exporter": "python",
   "pygments_lexer": "ipython3",
   "version": "3.9.7"
  }
 },
 "nbformat": 4,
 "nbformat_minor": 5
}
