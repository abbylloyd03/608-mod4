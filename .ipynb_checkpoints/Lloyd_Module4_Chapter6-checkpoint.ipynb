{
 "cells": [
  {
   "cell_type": "markdown",
   "id": "2595fc88-71d8-4229-b26c-9f910497c000",
   "metadata": {},
   "source": [
    "# Chapter 6: Dictionaries and Sets"
   ]
  },
  {
   "cell_type": "markdown",
   "id": "12e4af1b-3b83-43d2-b988-277fd19a6a2e",
   "metadata": {},
   "source": [
    "### 6.2 Dictionaries"
   ]
  },
  {
   "cell_type": "markdown",
   "id": "94fcf03a-0284-4349-88ba-f911235fd1ce",
   "metadata": {},
   "source": [
    "A dictionary is an **unordered** collection which stores key-calue pairs. Each key maps to a specific value. A dictionary's keys must be immutable (such as strings, numbers, or tuples) and unique (no duplicates). Multiple keys can have the same value. "
   ]
  },
  {
   "cell_type": "code",
   "execution_count": 9,
   "id": "a55f3047-1bf9-40dd-968b-017ac565474a",
   "metadata": {},
   "outputs": [],
   "source": [
    "empty_dictionary = {}"
   ]
  },
  {
   "cell_type": "code",
   "execution_count": 8,
   "id": "0c11a276-a12b-4e0c-9f02-11846e498f66",
   "metadata": {},
   "outputs": [
    {
     "name": "stdout",
     "output_type": "stream",
     "text": [
      "<class 'dict'>\n",
      "{'Finland': 'fi', 'South Africa': 'za', 'Nepal': 'np'}\n"
     ]
    }
   ],
   "source": [
    "country_codes = {'Finland': 'fi', 'South Africa': 'za', 'Nepal': 'np'}\n",
    "\n",
    "print(type(country_codes))\n",
    "print(country_codes)"
   ]
  },
  {
   "cell_type": "markdown",
   "id": "03322109-3384-4708-b975-51c4c6a6427c",
   "metadata": {},
   "source": [
    "**Determining if a dictionary is empty**"
   ]
  },
  {
   "cell_type": "code",
   "execution_count": 3,
   "id": "ad500def-4058-4c74-b26a-953f5e817f88",
   "metadata": {},
   "outputs": [
    {
     "data": {
      "text/plain": [
       "3"
      ]
     },
     "execution_count": 3,
     "metadata": {},
     "output_type": "execute_result"
    }
   ],
   "source": [
    "len(country_codes)"
   ]
  },
  {
   "cell_type": "code",
   "execution_count": 4,
   "id": "aab4e1cf-fa04-4a06-92ee-9e9761a0f7e3",
   "metadata": {},
   "outputs": [
    {
     "name": "stdout",
     "output_type": "stream",
     "text": [
      "country_codes is not empty\n"
     ]
    }
   ],
   "source": [
    "if country_codes: #a non-empty dictionary evaluates to True\n",
    "    print('country_codes is not empty')\n",
    "else:\n",
    "    print('country_codes is empty')\n",
    "    "
   ]
  },
  {
   "cell_type": "code",
   "execution_count": 5,
   "id": "d2d1f66b-9424-4021-955e-6b273f9fab39",
   "metadata": {},
   "outputs": [
    {
     "name": "stdout",
     "output_type": "stream",
     "text": [
      "country_codes is empty\n"
     ]
    }
   ],
   "source": [
    "country_codes.clear()\n",
    "\n",
    "if country_codes: #a non-empty dictionary evaluates to True\n",
    "    print('country_codes is not empty')\n",
    "else:\n",
    "    print('country_codes is empty')"
   ]
  },
  {
   "cell_type": "markdown",
   "id": "ee6f02cb-0999-4fbd-8b91-a40ea9534eec",
   "metadata": {},
   "source": [
    "### 6.2.1 Self Check"
   ]
  },
  {
   "cell_type": "code",
   "execution_count": 6,
   "id": "e986531a-9750-48ac-ba1d-8ddbc7775409",
   "metadata": {},
   "outputs": [
    {
     "name": "stdout",
     "output_type": "stream",
     "text": [
      "{'Missouri': 'MO', 'Kansas': 'KS', 'Arizona': 'AZ'}\n"
     ]
    }
   ],
   "source": [
    "states = {'Missouri': 'MO', 'Kansas': 'KS', 'Arizona': 'AZ'}\n",
    "print(states)"
   ]
  },
  {
   "cell_type": "markdown",
   "id": "76845406-d036-49ab-80b4-2eae02eabe16",
   "metadata": {},
   "source": [
    "**Iterating through a dictionary**: Dictionary method **items** returns each key-value pair as a tuple that can be unpacked."
   ]
  },
  {
   "cell_type": "code",
   "execution_count": 7,
   "id": "c7a4c8be-fe70-4d75-a434-a94a6101f8f1",
   "metadata": {},
   "outputs": [
    {
     "name": "stdout",
     "output_type": "stream",
     "text": [
      "{'January': 31, 'February': 28, 'March': 31}\n"
     ]
    }
   ],
   "source": [
    "days_per_month = {'January': 31, 'February': 28, 'March': 31}\n",
    "\n",
    "print(days_per_month)"
   ]
  },
  {
   "cell_type": "code",
   "execution_count": 10,
   "id": "baa77be8-2770-41db-8eb7-84bf4e7ade16",
   "metadata": {},
   "outputs": [
    {
     "name": "stdout",
     "output_type": "stream",
     "text": [
      "January has 31 days\n",
      "February has 28 days\n",
      "March has 31 days\n"
     ]
    }
   ],
   "source": [
    "for month, days in days_per_month.items():\n",
    "    print(f'{month} has {days} days')"
   ]
  },
  {
   "cell_type": "markdown",
   "id": "839e892e-71ef-4a37-be60-c7c0c1d6dfa9",
   "metadata": {},
   "source": [
    "**Accessing the Value Associated with a key**"
   ]
  },
  {
   "cell_type": "code",
   "execution_count": 12,
   "id": "a6716ec2-cbee-4ee0-9fd6-8799ae65d376",
   "metadata": {},
   "outputs": [],
   "source": [
    "roman_numerals = {'I': 1, 'II': 2, 'III': 3, 'IV': 4, 'V': 5, 'X': 100}"
   ]
  },
  {
   "cell_type": "code",
   "execution_count": 13,
   "id": "f980fb4c-2073-4e78-90ff-5b423dc32f1e",
   "metadata": {},
   "outputs": [
    {
     "data": {
      "text/plain": [
       "5"
      ]
     },
     "execution_count": 13,
     "metadata": {},
     "output_type": "execute_result"
    }
   ],
   "source": [
    "roman_numerals['V']"
   ]
  },
  {
   "cell_type": "markdown",
   "id": "f41a3373-3f16-4f5d-8d18-9e0687e3b33e",
   "metadata": {},
   "source": [
    "**Updating the value of an existing key-value pair**"
   ]
  },
  {
   "cell_type": "code",
   "execution_count": 14,
   "id": "1ce6690f-9d20-47a8-8fce-d39cff71ed0f",
   "metadata": {},
   "outputs": [
    {
     "name": "stdout",
     "output_type": "stream",
     "text": [
      "{'I': 1, 'II': 2, 'III': 3, 'IV': 4, 'V': 5, 'X': 10}\n"
     ]
    }
   ],
   "source": [
    "roman_numerals['X'] = 10\n",
    "print(roman_numerals)"
   ]
  },
  {
   "cell_type": "markdown",
   "id": "999a7db3-9dd2-4289-bec1-64376dd2b873",
   "metadata": {},
   "source": [
    "**Adding a new key-value pair**"
   ]
  },
  {
   "cell_type": "code",
   "execution_count": 16,
   "id": "3f194f2d-c299-4793-8dcd-2449025d86f8",
   "metadata": {},
   "outputs": [
    {
     "name": "stdout",
     "output_type": "stream",
     "text": [
      "{'I': 1, 'II': 2, 'III': 3, 'IV': 4, 'V': 5, 'X': 10, 'L': 50}\n"
     ]
    }
   ],
   "source": [
    "roman_numerals['L'] = 50\n",
    "print(roman_numerals)"
   ]
  },
  {
   "cell_type": "markdown",
   "id": "d67102d1-085f-4f68-97a4-5e961715efbf",
   "metadata": {},
   "source": [
    "**Removing a key-value pair**"
   ]
  },
  {
   "cell_type": "code",
   "execution_count": 17,
   "id": "1ff3df01-cc3f-41a4-8266-9778c02e3e9a",
   "metadata": {},
   "outputs": [
    {
     "name": "stdout",
     "output_type": "stream",
     "text": [
      "{'I': 1, 'II': 2, 'IV': 4, 'V': 5, 'X': 10, 'L': 50}\n"
     ]
    }
   ],
   "source": [
    "del roman_numerals['III']\n",
    "print(roman_numerals)"
   ]
  },
  {
   "cell_type": "code",
   "execution_count": 19,
   "id": "2825882c-9fb3-40b7-b92d-c91cc829675d",
   "metadata": {},
   "outputs": [
    {
     "data": {
      "text/plain": [
       "10"
      ]
     },
     "execution_count": 19,
     "metadata": {},
     "output_type": "execute_result"
    }
   ],
   "source": [
    "roman_numerals.pop('X')"
   ]
  },
  {
   "cell_type": "code",
   "execution_count": 20,
   "id": "2bda3f29-8df4-4850-acf2-15907c57b392",
   "metadata": {},
   "outputs": [
    {
     "name": "stdout",
     "output_type": "stream",
     "text": [
      "{'I': 1, 'II': 2, 'IV': 4, 'V': 5, 'L': 50}\n"
     ]
    }
   ],
   "source": [
    "print(roman_numerals)"
   ]
  },
  {
   "cell_type": "markdown",
   "id": "585bd76d-aa80-46e4-b571-2906f7a40dbb",
   "metadata": {},
   "source": [
    "**Attempting to access a nonexistent key**"
   ]
  },
  {
   "cell_type": "code",
   "execution_count": 21,
   "id": "710d339d-5118-4117-aa09-fc0f1d50e865",
   "metadata": {},
   "outputs": [
    {
     "ename": "KeyError",
     "evalue": "'III'",
     "output_type": "error",
     "traceback": [
      "\u001b[0;31m---------------------------------------------------------------------------\u001b[0m",
      "\u001b[0;31mKeyError\u001b[0m                                  Traceback (most recent call last)",
      "Input \u001b[0;32mIn [21]\u001b[0m, in \u001b[0;36m<module>\u001b[0;34m\u001b[0m\n\u001b[0;32m----> 1\u001b[0m \u001b[43mroman_numerals\u001b[49m\u001b[43m[\u001b[49m\u001b[38;5;124;43m'\u001b[39;49m\u001b[38;5;124;43mIII\u001b[39;49m\u001b[38;5;124;43m'\u001b[39;49m\u001b[43m]\u001b[49m\n",
      "\u001b[0;31mKeyError\u001b[0m: 'III'"
     ]
    }
   ],
   "source": [
    "roman_numerals['III']"
   ]
  },
  {
   "cell_type": "markdown",
   "id": "e948085a-81cf-4451-85d9-49d1298186f1",
   "metadata": {},
   "source": [
    "You can avoid a KeyError by using the dictionary method **get**. If that key is not found, get returns None."
   ]
  },
  {
   "cell_type": "code",
   "execution_count": 24,
   "id": "d15ca7ad-9341-4786-b543-9acd147bcedb",
   "metadata": {},
   "outputs": [
    {
     "name": "stdout",
     "output_type": "stream",
     "text": [
      "None\n"
     ]
    }
   ],
   "source": [
    "print(roman_numerals.get('III'))"
   ]
  },
  {
   "cell_type": "code",
   "execution_count": 25,
   "id": "96fb80d2-725e-4231-be9b-ab144f9a62e9",
   "metadata": {},
   "outputs": [
    {
     "name": "stdout",
     "output_type": "stream",
     "text": [
      "III not in dictionary\n"
     ]
    }
   ],
   "source": [
    "print(roman_numerals.get('III', 'III not in dictionary'))"
   ]
  },
  {
   "cell_type": "code",
   "execution_count": 27,
   "id": "e8df56d6-7bc0-4c5f-9230-4781ade7dfc9",
   "metadata": {},
   "outputs": [
    {
     "name": "stdout",
     "output_type": "stream",
     "text": [
      "5\n"
     ]
    }
   ],
   "source": [
    "print(roman_numerals.get('V', 'V not in dictionary'))"
   ]
  },
  {
   "cell_type": "markdown",
   "id": "90066da0-4bbf-4a4f-b608-e67f77ed6460",
   "metadata": {},
   "source": [
    "**Testing whether a dictionary contains a specified key**"
   ]
  },
  {
   "cell_type": "code",
   "execution_count": 28,
   "id": "09dddf70-50b4-42af-b1db-2ffd65023ec3",
   "metadata": {},
   "outputs": [
    {
     "data": {
      "text/plain": [
       "True"
      ]
     },
     "execution_count": 28,
     "metadata": {},
     "output_type": "execute_result"
    }
   ],
   "source": [
    "'V' in roman_numerals"
   ]
  },
  {
   "cell_type": "code",
   "execution_count": 29,
   "id": "893775ae-a518-475d-b9d3-7fae78bbf899",
   "metadata": {},
   "outputs": [
    {
     "data": {
      "text/plain": [
       "False"
      ]
     },
     "execution_count": 29,
     "metadata": {},
     "output_type": "execute_result"
    }
   ],
   "source": [
    "'III' in roman_numerals"
   ]
  },
  {
   "cell_type": "code",
   "execution_count": 30,
   "id": "e8beec09-99b2-4b0d-988f-72d75f3ec937",
   "metadata": {},
   "outputs": [
    {
     "data": {
      "text/plain": [
       "True"
      ]
     },
     "execution_count": 30,
     "metadata": {},
     "output_type": "execute_result"
    }
   ],
   "source": [
    "'III' not in roman_numerals"
   ]
  },
  {
   "cell_type": "markdown",
   "id": "23db386a-134a-49b1-869f-17087af15781",
   "metadata": {},
   "source": [
    "### 6.2.3 Self Check"
   ]
  },
  {
   "cell_type": "code",
   "execution_count": 31,
   "id": "f80dd85d-2ae4-4ef6-8673-815668a31ab0",
   "metadata": {},
   "outputs": [
    {
     "name": "stdout",
     "output_type": "stream",
     "text": [
      "{'I': 1, 'II': 2, 'IV': 4, 'V': 5, 'L': 50, 'x': 10, 'X': 100}\n"
     ]
    }
   ],
   "source": [
    "roman_numerals['x'] = 10\n",
    "roman_numerals['X'] = 100\n",
    "print(roman_numerals)"
   ]
  },
  {
   "cell_type": "markdown",
   "id": "0d87d2c4-6056-4092-a8e2-e8ac337d7712",
   "metadata": {},
   "source": [
    "**Dictionary Methods keys and values**"
   ]
  },
  {
   "cell_type": "markdown",
   "id": "c43726da-be34-42fb-9a48-49b6f14de324",
   "metadata": {},
   "source": [
    "**keys** and **values** can be used to iterate through only a dictionaries keys or values"
   ]
  },
  {
   "cell_type": "code",
   "execution_count": 32,
   "id": "38ed2778-13f7-4d34-8d7f-49894253cd8c",
   "metadata": {},
   "outputs": [
    {
     "name": "stdout",
     "output_type": "stream",
     "text": [
      "January February March "
     ]
    }
   ],
   "source": [
    "months = {'January': 1, 'February': 2, 'March': 3}\n",
    "\n",
    "for month_name in months.keys():\n",
    "    print(month_name, end=' ')"
   ]
  },
  {
   "cell_type": "code",
   "execution_count": 33,
   "id": "462eefe2-d0d4-471c-adeb-372d9f411e29",
   "metadata": {},
   "outputs": [
    {
     "name": "stdout",
     "output_type": "stream",
     "text": [
      "1 2 3 "
     ]
    }
   ],
   "source": [
    "for month_number in months.values():\n",
    "    print(month_number, end=' ')"
   ]
  },
  {
   "cell_type": "markdown",
   "id": "5aeb882e-2a44-44ee-aecc-092448468ab3",
   "metadata": {},
   "source": [
    "**Dictionary views**"
   ]
  },
  {
   "cell_type": "markdown",
   "id": "44c006ca-5fc6-47a3-a2ed-90bed1abb1b6",
   "metadata": {},
   "source": [
    "items, keys, and values each return a view of a dictionary's data, they do not have a copy of the data."
   ]
  },
  {
   "cell_type": "code",
   "execution_count": 34,
   "id": "755dd7ea-c9af-429f-8f40-0a6790d02d51",
   "metadata": {},
   "outputs": [
    {
     "name": "stdout",
     "output_type": "stream",
     "text": [
      "January February March "
     ]
    }
   ],
   "source": [
    "months_view = months.keys()\n",
    "\n",
    "for key in months_view:\n",
    "    print(key, end=' ')"
   ]
  },
  {
   "cell_type": "code",
   "execution_count": 35,
   "id": "a955f2a0-ec5e-4dc9-b6f6-0bf007d7d040",
   "metadata": {},
   "outputs": [
    {
     "name": "stdout",
     "output_type": "stream",
     "text": [
      "{'January': 1, 'February': 2, 'March': 3, 'December': 12}\n"
     ]
    }
   ],
   "source": [
    "months['December'] = 12\n",
    "\n",
    "print(months)"
   ]
  },
  {
   "cell_type": "code",
   "execution_count": 38,
   "id": "51abeb89-26fc-4aaa-ade8-ac78024db370",
   "metadata": {},
   "outputs": [
    {
     "name": "stdout",
     "output_type": "stream",
     "text": [
      "January February March December "
     ]
    }
   ],
   "source": [
    "# months_view is just a view of months, thus it changes when months changes\n",
    "\n",
    "for key in months_view: \n",
    "    print(key, end=' ')"
   ]
  },
  {
   "cell_type": "markdown",
   "id": "9ade146a-bff5-4725-aa2b-257223f6908a",
   "metadata": {},
   "source": [
    "**Converting dictionary keys, values and key-value pairs to lists**"
   ]
  },
  {
   "cell_type": "code",
   "execution_count": 41,
   "id": "8d2450f4-1655-47fb-abaf-ae59b15591b0",
   "metadata": {},
   "outputs": [
    {
     "name": "stdout",
     "output_type": "stream",
     "text": [
      "['January', 'February', 'March', 'December']\n"
     ]
    }
   ],
   "source": [
    "list1 = (list(months.keys()))\n",
    "print(list1)\n"
   ]
  },
  {
   "cell_type": "code",
   "execution_count": 42,
   "id": "a3514c22-f559-4575-8f47-eb2414ac6f7a",
   "metadata": {},
   "outputs": [
    {
     "name": "stdout",
     "output_type": "stream",
     "text": [
      "[1, 2, 3, 12]\n"
     ]
    }
   ],
   "source": [
    "list2 = (list(months.values()))\n",
    "print(list2)"
   ]
  },
  {
   "cell_type": "code",
   "execution_count": 43,
   "id": "7bc3ee46-4bde-4f8e-9576-585bf8260805",
   "metadata": {},
   "outputs": [
    {
     "name": "stdout",
     "output_type": "stream",
     "text": [
      "[('January', 1), ('February', 2), ('March', 3), ('December', 12)]\n"
     ]
    }
   ],
   "source": [
    "list3 = (list(months.items()))\n",
    "print(list3)"
   ]
  },
  {
   "cell_type": "markdown",
   "id": "baf08923-c66e-47e0-bc27-926db7942169",
   "metadata": {},
   "source": [
    "**Processing keys in sorted order**"
   ]
  },
  {
   "cell_type": "code",
   "execution_count": 44,
   "id": "c8fc679d-7e50-4105-b498-0566a7328cec",
   "metadata": {},
   "outputs": [
    {
     "name": "stdout",
     "output_type": "stream",
     "text": [
      "December February January March "
     ]
    }
   ],
   "source": [
    "for month_name in sorted(months.keys()):\n",
    "    print(month_name, end=' ')"
   ]
  },
  {
   "cell_type": "code",
   "execution_count": 48,
   "id": "8dc8ecc0-6689-4683-b8b6-ae4cd8643742",
   "metadata": {},
   "outputs": [
    {
     "name": "stdout",
     "output_type": "stream",
     "text": [
      "1 2 3 12 "
     ]
    }
   ],
   "source": [
    "for number in sorted(months.values()):\n",
    "    print(number, end=' ')"
   ]
  },
  {
   "cell_type": "markdown",
   "id": "d61c5f62-3b4f-47b5-a3e6-aa41748f751a",
   "metadata": {},
   "source": [
    "### 6.2.4 Self Check"
   ]
  },
  {
   "cell_type": "code",
   "execution_count": 56,
   "id": "5c5a5667-8604-48e6-94a3-143e59929c77",
   "metadata": {},
   "outputs": [
    {
     "name": "stdout",
     "output_type": "stream",
     "text": [
      "['I', 'II', 'IV', 'V', 'L', 'x', 'X']\n",
      "[1, 2, 4, 5, 50, 10, 100]\n",
      "[('I', 1), ('II', 2), ('IV', 4), ('V', 5), ('L', 50), ('x', 10), ('X', 100)]\n"
     ]
    }
   ],
   "source": [
    "list5 = list(roman_numerals.keys())\n",
    "print(list5)\n",
    "\n",
    "list6 = list(roman_numerals.values())\n",
    "print(list6)\n",
    "\n",
    "list7 = list(roman_numerals.items())\n",
    "print(list7)"
   ]
  },
  {
   "cell_type": "markdown",
   "id": "7fb7a857-f7cd-4bc9-99ad-f102876a8e4f",
   "metadata": {},
   "source": [
    "**Dictionary comparisons**"
   ]
  },
  {
   "cell_type": "code",
   "execution_count": 59,
   "id": "3ea53e57-ac9b-41e8-b794-83d16792d7fe",
   "metadata": {},
   "outputs": [
    {
     "data": {
      "text/plain": [
       "False"
      ]
     },
     "execution_count": 59,
     "metadata": {},
     "output_type": "execute_result"
    }
   ],
   "source": [
    "country_capitals1 = {'Belgium': 'Brussels',\n",
    "                     'Haiti': 'Port-au-Prince'}\n",
    "\n",
    "country_capitals2 = {'Nepal': 'Kathmandu',\n",
    "                     'Uruguay': 'Montevideo'}\n",
    "\n",
    "country_capitals3 = {'Haiti': 'Port-au-Prince',\n",
    "                     'Belgium': 'Brussels'}\n",
    "\n",
    "country_capitals1 == country_capitals2"
   ]
  },
  {
   "cell_type": "code",
   "execution_count": 60,
   "id": "65bfb712-9f2a-4cfb-8d49-dc37a175bcec",
   "metadata": {},
   "outputs": [
    {
     "data": {
      "text/plain": [
       "True"
      ]
     },
     "execution_count": 60,
     "metadata": {},
     "output_type": "execute_result"
    }
   ],
   "source": [
    "country_capitals1 == country_capitals3"
   ]
  },
  {
   "cell_type": "code",
   "execution_count": 61,
   "id": "e47761bb-323f-488f-b62d-ff39b704987e",
   "metadata": {},
   "outputs": [
    {
     "data": {
      "text/plain": [
       "True"
      ]
     },
     "execution_count": 61,
     "metadata": {},
     "output_type": "execute_result"
    }
   ],
   "source": [
    "country_capitals1 != country_capitals2"
   ]
  },
  {
   "cell_type": "markdown",
   "id": "4b5f1d1a-57bc-4a3a-aa1e-d0a1cb9d8b25",
   "metadata": {},
   "source": [
    "**Python standard library module collections**: the module collections contains the type Counter, which recieves an iterable and summarizes its elements"
   ]
  },
  {
   "cell_type": "code",
   "execution_count": 64,
   "id": "2b3e320e-554a-43a0-a856-069c12126bfe",
   "metadata": {},
   "outputs": [
    {
     "name": "stdout",
     "output_type": "stream",
     "text": [
      "different   1\n",
      "is          2\n",
      "more        1\n",
      "sample      2\n",
      "several     1\n",
      "some        1\n",
      "text        2\n",
      "this        2\n",
      "with        2\n",
      "words       2\n",
      "Number of unique keys: 10\n"
     ]
    }
   ],
   "source": [
    "from collections import Counter\n",
    "\n",
    "text = ('this is sample text with several words '\n",
    "        'this is more sample text with some different words')\n",
    "\n",
    "counter = Counter(text.split())\n",
    "\n",
    "for word, count in sorted(counter.items()):\n",
    "    print(f'{word:<12}{count}')\n",
    "\n",
    "print('Number of unique keys:', len(counter.keys()))"
   ]
  },
  {
   "cell_type": "markdown",
   "id": "eb014321-85de-4757-a3ee-0770fa86e997",
   "metadata": {},
   "source": [
    "### 6.2.7 Self Check"
   ]
  },
  {
   "cell_type": "code",
   "execution_count": 71,
   "id": "a7c63094-8627-4f8e-af77-bb56be8ef547",
   "metadata": {},
   "outputs": [
    {
     "name": "stdout",
     "output_type": "stream",
     "text": [
      "1            11\n",
      "2            11\n",
      "3            2\n",
      "4            12\n",
      "5            14\n"
     ]
    }
   ],
   "source": [
    "import random\n",
    "\n",
    "list50 = [random.randrange(1, 6) for i in range(50)]\n",
    "\n",
    "from collections import Counter\n",
    "\n",
    "counter = Counter(list50)\n",
    "\n",
    "for number, count in sorted(counter.items()):\n",
    "    print(f'{number:<12} {count}')\n",
    "\n",
    "          "
   ]
  },
  {
   "cell_type": "markdown",
   "id": "c79bf98f-4ab2-4202-a433-54053092244b",
   "metadata": {},
   "source": [
    "**Dictionary method update**: You may insert and update key-value pairs using dictionary method update."
   ]
  },
  {
   "cell_type": "code",
   "execution_count": 72,
   "id": "cd62d9d0-db95-442c-92d0-b4338c7dab7a",
   "metadata": {},
   "outputs": [],
   "source": [
    "country_codes = {}"
   ]
  },
  {
   "cell_type": "code",
   "execution_count": 73,
   "id": "a1fad414-73d3-40bc-8afb-7f4676bb5076",
   "metadata": {},
   "outputs": [
    {
     "name": "stdout",
     "output_type": "stream",
     "text": [
      "{'South Africa': 'za'}\n"
     ]
    }
   ],
   "source": [
    "country_codes.update({'South Africa': 'za'})\n",
    "print(country_codes)"
   ]
  },
  {
   "cell_type": "code",
   "execution_count": 78,
   "id": "e6ab87ae-d022-4e5a-9758-531a1a4acb71",
   "metadata": {},
   "outputs": [
    {
     "name": "stdout",
     "output_type": "stream",
     "text": [
      "{'South Africa': 'za', 'Australia': 'ar'}\n",
      "{'South Africa': 'za', 'Australia': 'ar', 'United_States': 'us'}\n"
     ]
    }
   ],
   "source": [
    "country_codes.update(Australia='ar')\n",
    "print(country_codes)\n",
    "\n",
    "country_codes.update(United_States='us')\n",
    "print(country_codes)"
   ]
  },
  {
   "cell_type": "code",
   "execution_count": 79,
   "id": "fd8e227d-178b-4ee5-9bb6-d4fdec063a6e",
   "metadata": {},
   "outputs": [
    {
     "name": "stdout",
     "output_type": "stream",
     "text": [
      "{'South Africa': 'za', 'Australia': 'au', 'United_States': 'us'}\n"
     ]
    }
   ],
   "source": [
    "country_codes.update(Australia='au')\n",
    "print(country_codes)"
   ]
  },
  {
   "cell_type": "markdown",
   "id": "10f16d8a-c454-40d3-b800-51ee23c56064",
   "metadata": {},
   "source": [
    "**Dictionary Comprehensions**: in a dictionary with unique values, you can reverse the key-value pairs"
   ]
  },
  {
   "cell_type": "code",
   "execution_count": 80,
   "id": "f41b8b33-56bb-4d61-af79-1d9e3a3797fe",
   "metadata": {},
   "outputs": [
    {
     "name": "stdout",
     "output_type": "stream",
     "text": [
      "{'January': 1, 'February': 2, 'March': 3, 'December': 12}\n"
     ]
    }
   ],
   "source": [
    "print(months)"
   ]
  },
  {
   "cell_type": "code",
   "execution_count": 81,
   "id": "99fbe81d-c6be-494b-a6ce-7b5a1a8cc009",
   "metadata": {},
   "outputs": [
    {
     "name": "stdout",
     "output_type": "stream",
     "text": [
      "{1: 'January', 2: 'February', 3: 'March', 12: 'December'}\n"
     ]
    }
   ],
   "source": [
    "months2 = {number: name for name, number in months.items()}\n",
    "print(months2)"
   ]
  },
  {
   "cell_type": "markdown",
   "id": "796be514-4e18-4261-b26a-c762ed67f537",
   "metadata": {},
   "source": [
    "Convert a dictionary of names and list of grades into a dictionary of names and grade-point averages. (k and v commonly mean key and value)"
   ]
  },
  {
   "cell_type": "code",
   "execution_count": 83,
   "id": "a9513d99-47cf-4f3e-8a9a-d33a81da83f2",
   "metadata": {},
   "outputs": [
    {
     "name": "stdout",
     "output_type": "stream",
     "text": [
      "{'Sue': 93.0, 'Bob': 90.0}\n"
     ]
    }
   ],
   "source": [
    "grades = {'Sue': [98, 87, 94], 'Bob': [84, 95, 91]}\n",
    "\n",
    "grades2 = {k: sum(v) / len(v) for k, v in grades.items()}\n",
    "print(grades2)"
   ]
  },
  {
   "cell_type": "markdown",
   "id": "445b9227-4a8c-4c3b-ab9d-6283c3270dcf",
   "metadata": {},
   "source": [
    "### 6.2.9 Self Check"
   ]
  },
  {
   "cell_type": "code",
   "execution_count": 87,
   "id": "fcd44ccb-ac7d-4fd0-aee3-f4326ec1825a",
   "metadata": {},
   "outputs": [
    {
     "name": "stdout",
     "output_type": "stream",
     "text": [
      "{1: 1, 2: 8, 3: 27, 4: 64, 5: 125}\n"
     ]
    }
   ],
   "source": [
    "dict5 = {number: number ** 3 for number in range(1, 6)}\n",
    "print(dict5)"
   ]
  },
  {
   "cell_type": "markdown",
   "id": "0c7036d0-db97-49e9-ba99-f3ee92d6d7be",
   "metadata": {},
   "source": [
    "### 6.3 Sets"
   ]
  },
  {
   "cell_type": "markdown",
   "id": "ec7d23b7-703e-4613-bd02-925124275cf4",
   "metadata": {},
   "source": [
    "A set is an unordered collection of unique values. Sets may contain only immutable objects. They are iterable but do not support indexing and slicing with [].\n"
   ]
  },
  {
   "cell_type": "code",
   "execution_count": 2,
   "id": "8bd25587-3a14-487a-94c6-4e8423cb75a2",
   "metadata": {},
   "outputs": [
    {
     "name": "stdout",
     "output_type": "stream",
     "text": [
      "{'blue', 'orange', 'red', 'green', 'yellow'}\n"
     ]
    }
   ],
   "source": [
    "colors = {'red', 'orange', 'yellow', 'green', 'red', 'blue'} # The duplicate 'red' is ignored.\n",
    "print(colors)"
   ]
  },
  {
   "cell_type": "code",
   "execution_count": 3,
   "id": "770e2357-08dd-48e0-b050-99dce583e08a",
   "metadata": {},
   "outputs": [
    {
     "name": "stdout",
     "output_type": "stream",
     "text": [
      "5\n"
     ]
    }
   ],
   "source": [
    "print(len(colors))"
   ]
  },
  {
   "cell_type": "code",
   "execution_count": 6,
   "id": "4423a82d-8592-49e6-945f-290d7c68b3db",
   "metadata": {},
   "outputs": [
    {
     "data": {
      "text/plain": [
       "True"
      ]
     },
     "execution_count": 6,
     "metadata": {},
     "output_type": "execute_result"
    }
   ],
   "source": [
    "'red' in colors"
   ]
  },
  {
   "cell_type": "code",
   "execution_count": 7,
   "id": "75d84075-b8d5-415a-8d56-cab253cb0f0e",
   "metadata": {},
   "outputs": [
    {
     "data": {
      "text/plain": [
       "True"
      ]
     },
     "execution_count": 7,
     "metadata": {},
     "output_type": "execute_result"
    }
   ],
   "source": [
    "'purple' not in colors"
   ]
  },
  {
   "cell_type": "code",
   "execution_count": 12,
   "id": "bf85fcb5-9f8e-4430-8a40-22e9e03490c2",
   "metadata": {},
   "outputs": [
    {
     "name": "stdout",
     "output_type": "stream",
     "text": [
      "BLUE ORANGE RED GREEN YELLOW "
     ]
    }
   ],
   "source": [
    "for color in colors:\n",
    "    print(color.upper(), end=' ')"
   ]
  },
  {
   "cell_type": "markdown",
   "id": "cbb6a858-47d4-4c53-9672-244d26dd6e31",
   "metadata": {},
   "source": [
    "**Creating a set with the built-in set function**"
   ]
  },
  {
   "cell_type": "code",
   "execution_count": 13,
   "id": "ede1bd60-6dad-4cb5-85c5-90d30aa5f189",
   "metadata": {},
   "outputs": [
    {
     "name": "stdout",
     "output_type": "stream",
     "text": [
      "[0, 1, 2, 3, 4, 5, 6, 7, 8, 9, 0, 1, 2, 3, 4]\n"
     ]
    }
   ],
   "source": [
    "numbers = list(range(10)) + list(range(5))\n",
    "\n",
    "print(numbers)"
   ]
  },
  {
   "cell_type": "code",
   "execution_count": 14,
   "id": "de96e61c-9bed-458b-ae24-3176ac57ff58",
   "metadata": {},
   "outputs": [
    {
     "data": {
      "text/plain": [
       "{0, 1, 2, 3, 4, 5, 6, 7, 8, 9}"
      ]
     },
     "execution_count": 14,
     "metadata": {},
     "output_type": "execute_result"
    }
   ],
   "source": [
    "set(numbers)"
   ]
  },
  {
   "cell_type": "markdown",
   "id": "24765927-402f-4a5a-ae49-ad80e5f6ab51",
   "metadata": {},
   "source": [
    "**Create an empty set**"
   ]
  },
  {
   "cell_type": "code",
   "execution_count": 15,
   "id": "f0c4ed27-b937-45c0-bf4b-f122de058298",
   "metadata": {},
   "outputs": [
    {
     "data": {
      "text/plain": [
       "set()"
      ]
     },
     "execution_count": 15,
     "metadata": {},
     "output_type": "execute_result"
    }
   ],
   "source": [
    "set()"
   ]
  },
  {
   "cell_type": "markdown",
   "id": "f4c9209a-d3ea-415f-84df-f0d9c629dc25",
   "metadata": {},
   "source": [
    "**Frozenset**: built-in function frozenset creates a frozenset from any iterable"
   ]
  },
  {
   "cell_type": "markdown",
   "id": "849bcf35-63d1-450b-a56d-32a35152a920",
   "metadata": {},
   "source": [
    "### 6.3 Self Check"
   ]
  },
  {
   "cell_type": "code",
   "execution_count": 21,
   "id": "41f41ef4-f615-41e7-a67b-d5b93ba209ae",
   "metadata": {},
   "outputs": [
    {
     "name": "stdout",
     "output_type": "stream",
     "text": [
      "be is not or question that the to "
     ]
    }
   ],
   "source": [
    "text = 'to be or not to be that is the question'\n",
    "split_text = text.split()\n",
    "set_text = set(split_text)\n",
    "for word in sorted(set_text):\n",
    "    print(word, end=' ')"
   ]
  },
  {
   "cell_type": "markdown",
   "id": "12d0a155-4fa4-4f3e-a44f-179ccc5e5802",
   "metadata": {},
   "source": [
    "**Comparing sets**"
   ]
  },
  {
   "cell_type": "code",
   "execution_count": 24,
   "id": "11d66547-c6c6-4d24-8449-0c0ae94d7d6a",
   "metadata": {},
   "outputs": [
    {
     "data": {
      "text/plain": [
       "True"
      ]
     },
     "execution_count": 24,
     "metadata": {},
     "output_type": "execute_result"
    }
   ],
   "source": [
    "{1, 3 , 5} == {3, 5, 1}"
   ]
  },
  {
   "cell_type": "markdown",
   "id": "27ddba9a-679c-4ce9-b4a5-885ee2af71f0",
   "metadata": {},
   "source": [
    "The < operator tests whether the set to its left is a **proper subset** of the one to its rights. (All elements in the left operand are in the right, and the sets are **not equal**. The <= operator tests whether the set to its left is an **improper subset** of the one to its right. All the elements in the left operand are in the right operand, and the sets might be equal."
   ]
  },
  {
   "cell_type": "code",
   "execution_count": 28,
   "id": "725d0c00-c05b-44cb-8594-2b25a67e157d",
   "metadata": {},
   "outputs": [
    {
     "data": {
      "text/plain": [
       "False"
      ]
     },
     "execution_count": 28,
     "metadata": {},
     "output_type": "execute_result"
    }
   ],
   "source": [
    "{1, 3, 5} < {3, 5, 1}"
   ]
  },
  {
   "cell_type": "code",
   "execution_count": 26,
   "id": "22f23a71-0d67-4d01-97cf-9eb8423056ab",
   "metadata": {
    "tags": []
   },
   "outputs": [
    {
     "data": {
      "text/plain": [
       "True"
      ]
     },
     "execution_count": 26,
     "metadata": {},
     "output_type": "execute_result"
    }
   ],
   "source": [
    "{1, 3, 5} <= {1, 3, 5, 7}"
   ]
  },
  {
   "cell_type": "code",
   "execution_count": 29,
   "id": "085a4f2e-e46f-48e5-b6fb-a47611c7fbc1",
   "metadata": {},
   "outputs": [
    {
     "data": {
      "text/plain": [
       "True"
      ]
     },
     "execution_count": 29,
     "metadata": {},
     "output_type": "execute_result"
    }
   ],
   "source": [
    "{1, 3, 5} <= {3, 5, 1}"
   ]
  },
  {
   "cell_type": "markdown",
   "id": "956a0c03-0ded-474d-acbe-0292fdeda4cb",
   "metadata": {},
   "source": [
    "The set method **issubset** may check for an improper subset."
   ]
  },
  {
   "cell_type": "code",
   "execution_count": 30,
   "id": "c788e36f-5357-4ffe-941b-83f9a00c9aa2",
   "metadata": {},
   "outputs": [
    {
     "data": {
      "text/plain": [
       "True"
      ]
     },
     "execution_count": 30,
     "metadata": {},
     "output_type": "execute_result"
    }
   ],
   "source": [
    "{1, 3, 5}.issubset({3, 5, 1})"
   ]
  },
  {
   "cell_type": "code",
   "execution_count": 31,
   "id": "cd5d7c4f-a092-4585-8036-740e276542df",
   "metadata": {},
   "outputs": [
    {
     "data": {
      "text/plain": [
       "False"
      ]
     },
     "execution_count": 31,
     "metadata": {},
     "output_type": "execute_result"
    }
   ],
   "source": [
    "{1, 2}.issubset({3, 5, 1})"
   ]
  },
  {
   "cell_type": "markdown",
   "id": "b73b912a-cd7b-4cf1-be3a-2bccd94bde46",
   "metadata": {},
   "source": [
    "The set method **issuperset** may check for an improper superset."
   ]
  },
  {
   "cell_type": "code",
   "execution_count": 32,
   "id": "afefe5b6-b910-4b31-9186-aa3dd1b68e27",
   "metadata": {},
   "outputs": [
    {
     "data": {
      "text/plain": [
       "True"
      ]
     },
     "execution_count": 32,
     "metadata": {},
     "output_type": "execute_result"
    }
   ],
   "source": [
    "{1, 3, 5}.issuperset({3, 5, 1})"
   ]
  },
  {
   "cell_type": "markdown",
   "id": "1cd2aed5-9a38-4ac0-9722-003aacc4413b",
   "metadata": {},
   "source": [
    "The argument to issubset or issuperset can be any iterable, but converts the interable to a set before performing the operation."
   ]
  },
  {
   "cell_type": "markdown",
   "id": "3fcd667e-098c-4da3-b17b-cd4d0e46c610",
   "metadata": {},
   "source": [
    "### 6.3.1 Self Check"
   ]
  },
  {
   "cell_type": "code",
   "execution_count": 34,
   "id": "240baa20-a2a8-4575-8312-ec0c359565aa",
   "metadata": {},
   "outputs": [
    {
     "data": {
      "text/plain": [
       "True"
      ]
     },
     "execution_count": 34,
     "metadata": {},
     "output_type": "execute_result"
    }
   ],
   "source": [
    "set('abc def ghi jkl mno').issuperset(set('hi mom'))"
   ]
  },
  {
   "cell_type": "markdown",
   "id": "fe7b8b13-fc3e-4af3-bae5-195051c9ba75",
   "metadata": {},
   "source": [
    "### 6.3.2 Mathematical Set Operations"
   ]
  },
  {
   "cell_type": "markdown",
   "id": "6c98f4f5-27d2-4da3-b1cc-0062654e80a4",
   "metadata": {},
   "source": [
    "The **union** of two sets is a set consisting of all the unique elements from both sets"
   ]
  },
  {
   "cell_type": "code",
   "execution_count": 35,
   "id": "2a518fe7-a89e-48db-9816-c3243def04cd",
   "metadata": {},
   "outputs": [
    {
     "name": "stdout",
     "output_type": "stream",
     "text": [
      "{1, 2, 3, 4, 5}\n"
     ]
    }
   ],
   "source": [
    "print({1, 3, 5} | {2, 3, 4}) # Both operands must be sets"
   ]
  },
  {
   "cell_type": "code",
   "execution_count": 38,
   "id": "78104f9e-a405-4f14-b50a-81d3caad9eb7",
   "metadata": {},
   "outputs": [
    {
     "name": "stdout",
     "output_type": "stream",
     "text": [
      "{1, 2, 3, 4, 5}\n"
     ]
    }
   ],
   "source": [
    "print({1, 3, 5}.union([2, 3, 4])) # The union method converts the iterable argument to a set"
   ]
  },
  {
   "cell_type": "markdown",
   "id": "cc727001-461e-435b-abed-a4caa24c70e8",
   "metadata": {},
   "source": [
    "The **intersection** of two sets is a set consisting of all the unique elements that the two sets have in common."
   ]
  },
  {
   "cell_type": "code",
   "execution_count": 39,
   "id": "56159359-eab6-4ea3-8d90-a07cfe7f38a0",
   "metadata": {},
   "outputs": [
    {
     "name": "stdout",
     "output_type": "stream",
     "text": [
      "{3}\n"
     ]
    }
   ],
   "source": [
    "print({1, 3, 5} & {2, 3, 4})"
   ]
  },
  {
   "cell_type": "code",
   "execution_count": 40,
   "id": "2d1e01be-6b8f-41f6-b2b2-e03a478e88e2",
   "metadata": {},
   "outputs": [
    {
     "name": "stdout",
     "output_type": "stream",
     "text": [
      "{1, 3}\n"
     ]
    }
   ],
   "source": [
    "print({1, 3, 5}.intersection([1, 2, 2, 3, 3, 4, 4]))"
   ]
  },
  {
   "cell_type": "markdown",
   "id": "5b21af3a-01ed-4ed3-b1a7-3d24a6095c89",
   "metadata": {},
   "source": [
    "The **difference** between two sets is a set consisting of the elements in the left operand that are not in the right operand."
   ]
  },
  {
   "cell_type": "code",
   "execution_count": 41,
   "id": "adc8d538-9426-446a-897b-48a799f7ffdf",
   "metadata": {},
   "outputs": [
    {
     "data": {
      "text/plain": [
       "{1, 5}"
      ]
     },
     "execution_count": 41,
     "metadata": {},
     "output_type": "execute_result"
    }
   ],
   "source": [
    "{1, 3, 5} - {2, 3, 4}"
   ]
  },
  {
   "cell_type": "code",
   "execution_count": 44,
   "id": "2c257742-9622-4c04-b971-ccd841c2b999",
   "metadata": {},
   "outputs": [
    {
     "data": {
      "text/plain": [
       "{1, 5, 7}"
      ]
     },
     "execution_count": 44,
     "metadata": {},
     "output_type": "execute_result"
    }
   ],
   "source": [
    "{1, 3, 5, 7}.difference([2, 2, 3, 3, 4, 4])"
   ]
  },
  {
   "cell_type": "markdown",
   "id": "c41d6175-4b4e-4871-9e91-268d1cb7d63f",
   "metadata": {},
   "source": [
    "The **symmetric difference** between two sets is a set consisting of the elements of both sets that are not in common with one another."
   ]
  },
  {
   "cell_type": "code",
   "execution_count": 45,
   "id": "13238756-c328-482b-8e7e-44a3593b4d0a",
   "metadata": {},
   "outputs": [
    {
     "data": {
      "text/plain": [
       "{1, 2, 4, 5}"
      ]
     },
     "execution_count": 45,
     "metadata": {},
     "output_type": "execute_result"
    }
   ],
   "source": [
    "{1, 3, 5} ^ {2, 3, 4}"
   ]
  },
  {
   "cell_type": "code",
   "execution_count": 46,
   "id": "9a4281cc-e237-414e-a9d2-8b8d43178775",
   "metadata": {},
   "outputs": [
    {
     "data": {
      "text/plain": [
       "{1, 2, 4, 5, 7}"
      ]
     },
     "execution_count": 46,
     "metadata": {},
     "output_type": "execute_result"
    }
   ],
   "source": [
    "{1, 3, 5, 7}.symmetric_difference([2, 2, 3, 3, 4, 4])"
   ]
  },
  {
   "cell_type": "markdown",
   "id": "c011aa50-d340-400a-89ac-809345086497",
   "metadata": {},
   "source": [
    "Two sets are **disjoint** if they do not have any common elements"
   ]
  },
  {
   "cell_type": "code",
   "execution_count": 47,
   "id": "85e9278c-5d5f-4c17-ad36-38d79abe62e5",
   "metadata": {},
   "outputs": [
    {
     "data": {
      "text/plain": [
       "True"
      ]
     },
     "execution_count": 47,
     "metadata": {},
     "output_type": "execute_result"
    }
   ],
   "source": [
    "{1, 3, 5}.isdisjoint({2, 4, 6})"
   ]
  },
  {
   "cell_type": "code",
   "execution_count": 48,
   "id": "faba5a41-1ed3-4334-8bb0-e3b55b2ca639",
   "metadata": {},
   "outputs": [
    {
     "data": {
      "text/plain": [
       "False"
      ]
     },
     "execution_count": 48,
     "metadata": {},
     "output_type": "execute_result"
    }
   ],
   "source": [
    "{1, 3, 5}.isdisjoint({4, 6, 1})"
   ]
  },
  {
   "cell_type": "markdown",
   "id": "b6c9b3cf-b475-4c1c-aa5c-4f69d3b45b64",
   "metadata": {},
   "source": [
    "### 6.3.2 Self Check"
   ]
  },
  {
   "cell_type": "code",
   "execution_count": 49,
   "id": "cc038dcd-7d27-4a85-bfcd-ec476b3de559",
   "metadata": {},
   "outputs": [],
   "source": [
    "a = {10, 20, 30}\n",
    "b = {5, 10, 15, 20}"
   ]
  },
  {
   "cell_type": "code",
   "execution_count": 56,
   "id": "c1884d9c-4542-48e4-9f42-beba85708233",
   "metadata": {},
   "outputs": [
    {
     "name": "stdout",
     "output_type": "stream",
     "text": [
      "{30}\n"
     ]
    }
   ],
   "source": [
    "print(a - b)"
   ]
  },
  {
   "cell_type": "code",
   "execution_count": 52,
   "id": "b4669741-38e9-4696-bac9-bbfed1bb9534",
   "metadata": {},
   "outputs": [
    {
     "data": {
      "text/plain": [
       "{5, 15, 30}"
      ]
     },
     "execution_count": 52,
     "metadata": {},
     "output_type": "execute_result"
    }
   ],
   "source": [
    "a.symmetric_difference(b)"
   ]
  },
  {
   "cell_type": "code",
   "execution_count": 54,
   "id": "5db7573c-41b1-4377-b5de-b03140c121d2",
   "metadata": {},
   "outputs": [
    {
     "name": "stdout",
     "output_type": "stream",
     "text": [
      "{20, 5, 10, 30, 15}\n"
     ]
    }
   ],
   "source": [
    "print(a.union(b))"
   ]
  },
  {
   "cell_type": "code",
   "execution_count": 55,
   "id": "40aa07f9-e3a2-49c3-b739-d5f017cd8069",
   "metadata": {},
   "outputs": [
    {
     "name": "stdout",
     "output_type": "stream",
     "text": [
      "{10, 20}\n"
     ]
    }
   ],
   "source": [
    "print(a.intersection(b))"
   ]
  },
  {
   "cell_type": "markdown",
   "id": "2dcfc8e9-4e0d-44be-854d-0850af1eedd7",
   "metadata": {},
   "source": [
    "### 6.3.3 Mutable Set Operators and Methods"
   ]
  },
  {
   "cell_type": "markdown",
   "id": "98be3096-77db-4350-8a11-68b6df9657fc",
   "metadata": {},
   "source": [
    "**Union augmented assignment (|=)** performs a set union operation, but modifies its left operand."
   ]
  },
  {
   "cell_type": "code",
   "execution_count": 57,
   "id": "6151869d-d58c-4020-b92d-f2e5a314a950",
   "metadata": {},
   "outputs": [
    {
     "name": "stdout",
     "output_type": "stream",
     "text": [
      "{1, 2, 3, 4, 5}\n"
     ]
    }
   ],
   "source": [
    "numbers = {1, 3, 5}\n",
    "\n",
    "numbers |= {2, 3, 4}\n",
    "\n",
    "print(numbers)"
   ]
  },
  {
   "cell_type": "markdown",
   "id": "6f22b0fc-1828-4271-9101-abf71ef4ff56",
   "metadata": {},
   "source": [
    "The method **update** performs a union operation modifying the set on which it's called. The argument can be any iterable."
   ]
  },
  {
   "cell_type": "code",
   "execution_count": 58,
   "id": "4e4b0407-fa60-49c9-a383-f9c4d6be2c6f",
   "metadata": {},
   "outputs": [
    {
     "name": "stdout",
     "output_type": "stream",
     "text": [
      "{0, 1, 2, 3, 4, 5, 6, 7, 8, 9}\n"
     ]
    }
   ],
   "source": [
    "numbers.update(range(10))\n",
    "print(numbers)"
   ]
  },
  {
   "cell_type": "markdown",
   "id": "c69c1958-edb4-4a7b-bd34-47ed6dfaaf24",
   "metadata": {},
   "source": [
    "Other mutable set methods:\n",
    "- intersection_update (&=)\n",
    "- difference_update (-=)\n",
    "- symmetric_difference_update (^=)\n"
   ]
  },
  {
   "cell_type": "markdown",
   "id": "a1096e91-9988-4371-a6af-1fc12ce522f3",
   "metadata": {},
   "source": [
    "**Methods for adding and removing elements**"
   ]
  },
  {
   "cell_type": "code",
   "execution_count": 59,
   "id": "ff278ba3-e4b4-43bb-9973-e5665ecd4f9b",
   "metadata": {},
   "outputs": [
    {
     "name": "stdout",
     "output_type": "stream",
     "text": [
      "{0, 1, 2, 3, 4, 5, 6, 7, 8, 9, 17}\n"
     ]
    }
   ],
   "source": [
    "numbers.add(17)\n",
    "print(numbers)"
   ]
  },
  {
   "cell_type": "code",
   "execution_count": 60,
   "id": "78841e69-b06c-45c2-8997-17d814ffbf8f",
   "metadata": {},
   "outputs": [
    {
     "name": "stdout",
     "output_type": "stream",
     "text": [
      "{0, 1, 2, 4, 5, 6, 7, 8, 9, 17}\n"
     ]
    }
   ],
   "source": [
    "numbers.remove(3)\n",
    "print(numbers)"
   ]
  },
  {
   "cell_type": "code",
   "execution_count": 62,
   "id": "9d657ce4-f68f-4a42-80b5-36b7f632f896",
   "metadata": {},
   "outputs": [
    {
     "name": "stdout",
     "output_type": "stream",
     "text": [
      "{0, 1, 2, 4, 5, 6, 7, 8, 9}\n"
     ]
    }
   ],
   "source": [
    "numbers.discard(17) # Same as remove, but will not cause an exception if the value is not in the set\n",
    "print(numbers)"
   ]
  },
  {
   "cell_type": "code",
   "execution_count": 64,
   "id": "b768c857-0f9b-4986-bc2d-8c9762bcd3fc",
   "metadata": {},
   "outputs": [
    {
     "name": "stdout",
     "output_type": "stream",
     "text": [
      "{2, 4, 5, 6, 7, 8, 9}\n"
     ]
    }
   ],
   "source": [
    "numbers.pop() # Sets are unordered, so you do not know which element will be \"popped\"\n",
    "print(numbers)"
   ]
  },
  {
   "cell_type": "code",
   "execution_count": 65,
   "id": "5e733e70-f6d1-4793-9c72-ff0c5cd5ca67",
   "metadata": {},
   "outputs": [
    {
     "name": "stdout",
     "output_type": "stream",
     "text": [
      "set()\n"
     ]
    }
   ],
   "source": [
    "numbers.clear()\n",
    "print(numbers)"
   ]
  },
  {
   "cell_type": "markdown",
   "id": "38eb71c7-7c30-4bc3-a570-fafba284915c",
   "metadata": {},
   "source": [
    "### 6.3.4 Set Comprehension"
   ]
  },
  {
   "cell_type": "code",
   "execution_count": 67,
   "id": "aaea10ae-f9e3-41d5-b273-1b3a46a99f09",
   "metadata": {},
   "outputs": [
    {
     "name": "stdout",
     "output_type": "stream",
     "text": [
      "{2, 4, 6, 8, 10}\n"
     ]
    }
   ],
   "source": [
    "numbers = [1, 2, 2, 3, 4, 5, 6, 6, 7, 8, 9, 10, 10]\n",
    "\n",
    "evens = {item for item in numbers if item % 2 == 0}\n",
    "\n",
    "print(evens)"
   ]
  }
 ],
 "metadata": {
  "kernelspec": {
   "display_name": "Python 3 (ipykernel)",
   "language": "python",
   "name": "python3"
  },
  "language_info": {
   "codemirror_mode": {
    "name": "ipython",
    "version": 3
   },
   "file_extension": ".py",
   "mimetype": "text/x-python",
   "name": "python",
   "nbconvert_exporter": "python",
   "pygments_lexer": "ipython3",
   "version": "3.9.7"
  }
 },
 "nbformat": 4,
 "nbformat_minor": 5
}
