{
 "cells": [
  {
   "cell_type": "markdown",
   "id": "2595fc88-71d8-4229-b26c-9f910497c000",
   "metadata": {},
   "source": [
    "# Chapter 6: Dictionaries and Sets"
   ]
  },
  {
   "cell_type": "markdown",
   "id": "12e4af1b-3b83-43d2-b988-277fd19a6a2e",
   "metadata": {},
   "source": [
    "### 6.2 Dictionaries"
   ]
  },
  {
   "cell_type": "markdown",
   "id": "94fcf03a-0284-4349-88ba-f911235fd1ce",
   "metadata": {},
   "source": [
    "A dictionary is an **unordered** collection which stores key-calue pairs. Each key maps to a specific value. A dictionary's keys must be immutable (such as strings, numbers, or tuples) and unique (no duplicates). Multiple keys can have the same value. "
   ]
  },
  {
   "cell_type": "code",
   "execution_count": 9,
   "id": "a55f3047-1bf9-40dd-968b-017ac565474a",
   "metadata": {},
   "outputs": [],
   "source": [
    "empty_dictionary = {}"
   ]
  },
  {
   "cell_type": "code",
   "execution_count": 8,
   "id": "0c11a276-a12b-4e0c-9f02-11846e498f66",
   "metadata": {},
   "outputs": [
    {
     "name": "stdout",
     "output_type": "stream",
     "text": [
      "<class 'dict'>\n",
      "{'Finland': 'fi', 'South Africa': 'za', 'Nepal': 'np'}\n"
     ]
    }
   ],
   "source": [
    "country_codes = {'Finland': 'fi', 'South Africa': 'za', 'Nepal': 'np'}\n",
    "\n",
    "print(type(country_codes))\n",
    "print(country_codes)"
   ]
  },
  {
   "cell_type": "markdown",
   "id": "03322109-3384-4708-b975-51c4c6a6427c",
   "metadata": {},
   "source": [
    "**Determining if a dictionary is empty**"
   ]
  },
  {
   "cell_type": "code",
   "execution_count": 3,
   "id": "ad500def-4058-4c74-b26a-953f5e817f88",
   "metadata": {},
   "outputs": [
    {
     "data": {
      "text/plain": [
       "3"
      ]
     },
     "execution_count": 3,
     "metadata": {},
     "output_type": "execute_result"
    }
   ],
   "source": [
    "len(country_codes)"
   ]
  },
  {
   "cell_type": "code",
   "execution_count": 4,
   "id": "aab4e1cf-fa04-4a06-92ee-9e9761a0f7e3",
   "metadata": {},
   "outputs": [
    {
     "name": "stdout",
     "output_type": "stream",
     "text": [
      "country_codes is not empty\n"
     ]
    }
   ],
   "source": [
    "if country_codes: #a non-empty dictionary evaluates to True\n",
    "    print('country_codes is not empty')\n",
    "else:\n",
    "    print('country_codes is empty')\n",
    "    "
   ]
  },
  {
   "cell_type": "code",
   "execution_count": 5,
   "id": "d2d1f66b-9424-4021-955e-6b273f9fab39",
   "metadata": {},
   "outputs": [
    {
     "name": "stdout",
     "output_type": "stream",
     "text": [
      "country_codes is empty\n"
     ]
    }
   ],
   "source": [
    "country_codes.clear()\n",
    "\n",
    "if country_codes: #a non-empty dictionary evaluates to True\n",
    "    print('country_codes is not empty')\n",
    "else:\n",
    "    print('country_codes is empty')"
   ]
  },
  {
   "cell_type": "markdown",
   "id": "ee6f02cb-0999-4fbd-8b91-a40ea9534eec",
   "metadata": {},
   "source": [
    "### 6.2.1 Self Check"
   ]
  },
  {
   "cell_type": "code",
   "execution_count": 6,
   "id": "e986531a-9750-48ac-ba1d-8ddbc7775409",
   "metadata": {},
   "outputs": [
    {
     "name": "stdout",
     "output_type": "stream",
     "text": [
      "{'Missouri': 'MO', 'Kansas': 'KS', 'Arizona': 'AZ'}\n"
     ]
    }
   ],
   "source": [
    "states = {'Missouri': 'MO', 'Kansas': 'KS', 'Arizona': 'AZ'}\n",
    "print(states)"
   ]
  },
  {
   "cell_type": "markdown",
   "id": "76845406-d036-49ab-80b4-2eae02eabe16",
   "metadata": {},
   "source": [
    "**Iterating through a dictionary**: Dictionary method **items** returns each key-value pair as a tuple that can be unpacked."
   ]
  },
  {
   "cell_type": "code",
   "execution_count": 7,
   "id": "c7a4c8be-fe70-4d75-a434-a94a6101f8f1",
   "metadata": {},
   "outputs": [
    {
     "name": "stdout",
     "output_type": "stream",
     "text": [
      "{'January': 31, 'February': 28, 'March': 31}\n"
     ]
    }
   ],
   "source": [
    "days_per_month = {'January': 31, 'February': 28, 'March': 31}\n",
    "\n",
    "print(days_per_month)"
   ]
  },
  {
   "cell_type": "code",
   "execution_count": 10,
   "id": "baa77be8-2770-41db-8eb7-84bf4e7ade16",
   "metadata": {},
   "outputs": [
    {
     "name": "stdout",
     "output_type": "stream",
     "text": [
      "January has 31 days\n",
      "February has 28 days\n",
      "March has 31 days\n"
     ]
    }
   ],
   "source": [
    "for month, days in days_per_month.items():\n",
    "    print(f'{month} has {days} days')"
   ]
  },
  {
   "cell_type": "markdown",
   "id": "839e892e-71ef-4a37-be60-c7c0c1d6dfa9",
   "metadata": {},
   "source": [
    "**Accessing the Value Associated with a key**"
   ]
  },
  {
   "cell_type": "code",
   "execution_count": 12,
   "id": "a6716ec2-cbee-4ee0-9fd6-8799ae65d376",
   "metadata": {},
   "outputs": [],
   "source": [
    "roman_numerals = {'I': 1, 'II': 2, 'III': 3, 'IV': 4, 'V': 5, 'X': 100}"
   ]
  },
  {
   "cell_type": "code",
   "execution_count": 13,
   "id": "f980fb4c-2073-4e78-90ff-5b423dc32f1e",
   "metadata": {},
   "outputs": [
    {
     "data": {
      "text/plain": [
       "5"
      ]
     },
     "execution_count": 13,
     "metadata": {},
     "output_type": "execute_result"
    }
   ],
   "source": [
    "roman_numerals['V']"
   ]
  },
  {
   "cell_type": "markdown",
   "id": "f41a3373-3f16-4f5d-8d18-9e0687e3b33e",
   "metadata": {},
   "source": [
    "**Updating the value of an existing key-value pair**"
   ]
  },
  {
   "cell_type": "code",
   "execution_count": 14,
   "id": "1ce6690f-9d20-47a8-8fce-d39cff71ed0f",
   "metadata": {},
   "outputs": [
    {
     "name": "stdout",
     "output_type": "stream",
     "text": [
      "{'I': 1, 'II': 2, 'III': 3, 'IV': 4, 'V': 5, 'X': 10}\n"
     ]
    }
   ],
   "source": [
    "roman_numerals['X'] = 10\n",
    "print(roman_numerals)"
   ]
  },
  {
   "cell_type": "markdown",
   "id": "999a7db3-9dd2-4289-bec1-64376dd2b873",
   "metadata": {},
   "source": [
    "**Adding a new key-value pair**"
   ]
  },
  {
   "cell_type": "code",
   "execution_count": 16,
   "id": "3f194f2d-c299-4793-8dcd-2449025d86f8",
   "metadata": {},
   "outputs": [
    {
     "name": "stdout",
     "output_type": "stream",
     "text": [
      "{'I': 1, 'II': 2, 'III': 3, 'IV': 4, 'V': 5, 'X': 10, 'L': 50}\n"
     ]
    }
   ],
   "source": [
    "roman_numerals['L'] = 50\n",
    "print(roman_numerals)"
   ]
  },
  {
   "cell_type": "markdown",
   "id": "d67102d1-085f-4f68-97a4-5e961715efbf",
   "metadata": {},
   "source": [
    "**Removing a key-value pair**"
   ]
  },
  {
   "cell_type": "code",
   "execution_count": 17,
   "id": "1ff3df01-cc3f-41a4-8266-9778c02e3e9a",
   "metadata": {},
   "outputs": [
    {
     "name": "stdout",
     "output_type": "stream",
     "text": [
      "{'I': 1, 'II': 2, 'IV': 4, 'V': 5, 'X': 10, 'L': 50}\n"
     ]
    }
   ],
   "source": [
    "del roman_numerals['III']\n",
    "print(roman_numerals)"
   ]
  },
  {
   "cell_type": "code",
   "execution_count": 19,
   "id": "2825882c-9fb3-40b7-b92d-c91cc829675d",
   "metadata": {},
   "outputs": [
    {
     "data": {
      "text/plain": [
       "10"
      ]
     },
     "execution_count": 19,
     "metadata": {},
     "output_type": "execute_result"
    }
   ],
   "source": [
    "roman_numerals.pop('X')"
   ]
  },
  {
   "cell_type": "code",
   "execution_count": 20,
   "id": "2bda3f29-8df4-4850-acf2-15907c57b392",
   "metadata": {},
   "outputs": [
    {
     "name": "stdout",
     "output_type": "stream",
     "text": [
      "{'I': 1, 'II': 2, 'IV': 4, 'V': 5, 'L': 50}\n"
     ]
    }
   ],
   "source": [
    "print(roman_numerals)"
   ]
  },
  {
   "cell_type": "markdown",
   "id": "585bd76d-aa80-46e4-b571-2906f7a40dbb",
   "metadata": {},
   "source": [
    "**Attempting to access a nonexistent key**"
   ]
  },
  {
   "cell_type": "code",
   "execution_count": 21,
   "id": "710d339d-5118-4117-aa09-fc0f1d50e865",
   "metadata": {},
   "outputs": [
    {
     "ename": "KeyError",
     "evalue": "'III'",
     "output_type": "error",
     "traceback": [
      "\u001b[0;31m---------------------------------------------------------------------------\u001b[0m",
      "\u001b[0;31mKeyError\u001b[0m                                  Traceback (most recent call last)",
      "Input \u001b[0;32mIn [21]\u001b[0m, in \u001b[0;36m<module>\u001b[0;34m\u001b[0m\n\u001b[0;32m----> 1\u001b[0m \u001b[43mroman_numerals\u001b[49m\u001b[43m[\u001b[49m\u001b[38;5;124;43m'\u001b[39;49m\u001b[38;5;124;43mIII\u001b[39;49m\u001b[38;5;124;43m'\u001b[39;49m\u001b[43m]\u001b[49m\n",
      "\u001b[0;31mKeyError\u001b[0m: 'III'"
     ]
    }
   ],
   "source": [
    "roman_numerals['III']"
   ]
  },
  {
   "cell_type": "markdown",
   "id": "e948085a-81cf-4451-85d9-49d1298186f1",
   "metadata": {},
   "source": [
    "You can avoid a KeyError by using the dictionary method **get**. If that key is not found, get returns None."
   ]
  },
  {
   "cell_type": "code",
   "execution_count": 24,
   "id": "d15ca7ad-9341-4786-b543-9acd147bcedb",
   "metadata": {},
   "outputs": [
    {
     "name": "stdout",
     "output_type": "stream",
     "text": [
      "None\n"
     ]
    }
   ],
   "source": [
    "print(roman_numerals.get('III'))"
   ]
  },
  {
   "cell_type": "code",
   "execution_count": 25,
   "id": "96fb80d2-725e-4231-be9b-ab144f9a62e9",
   "metadata": {},
   "outputs": [
    {
     "name": "stdout",
     "output_type": "stream",
     "text": [
      "III not in dictionary\n"
     ]
    }
   ],
   "source": [
    "print(roman_numerals.get('III', 'III not in dictionary'))"
   ]
  },
  {
   "cell_type": "code",
   "execution_count": 27,
   "id": "e8df56d6-7bc0-4c5f-9230-4781ade7dfc9",
   "metadata": {},
   "outputs": [
    {
     "name": "stdout",
     "output_type": "stream",
     "text": [
      "5\n"
     ]
    }
   ],
   "source": [
    "print(roman_numerals.get('V', 'V not in dictionary'))"
   ]
  },
  {
   "cell_type": "markdown",
   "id": "90066da0-4bbf-4a4f-b608-e67f77ed6460",
   "metadata": {},
   "source": [
    "**Testing whether a dictionary contains a specified key**"
   ]
  },
  {
   "cell_type": "code",
   "execution_count": 28,
   "id": "09dddf70-50b4-42af-b1db-2ffd65023ec3",
   "metadata": {},
   "outputs": [
    {
     "data": {
      "text/plain": [
       "True"
      ]
     },
     "execution_count": 28,
     "metadata": {},
     "output_type": "execute_result"
    }
   ],
   "source": [
    "'V' in roman_numerals"
   ]
  },
  {
   "cell_type": "code",
   "execution_count": 29,
   "id": "893775ae-a518-475d-b9d3-7fae78bbf899",
   "metadata": {},
   "outputs": [
    {
     "data": {
      "text/plain": [
       "False"
      ]
     },
     "execution_count": 29,
     "metadata": {},
     "output_type": "execute_result"
    }
   ],
   "source": [
    "'III' in roman_numerals"
   ]
  },
  {
   "cell_type": "code",
   "execution_count": 30,
   "id": "e8beec09-99b2-4b0d-988f-72d75f3ec937",
   "metadata": {},
   "outputs": [
    {
     "data": {
      "text/plain": [
       "True"
      ]
     },
     "execution_count": 30,
     "metadata": {},
     "output_type": "execute_result"
    }
   ],
   "source": [
    "'III' not in roman_numerals"
   ]
  },
  {
   "cell_type": "markdown",
   "id": "23db386a-134a-49b1-869f-17087af15781",
   "metadata": {},
   "source": [
    "### 6.2.3 Self Check"
   ]
  },
  {
   "cell_type": "code",
   "execution_count": 31,
   "id": "f80dd85d-2ae4-4ef6-8673-815668a31ab0",
   "metadata": {},
   "outputs": [
    {
     "name": "stdout",
     "output_type": "stream",
     "text": [
      "{'I': 1, 'II': 2, 'IV': 4, 'V': 5, 'L': 50, 'x': 10, 'X': 100}\n"
     ]
    }
   ],
   "source": [
    "roman_numerals['x'] = 10\n",
    "roman_numerals['X'] = 100\n",
    "print(roman_numerals)"
   ]
  },
  {
   "cell_type": "markdown",
   "id": "0d87d2c4-6056-4092-a8e2-e8ac337d7712",
   "metadata": {},
   "source": [
    "**Dictionary Methods keys and values**"
   ]
  },
  {
   "cell_type": "markdown",
   "id": "c43726da-be34-42fb-9a48-49b6f14de324",
   "metadata": {},
   "source": [
    "**keys** and **values** can be used to iterate through only a dictionaries keys or values"
   ]
  },
  {
   "cell_type": "code",
   "execution_count": 32,
   "id": "38ed2778-13f7-4d34-8d7f-49894253cd8c",
   "metadata": {},
   "outputs": [
    {
     "name": "stdout",
     "output_type": "stream",
     "text": [
      "January February March "
     ]
    }
   ],
   "source": [
    "months = {'January': 1, 'February': 2, 'March': 3}\n",
    "\n",
    "for month_name in months.keys():\n",
    "    print(month_name, end=' ')"
   ]
  },
  {
   "cell_type": "code",
   "execution_count": 33,
   "id": "462eefe2-d0d4-471c-adeb-372d9f411e29",
   "metadata": {},
   "outputs": [
    {
     "name": "stdout",
     "output_type": "stream",
     "text": [
      "1 2 3 "
     ]
    }
   ],
   "source": [
    "for month_number in months.values():\n",
    "    print(month_number, end=' ')"
   ]
  },
  {
   "cell_type": "markdown",
   "id": "5aeb882e-2a44-44ee-aecc-092448468ab3",
   "metadata": {},
   "source": [
    "**Dictionary views**"
   ]
  },
  {
   "cell_type": "markdown",
   "id": "44c006ca-5fc6-47a3-a2ed-90bed1abb1b6",
   "metadata": {},
   "source": [
    "items, keys, and values each return a view of a dictionary's data, they do not have a copy of the data."
   ]
  },
  {
   "cell_type": "code",
   "execution_count": 34,
   "id": "755dd7ea-c9af-429f-8f40-0a6790d02d51",
   "metadata": {},
   "outputs": [
    {
     "name": "stdout",
     "output_type": "stream",
     "text": [
      "January February March "
     ]
    }
   ],
   "source": [
    "months_view = months.keys()\n",
    "\n",
    "for key in months_view:\n",
    "    print(key, end=' ')"
   ]
  },
  {
   "cell_type": "code",
   "execution_count": 35,
   "id": "a955f2a0-ec5e-4dc9-b6f6-0bf007d7d040",
   "metadata": {},
   "outputs": [
    {
     "name": "stdout",
     "output_type": "stream",
     "text": [
      "{'January': 1, 'February': 2, 'March': 3, 'December': 12}\n"
     ]
    }
   ],
   "source": [
    "months['December'] = 12\n",
    "\n",
    "print(months)"
   ]
  },
  {
   "cell_type": "code",
   "execution_count": 38,
   "id": "51abeb89-26fc-4aaa-ade8-ac78024db370",
   "metadata": {},
   "outputs": [
    {
     "name": "stdout",
     "output_type": "stream",
     "text": [
      "January February March December "
     ]
    }
   ],
   "source": [
    "# months_view is just a view of months, thus it changes when months changes\n",
    "\n",
    "for key in months_view: \n",
    "    print(key, end=' ')"
   ]
  },
  {
   "cell_type": "markdown",
   "id": "9ade146a-bff5-4725-aa2b-257223f6908a",
   "metadata": {},
   "source": [
    "**Converting dictionary keys, values and key-value pairs to lists**"
   ]
  },
  {
   "cell_type": "code",
   "execution_count": 41,
   "id": "8d2450f4-1655-47fb-abaf-ae59b15591b0",
   "metadata": {},
   "outputs": [
    {
     "name": "stdout",
     "output_type": "stream",
     "text": [
      "['January', 'February', 'March', 'December']\n"
     ]
    }
   ],
   "source": [
    "list1 = (list(months.keys()))\n",
    "print(list1)\n"
   ]
  },
  {
   "cell_type": "code",
   "execution_count": 42,
   "id": "a3514c22-f559-4575-8f47-eb2414ac6f7a",
   "metadata": {},
   "outputs": [
    {
     "name": "stdout",
     "output_type": "stream",
     "text": [
      "[1, 2, 3, 12]\n"
     ]
    }
   ],
   "source": [
    "list2 = (list(months.values()))\n",
    "print(list2)"
   ]
  },
  {
   "cell_type": "code",
   "execution_count": 43,
   "id": "7bc3ee46-4bde-4f8e-9576-585bf8260805",
   "metadata": {},
   "outputs": [
    {
     "name": "stdout",
     "output_type": "stream",
     "text": [
      "[('January', 1), ('February', 2), ('March', 3), ('December', 12)]\n"
     ]
    }
   ],
   "source": [
    "list3 = (list(months.items()))\n",
    "print(list3)"
   ]
  },
  {
   "cell_type": "markdown",
   "id": "baf08923-c66e-47e0-bc27-926db7942169",
   "metadata": {},
   "source": [
    "**Processing keys in sorted order**"
   ]
  },
  {
   "cell_type": "code",
   "execution_count": 44,
   "id": "c8fc679d-7e50-4105-b498-0566a7328cec",
   "metadata": {},
   "outputs": [
    {
     "name": "stdout",
     "output_type": "stream",
     "text": [
      "December February January March "
     ]
    }
   ],
   "source": [
    "for month_name in sorted(months.keys()):\n",
    "    print(month_name, end=' ')"
   ]
  },
  {
   "cell_type": "code",
   "execution_count": 48,
   "id": "8dc8ecc0-6689-4683-b8b6-ae4cd8643742",
   "metadata": {},
   "outputs": [
    {
     "name": "stdout",
     "output_type": "stream",
     "text": [
      "1 2 3 12 "
     ]
    }
   ],
   "source": [
    "for number in sorted(months.values()):\n",
    "    print(number, end=' ')"
   ]
  },
  {
   "cell_type": "markdown",
   "id": "d61c5f62-3b4f-47b5-a3e6-aa41748f751a",
   "metadata": {},
   "source": [
    "### 6.2.4 Self Check"
   ]
  },
  {
   "cell_type": "code",
   "execution_count": 56,
   "id": "5c5a5667-8604-48e6-94a3-143e59929c77",
   "metadata": {},
   "outputs": [
    {
     "name": "stdout",
     "output_type": "stream",
     "text": [
      "['I', 'II', 'IV', 'V', 'L', 'x', 'X']\n",
      "[1, 2, 4, 5, 50, 10, 100]\n",
      "[('I', 1), ('II', 2), ('IV', 4), ('V', 5), ('L', 50), ('x', 10), ('X', 100)]\n"
     ]
    }
   ],
   "source": [
    "list5 = list(roman_numerals.keys())\n",
    "print(list5)\n",
    "\n",
    "list6 = list(roman_numerals.values())\n",
    "print(list6)\n",
    "\n",
    "list7 = list(roman_numerals.items())\n",
    "print(list7)"
   ]
  },
  {
   "cell_type": "markdown",
   "id": "7fb7a857-f7cd-4bc9-99ad-f102876a8e4f",
   "metadata": {},
   "source": [
    "**Dictionary comparisons**"
   ]
  },
  {
   "cell_type": "code",
   "execution_count": 59,
   "id": "3ea53e57-ac9b-41e8-b794-83d16792d7fe",
   "metadata": {},
   "outputs": [
    {
     "data": {
      "text/plain": [
       "False"
      ]
     },
     "execution_count": 59,
     "metadata": {},
     "output_type": "execute_result"
    }
   ],
   "source": [
    "country_capitals1 = {'Belgium': 'Brussels',\n",
    "                     'Haiti': 'Port-au-Prince'}\n",
    "\n",
    "country_capitals2 = {'Nepal': 'Kathmandu',\n",
    "                     'Uruguay': 'Montevideo'}\n",
    "\n",
    "country_capitals3 = {'Haiti': 'Port-au-Prince',\n",
    "                     'Belgium': 'Brussels'}\n",
    "\n",
    "country_capitals1 == country_capitals2"
   ]
  },
  {
   "cell_type": "code",
   "execution_count": 60,
   "id": "65bfb712-9f2a-4cfb-8d49-dc37a175bcec",
   "metadata": {},
   "outputs": [
    {
     "data": {
      "text/plain": [
       "True"
      ]
     },
     "execution_count": 60,
     "metadata": {},
     "output_type": "execute_result"
    }
   ],
   "source": [
    "country_capitals1 == country_capitals3"
   ]
  },
  {
   "cell_type": "code",
   "execution_count": 61,
   "id": "e47761bb-323f-488f-b62d-ff39b704987e",
   "metadata": {},
   "outputs": [
    {
     "data": {
      "text/plain": [
       "True"
      ]
     },
     "execution_count": 61,
     "metadata": {},
     "output_type": "execute_result"
    }
   ],
   "source": [
    "country_capitals1 != country_capitals2"
   ]
  },
  {
   "cell_type": "markdown",
   "id": "4b5f1d1a-57bc-4a3a-aa1e-d0a1cb9d8b25",
   "metadata": {},
   "source": [
    "**Python standard library module collections**: the module collections contains the type Counter, which recieves an iterable and summarizes its elements"
   ]
  },
  {
   "cell_type": "code",
   "execution_count": 64,
   "id": "2b3e320e-554a-43a0-a856-069c12126bfe",
   "metadata": {},
   "outputs": [
    {
     "name": "stdout",
     "output_type": "stream",
     "text": [
      "different   1\n",
      "is          2\n",
      "more        1\n",
      "sample      2\n",
      "several     1\n",
      "some        1\n",
      "text        2\n",
      "this        2\n",
      "with        2\n",
      "words       2\n",
      "Number of unique keys: 10\n"
     ]
    }
   ],
   "source": [
    "from collections import Counter\n",
    "\n",
    "text = ('this is sample text with several words '\n",
    "        'this is more sample text with some different words')\n",
    "\n",
    "counter = Counter(text.split())\n",
    "\n",
    "for word, count in sorted(counter.items()):\n",
    "    print(f'{word:<12}{count}')\n",
    "\n",
    "print('Number of unique keys:', len(counter.keys()))"
   ]
  },
  {
   "cell_type": "markdown",
   "id": "eb014321-85de-4757-a3ee-0770fa86e997",
   "metadata": {},
   "source": [
    "### 6.2.7 Self Check"
   ]
  },
  {
   "cell_type": "code",
   "execution_count": 71,
   "id": "a7c63094-8627-4f8e-af77-bb56be8ef547",
   "metadata": {},
   "outputs": [
    {
     "name": "stdout",
     "output_type": "stream",
     "text": [
      "1            11\n",
      "2            11\n",
      "3            2\n",
      "4            12\n",
      "5            14\n"
     ]
    }
   ],
   "source": [
    "import random\n",
    "\n",
    "list50 = [random.randrange(1, 6) for i in range(50)]\n",
    "\n",
    "from collections import Counter\n",
    "\n",
    "counter = Counter(list50)\n",
    "\n",
    "for number, count in sorted(counter.items()):\n",
    "    print(f'{number:<12} {count}')\n",
    "\n",
    "          "
   ]
  },
  {
   "cell_type": "markdown",
   "id": "c79bf98f-4ab2-4202-a433-54053092244b",
   "metadata": {},
   "source": [
    "**Dictionary method update**: You may insert and update key-value pairs using dictionary method update."
   ]
  },
  {
   "cell_type": "code",
   "execution_count": 72,
   "id": "cd62d9d0-db95-442c-92d0-b4338c7dab7a",
   "metadata": {},
   "outputs": [],
   "source": [
    "country_codes = {}"
   ]
  },
  {
   "cell_type": "code",
   "execution_count": 73,
   "id": "a1fad414-73d3-40bc-8afb-7f4676bb5076",
   "metadata": {},
   "outputs": [
    {
     "name": "stdout",
     "output_type": "stream",
     "text": [
      "{'South Africa': 'za'}\n"
     ]
    }
   ],
   "source": [
    "country_codes.update({'South Africa': 'za'})\n",
    "print(country_codes)"
   ]
  },
  {
   "cell_type": "code",
   "execution_count": 78,
   "id": "e6ab87ae-d022-4e5a-9758-531a1a4acb71",
   "metadata": {},
   "outputs": [
    {
     "name": "stdout",
     "output_type": "stream",
     "text": [
      "{'South Africa': 'za', 'Australia': 'ar'}\n",
      "{'South Africa': 'za', 'Australia': 'ar', 'United_States': 'us'}\n"
     ]
    }
   ],
   "source": [
    "country_codes.update(Australia='ar')\n",
    "print(country_codes)\n",
    "\n",
    "country_codes.update(United_States='us')\n",
    "print(country_codes)"
   ]
  },
  {
   "cell_type": "code",
   "execution_count": 79,
   "id": "fd8e227d-178b-4ee5-9bb6-d4fdec063a6e",
   "metadata": {},
   "outputs": [
    {
     "name": "stdout",
     "output_type": "stream",
     "text": [
      "{'South Africa': 'za', 'Australia': 'au', 'United_States': 'us'}\n"
     ]
    }
   ],
   "source": [
    "country_codes.update(Australia='au')\n",
    "print(country_codes)"
   ]
  },
  {
   "cell_type": "markdown",
   "id": "10f16d8a-c454-40d3-b800-51ee23c56064",
   "metadata": {},
   "source": [
    "**Dictionary Comprehensions**: in a dictionary with unique values, you can reverse the key-value pairs"
   ]
  },
  {
   "cell_type": "code",
   "execution_count": 80,
   "id": "f41b8b33-56bb-4d61-af79-1d9e3a3797fe",
   "metadata": {},
   "outputs": [
    {
     "name": "stdout",
     "output_type": "stream",
     "text": [
      "{'January': 1, 'February': 2, 'March': 3, 'December': 12}\n"
     ]
    }
   ],
   "source": [
    "print(months)"
   ]
  },
  {
   "cell_type": "code",
   "execution_count": 81,
   "id": "99fbe81d-c6be-494b-a6ce-7b5a1a8cc009",
   "metadata": {},
   "outputs": [
    {
     "name": "stdout",
     "output_type": "stream",
     "text": [
      "{1: 'January', 2: 'February', 3: 'March', 12: 'December'}\n"
     ]
    }
   ],
   "source": [
    "months2 = {number: name for name, number in months.items()}\n",
    "print(months2)"
   ]
  },
  {
   "cell_type": "markdown",
   "id": "796be514-4e18-4261-b26a-c762ed67f537",
   "metadata": {},
   "source": [
    "Convert a dictionary of names and list of grades into a dictionary of names and grade-point averages. (k and v commonly mean key and value)"
   ]
  },
  {
   "cell_type": "code",
   "execution_count": 83,
   "id": "a9513d99-47cf-4f3e-8a9a-d33a81da83f2",
   "metadata": {},
   "outputs": [
    {
     "name": "stdout",
     "output_type": "stream",
     "text": [
      "{'Sue': 93.0, 'Bob': 90.0}\n"
     ]
    }
   ],
   "source": [
    "grades = {'Sue': [98, 87, 94], 'Bob': [84, 95, 91]}\n",
    "\n",
    "grades2 = {k: sum(v) / len(v) for k, v in grades.items()}\n",
    "print(grades2)"
   ]
  },
  {
   "cell_type": "markdown",
   "id": "445b9227-4a8c-4c3b-ab9d-6283c3270dcf",
   "metadata": {},
   "source": [
    "### 6.2.9 Self Check"
   ]
  },
  {
   "cell_type": "code",
   "execution_count": 87,
   "id": "fcd44ccb-ac7d-4fd0-aee3-f4326ec1825a",
   "metadata": {},
   "outputs": [
    {
     "name": "stdout",
     "output_type": "stream",
     "text": [
      "{1: 1, 2: 8, 3: 27, 4: 64, 5: 125}\n"
     ]
    }
   ],
   "source": [
    "dict5 = {number: number ** 3 for number in range(1, 6)}\n",
    "print(dict5)"
   ]
  }
 ],
 "metadata": {
  "kernelspec": {
   "display_name": "Python 3 (ipykernel)",
   "language": "python",
   "name": "python3"
  },
  "language_info": {
   "codemirror_mode": {
    "name": "ipython",
    "version": 3
   },
   "file_extension": ".py",
   "mimetype": "text/x-python",
   "name": "python",
   "nbconvert_exporter": "python",
   "pygments_lexer": "ipython3",
   "version": "3.9.7"
  }
 },
 "nbformat": 4,
 "nbformat_minor": 5
}
