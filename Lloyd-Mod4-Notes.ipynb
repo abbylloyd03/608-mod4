{
 "cells": [
  {
   "cell_type": "markdown",
   "id": "21410960-a523-45af-8c28-77c4f71fa527",
   "metadata": {},
   "source": [
    "# Chapter 5: Lists and Tuples"
   ]
  },
  {
   "cell_type": "markdown",
   "id": "675139e3-d946-4837-b71e-a5c30f16baf1",
   "metadata": {},
   "source": [
    "### 5.2 Lists"
   ]
  },
  {
   "cell_type": "markdown",
   "id": "d1ac20ab-ce8c-4d67-bff6-62e086554e4d",
   "metadata": {},
   "source": [
    "Lists typically store homogeneous data, but they may also store heterogenous data."
   ]
  },
  {
   "cell_type": "code",
   "execution_count": 3,
   "id": "3138ac1a-e8ec-4a23-bee4-2532a3c67784",
   "metadata": {},
   "outputs": [
    {
     "name": "stdout",
     "output_type": "stream",
     "text": [
      "[-45, 6, 0, 72, 1543]\n",
      "<class 'list'>\n"
     ]
    }
   ],
   "source": [
    "c = [-45, 6, 0, 72, 1543]\n",
    "print(c)\n",
    "print(type(c))"
   ]
  },
  {
   "cell_type": "markdown",
   "id": "18905d85-53be-4045-8289-412837d45b19",
   "metadata": {},
   "source": [
    "Accessing elements of a list"
   ]
  },
  {
   "cell_type": "code",
   "execution_count": 4,
   "id": "b745779f-5455-4b45-9cbe-3c95cbb25bd8",
   "metadata": {},
   "outputs": [
    {
     "data": {
      "text/plain": [
       "-45"
      ]
     },
     "execution_count": 4,
     "metadata": {},
     "output_type": "execute_result"
    }
   ],
   "source": [
    "c[0]"
   ]
  },
  {
   "cell_type": "code",
   "execution_count": 5,
   "id": "59da734c-e9aa-40fc-a692-f71fca1e39d0",
   "metadata": {},
   "outputs": [
    {
     "data": {
      "text/plain": [
       "1543"
      ]
     },
     "execution_count": 5,
     "metadata": {},
     "output_type": "execute_result"
    }
   ],
   "source": [
    "c[4]"
   ]
  },
  {
   "cell_type": "markdown",
   "id": "bf824c9c-ead2-4a08-af5b-b6a4e9a2bec0",
   "metadata": {},
   "source": [
    "Length of a list"
   ]
  },
  {
   "cell_type": "code",
   "execution_count": 6,
   "id": "49075136-79f0-4d17-b092-2ba7832de1d1",
   "metadata": {},
   "outputs": [
    {
     "data": {
      "text/plain": [
       "5"
      ]
     },
     "execution_count": 6,
     "metadata": {},
     "output_type": "execute_result"
    }
   ],
   "source": [
    "len(c)"
   ]
  },
  {
   "cell_type": "markdown",
   "id": "3eda7b9a-feaa-4c42-af56-9b740be77d7c",
   "metadata": {},
   "source": [
    "Accessing elements of a list with negative indices"
   ]
  },
  {
   "cell_type": "code",
   "execution_count": 7,
   "id": "4feefba0-ce51-4ee5-8311-fc9f42183007",
   "metadata": {},
   "outputs": [
    {
     "data": {
      "text/plain": [
       "1543"
      ]
     },
     "execution_count": 7,
     "metadata": {},
     "output_type": "execute_result"
    }
   ],
   "source": [
    "c[-1]"
   ]
  },
  {
   "cell_type": "code",
   "execution_count": 8,
   "id": "ef5f27a1-eab0-4b1c-aaa2-9cfb9acf02b1",
   "metadata": {},
   "outputs": [
    {
     "data": {
      "text/plain": [
       "-45"
      ]
     },
     "execution_count": 8,
     "metadata": {},
     "output_type": "execute_result"
    }
   ],
   "source": [
    "c[-5]"
   ]
  },
  {
   "cell_type": "markdown",
   "id": "b0055dd7-b18d-40cd-94cf-0c71f13154cd",
   "metadata": {},
   "source": [
    "Lists are mutable"
   ]
  },
  {
   "cell_type": "code",
   "execution_count": 9,
   "id": "16aa9fdd-bd54-4f88-93fc-4abed6a52bfc",
   "metadata": {},
   "outputs": [
    {
     "name": "stdout",
     "output_type": "stream",
     "text": [
      "[-45, 6, 0, 72, 17]\n"
     ]
    }
   ],
   "source": [
    "c[4] = 17\n",
    "print(c)"
   ]
  },
  {
   "cell_type": "markdown",
   "id": "110e6eb3-9da2-406c-ae3c-6ec47085a65f",
   "metadata": {},
   "source": [
    "Python's string and tuple sequences are immutable–they cannot be modified. "
   ]
  },
  {
   "cell_type": "code",
   "execution_count": 10,
   "id": "5aaef6e4-8570-4c78-b21b-9599f2125783",
   "metadata": {},
   "outputs": [
    {
     "name": "stdout",
     "output_type": "stream",
     "text": [
      "h\n"
     ]
    }
   ],
   "source": [
    "s = 'hello'\n",
    "print(s[0])"
   ]
  },
  {
   "cell_type": "code",
   "execution_count": 11,
   "id": "9c5f8bd1-a397-431f-94ef-6cb4a11bc310",
   "metadata": {},
   "outputs": [
    {
     "ename": "TypeError",
     "evalue": "'str' object does not support item assignment",
     "output_type": "error",
     "traceback": [
      "\u001b[0;31m---------------------------------------------------------------------------\u001b[0m",
      "\u001b[0;31mTypeError\u001b[0m                                 Traceback (most recent call last)",
      "Input \u001b[0;32mIn [11]\u001b[0m, in \u001b[0;36m<module>\u001b[0;34m\u001b[0m\n\u001b[0;32m----> 1\u001b[0m s[\u001b[38;5;241m0\u001b[39m] \u001b[38;5;241m=\u001b[39m \u001b[38;5;124m'\u001b[39m\u001b[38;5;124mH\u001b[39m\u001b[38;5;124m'\u001b[39m\n",
      "\u001b[0;31mTypeError\u001b[0m: 'str' object does not support item assignment"
     ]
    }
   ],
   "source": [
    "s[0] = 'H'"
   ]
  },
  {
   "cell_type": "markdown",
   "id": "05bbca47-d1fa-489d-aa8b-3272df96f481",
   "metadata": {},
   "source": [
    "Attempting to Access a nonexistent element"
   ]
  },
  {
   "cell_type": "code",
   "execution_count": 12,
   "id": "eb40e7af-37f9-4de3-92fc-3c90ed208c44",
   "metadata": {},
   "outputs": [
    {
     "ename": "IndexError",
     "evalue": "list index out of range",
     "output_type": "error",
     "traceback": [
      "\u001b[0;31m---------------------------------------------------------------------------\u001b[0m",
      "\u001b[0;31mIndexError\u001b[0m                                Traceback (most recent call last)",
      "Input \u001b[0;32mIn [12]\u001b[0m, in \u001b[0;36m<module>\u001b[0;34m\u001b[0m\n\u001b[0;32m----> 1\u001b[0m \u001b[43mc\u001b[49m\u001b[43m[\u001b[49m\u001b[38;5;241;43m100\u001b[39;49m\u001b[43m]\u001b[49m\n",
      "\u001b[0;31mIndexError\u001b[0m: list index out of range"
     ]
    }
   ],
   "source": [
    "c[100]"
   ]
  },
  {
   "cell_type": "markdown",
   "id": "2490a697-af20-492a-bedf-36f21d290252",
   "metadata": {},
   "source": [
    "Using list elements in expressions"
   ]
  },
  {
   "cell_type": "code",
   "execution_count": 13,
   "id": "b2c67c92-6d03-4b47-b45b-2a07dd8486ef",
   "metadata": {},
   "outputs": [
    {
     "data": {
      "text/plain": [
       "-39"
      ]
     },
     "execution_count": 13,
     "metadata": {},
     "output_type": "execute_result"
    }
   ],
   "source": [
    "c[0] + c[1] + c[2]"
   ]
  },
  {
   "cell_type": "markdown",
   "id": "6ea0da85-c72c-46b0-b340-4a135d31fc49",
   "metadata": {},
   "source": [
    "Appending to a list with +="
   ]
  },
  {
   "cell_type": "code",
   "execution_count": 14,
   "id": "da7057f6-79a4-4e0e-a21c-42d782494680",
   "metadata": {},
   "outputs": [
    {
     "data": {
      "text/plain": [
       "[1, 2, 3, 4, 5]"
      ]
     },
     "execution_count": 14,
     "metadata": {},
     "output_type": "execute_result"
    }
   ],
   "source": [
    "a_list = []\n",
    "\n",
    "for number in range(1, 6):\n",
    "    a_list += [number] #the square brackets around number creat a one-element list, which we append to a_list\n",
    "\n",
    "a_list"
   ]
  },
  {
   "cell_type": "code",
   "execution_count": 15,
   "id": "172ced3b-f57a-420e-8883-dcffd16f7760",
   "metadata": {},
   "outputs": [
    {
     "data": {
      "text/plain": [
       "['P', 'y', 't', 'h', 'o', 'n']"
      ]
     },
     "execution_count": 15,
     "metadata": {},
     "output_type": "execute_result"
    }
   ],
   "source": [
    "letters = []\n",
    "\n",
    "letters += 'Python'\n",
    "\n",
    "letters"
   ]
  },
  {
   "cell_type": "markdown",
   "id": "d39c2e30-735a-429c-af42-80d84fdea605",
   "metadata": {},
   "source": [
    "Concatenating lists with +"
   ]
  },
  {
   "cell_type": "code",
   "execution_count": 16,
   "id": "948a3436-99d4-46c6-8305-a3c586af6fe3",
   "metadata": {},
   "outputs": [
    {
     "data": {
      "text/plain": [
       "[10, 20, 30, 40, 50]"
      ]
     },
     "execution_count": 16,
     "metadata": {},
     "output_type": "execute_result"
    }
   ],
   "source": [
    "list1 = [10, 20, 30]\n",
    "\n",
    "list2 = [40, 50]\n",
    "\n",
    "concatenated_list = list1 + list2\n",
    "\n",
    "concatenated_list"
   ]
  },
  {
   "cell_type": "markdown",
   "id": "b73bf9e3-4746-426b-89ea-1817b174e283",
   "metadata": {},
   "source": [
    "Using for and range to accesss list indices and values"
   ]
  },
  {
   "cell_type": "code",
   "execution_count": 17,
   "id": "7fdbf10d-090c-456f-bda8-78db8e430228",
   "metadata": {},
   "outputs": [
    {
     "name": "stdout",
     "output_type": "stream",
     "text": [
      "0: 10\n",
      "1: 20\n",
      "2: 30\n",
      "3: 40\n",
      "4: 50\n"
     ]
    }
   ],
   "source": [
    "for i in range(len(concatenated_list)):\n",
    "    print(f'{i}: {concatenated_list[i]}')"
   ]
  },
  {
   "cell_type": "code",
   "execution_count": 18,
   "id": "05585e78-5539-44ce-b76e-e75ac5747a07",
   "metadata": {},
   "outputs": [
    {
     "name": "stdout",
     "output_type": "stream",
     "text": [
      "True\n",
      "False\n",
      "True\n",
      "True\n"
     ]
    }
   ],
   "source": [
    "a = [1, 2, 3]\n",
    "\n",
    "b = [1, 2, 3]\n",
    "\n",
    "c = [1, 2, 3, 4]\n",
    "\n",
    "print(a == b)\n",
    "\n",
    "print(a == c)\n",
    "\n",
    "print(a < c) # fewer elements\n",
    "\n",
    "print(c >= b)"
   ]
  },
  {
   "cell_type": "markdown",
   "id": "e28f53c5-d5e0-4ff5-8a8b-77addb4f54ef",
   "metadata": {},
   "source": [
    "### 5.2 Self Check"
   ]
  },
  {
   "cell_type": "code",
   "execution_count": 21,
   "id": "22c7a9a8-16f2-481d-a595-961b41486375",
   "metadata": {},
   "outputs": [
    {
     "name": "stdout",
     "output_type": "stream",
     "text": [
      "[1, 8, 27, 64, 125, 216, 343, 512, 729, 1000]\n"
     ]
    }
   ],
   "source": [
    "def cube_list(values):\n",
    "    for i in range(len(values)):\n",
    "        values[i] **= 3\n",
    "\n",
    "numbers = [1, 2, 3, 4, 5, 6, 7, 8, 9, 10]\n",
    "\n",
    "cube_list(numbers)\n",
    "print(numbers)"
   ]
  },
  {
   "cell_type": "markdown",
   "id": "61c8da0d-b724-4419-9e72-7ac40abad1fa",
   "metadata": {},
   "source": [
    "### 5.3 Tuples"
   ]
  },
  {
   "cell_type": "markdown",
   "id": "22b4f7fd-c0e9-404a-9fe5-994f12718d1f",
   "metadata": {},
   "source": [
    "Tuples are immutable and typically store heterogeneous data, but the data can be homogeneous. A tuple's length cannot change during program execution. To create an empty tuple, use empty ()."
   ]
  },
  {
   "cell_type": "code",
   "execution_count": 1,
   "id": "e8f4ec0a-ec55-4c6d-873a-2ded53f6ae55",
   "metadata": {},
   "outputs": [
    {
     "data": {
      "text/plain": [
       "0"
      ]
     },
     "execution_count": 1,
     "metadata": {},
     "output_type": "execute_result"
    }
   ],
   "source": [
    "student_tuple = ()\n",
    "\n",
    "len(student_tuple)"
   ]
  },
  {
   "cell_type": "markdown",
   "id": "14d70237-00f5-4c33-ab55-9874717c2237",
   "metadata": {},
   "source": [
    "Pack a tuple by separating its values with commas."
   ]
  },
  {
   "cell_type": "code",
   "execution_count": 2,
   "id": "789e1f3f-6607-4edc-893e-e28b6d9e7d39",
   "metadata": {},
   "outputs": [
    {
     "name": "stdout",
     "output_type": "stream",
     "text": [
      "('John', 'Green', 3.3)\n",
      "3\n"
     ]
    }
   ],
   "source": [
    "student_tuple = 'John', 'Green', 3.3\n",
    "\n",
    "print(student_tuple)\n",
    "print(len(student_tuple))"
   ]
  },
  {
   "cell_type": "markdown",
   "id": "78371859-73a2-4098-9a7d-ddfc6e6fcc68",
   "metadata": {},
   "source": [
    "When you output a tuple, Python alwyas displays its contents in parantheses."
   ]
  },
  {
   "cell_type": "code",
   "execution_count": 3,
   "id": "5bd14590-bee3-4313-bc2d-5f4411cd2dc3",
   "metadata": {},
   "outputs": [
    {
     "name": "stdout",
     "output_type": "stream",
     "text": [
      "('Mary', 'Red', 3.3)\n"
     ]
    }
   ],
   "source": [
    "another_student_tuple = 'Mary', 'Red', 3.3\n",
    "print(another_student_tuple)"
   ]
  },
  {
   "cell_type": "markdown",
   "id": "91953c94-5cbc-45ff-a15c-c6804ad5c6fb",
   "metadata": {},
   "source": [
    "To make a singelton tuple, you need to put a comma after the item. () are optional."
   ]
  },
  {
   "cell_type": "code",
   "execution_count": 4,
   "id": "c8521f70-2020-4c8a-ba46-9141f0158d8b",
   "metadata": {},
   "outputs": [
    {
     "name": "stdout",
     "output_type": "stream",
     "text": [
      "('red',)\n"
     ]
    }
   ],
   "source": [
    "a_singleton_tuple = ('red',)\n",
    "print(a_singleton_tuple)"
   ]
  },
  {
   "cell_type": "markdown",
   "id": "a779c89e-995f-42de-b8ea-da67dc63b1f7",
   "metadata": {},
   "source": [
    "**Accessing tuple elements**: Usually, you do not iterate over tuples. Rather, you access each individually. Tuple indices start at 0, like lists. "
   ]
  },
  {
   "cell_type": "code",
   "execution_count": 5,
   "id": "5ce005d3-0ddb-4c6a-adc8-f5ef9fcc3135",
   "metadata": {},
   "outputs": [
    {
     "data": {
      "text/plain": [
       "9"
      ]
     },
     "execution_count": 5,
     "metadata": {},
     "output_type": "execute_result"
    }
   ],
   "source": [
    "time_tuple = (9, 16, 1)\n",
    "\n",
    "time_tuple[0]"
   ]
  },
  {
   "cell_type": "code",
   "execution_count": 7,
   "id": "7190bfec-84b5-4edc-8ee6-a402d1cd7c1e",
   "metadata": {},
   "outputs": [
    {
     "data": {
      "text/plain": [
       "33361"
      ]
     },
     "execution_count": 7,
     "metadata": {},
     "output_type": "execute_result"
    }
   ],
   "source": [
    "time_tuple[0] * 3600 + time_tuple[1] * 60 + time_tuple[2]"
   ]
  },
  {
   "cell_type": "markdown",
   "id": "729fffeb-488d-4247-b304-a1e722604087",
   "metadata": {},
   "source": [
    "**Adding items to a string or tuple**: the =+ statement can be used with strings and tuples, even though they're immutable. "
   ]
  },
  {
   "cell_type": "code",
   "execution_count": 8,
   "id": "de6e6a6a-6fae-40b4-a759-84ef66691df1",
   "metadata": {},
   "outputs": [
    {
     "data": {
      "text/plain": [
       "(10, 20, 30)"
      ]
     },
     "execution_count": 8,
     "metadata": {},
     "output_type": "execute_result"
    }
   ],
   "source": [
    "tuple1 = (10, 20, 30)\n",
    "\n",
    "tuple2 = tuple1\n",
    "\n",
    "tuple2"
   ]
  },
  {
   "cell_type": "code",
   "execution_count": 9,
   "id": "f421c443-5def-4e38-aee4-479375b01b5d",
   "metadata": {},
   "outputs": [
    {
     "name": "stdout",
     "output_type": "stream",
     "text": [
      "(10, 20, 30, 40, 50)\n",
      "(10, 20, 30)\n"
     ]
    }
   ],
   "source": [
    "tuple1 += (40, 50)\n",
    "\n",
    "print(tuple1)\n",
    "\n",
    "print(tuple2)"
   ]
  },
  {
   "cell_type": "markdown",
   "id": "d451960e-b491-4337-a956-54badd3a81c1",
   "metadata": {},
   "source": [
    "**Appending tuples to lists**: you can use += to append a tuple to a list."
   ]
  },
  {
   "cell_type": "code",
   "execution_count": 10,
   "id": "10934d15-1233-4d18-a342-58db74d852f8",
   "metadata": {},
   "outputs": [
    {
     "data": {
      "text/plain": [
       "[1, 2, 3, 4, 5, 6, 7]"
      ]
     },
     "execution_count": 10,
     "metadata": {},
     "output_type": "execute_result"
    }
   ],
   "source": [
    "numbers = [1, 2, 3, 4, 5]\n",
    "\n",
    "numbers += (6, 7)\n",
    "\n",
    "numbers"
   ]
  },
  {
   "cell_type": "markdown",
   "id": "da4397ed-2b4c-45fd-a284-f19cc816d731",
   "metadata": {},
   "source": [
    "**Tuples may contain mutable objects**"
   ]
  },
  {
   "cell_type": "code",
   "execution_count": 11,
   "id": "f863500e-e6e3-42a5-a9b4-e0d21d4c0543",
   "metadata": {},
   "outputs": [
    {
     "name": "stdout",
     "output_type": "stream",
     "text": [
      "('Amanda', 'Blue', [98, 85, 87])\n"
     ]
    }
   ],
   "source": [
    "student_tuple = ('Amanda', 'Blue', [98, 75, 87])\n",
    "\n",
    "student_tuple[2][1] = 85\n",
    "\n",
    "print(student_tuple)"
   ]
  },
  {
   "cell_type": "markdown",
   "id": "52ae857f-8b6b-43b0-86e2-01232793b7d4",
   "metadata": {},
   "source": [
    "### 5.3 Self Check"
   ]
  },
  {
   "cell_type": "code",
   "execution_count": 12,
   "id": "4b88f65d-c60b-4d48-9162-f70c422e6b52",
   "metadata": {},
   "outputs": [
    {
     "name": "stdout",
     "output_type": "stream",
     "text": [
      "(123.45,)\n"
     ]
    }
   ],
   "source": [
    "single_tuple = (123.45,)\n",
    "\n",
    "print(single_tuple)"
   ]
  },
  {
   "cell_type": "code",
   "execution_count": 14,
   "id": "01d287c9-ef48-4c0d-885e-be6951b4a369",
   "metadata": {},
   "outputs": [
    {
     "name": "stdout",
     "output_type": "stream",
     "text": [
      "[1, 2, 3, 4, 5, 6]\n"
     ]
    }
   ],
   "source": [
    "list10 = [1, 2, 3]\n",
    "\n",
    "tuple10 = (4, 5, 6)\n",
    "\n",
    "list10 += tuple10\n",
    "\n",
    "print(list10)"
   ]
  },
  {
   "cell_type": "code",
   "execution_count": 15,
   "id": "aa727d2b-b174-4d6d-ad78-1e5313651423",
   "metadata": {},
   "outputs": [
    {
     "ename": "TypeError",
     "evalue": "can only concatenate list (not \"tuple\") to list",
     "output_type": "error",
     "traceback": [
      "\u001b[0;31m---------------------------------------------------------------------------\u001b[0m",
      "\u001b[0;31mTypeError\u001b[0m                                 Traceback (most recent call last)",
      "Input \u001b[0;32mIn [15]\u001b[0m, in \u001b[0;36m<module>\u001b[0;34m\u001b[0m\n\u001b[0;32m----> 1\u001b[0m \u001b[43m[\u001b[49m\u001b[38;5;241;43m1\u001b[39;49m\u001b[43m,\u001b[49m\u001b[43m \u001b[49m\u001b[38;5;241;43m2\u001b[39;49m\u001b[43m,\u001b[49m\u001b[43m \u001b[49m\u001b[38;5;241;43m3\u001b[39;49m\u001b[43m]\u001b[49m\u001b[43m \u001b[49m\u001b[38;5;241;43m+\u001b[39;49m\u001b[43m \u001b[49m\u001b[43m(\u001b[49m\u001b[38;5;241;43m4\u001b[39;49m\u001b[43m,\u001b[49m\u001b[43m \u001b[49m\u001b[38;5;241;43m5\u001b[39;49m\u001b[43m,\u001b[49m\u001b[43m \u001b[49m\u001b[38;5;241;43m6\u001b[39;49m\u001b[43m)\u001b[49m\n",
      "\u001b[0;31mTypeError\u001b[0m: can only concatenate list (not \"tuple\") to list"
     ]
    }
   ],
   "source": [
    "[1, 2, 3] + (4, 5, 6)"
   ]
  },
  {
   "cell_type": "markdown",
   "id": "13e50ea0-ede0-4843-81b6-630f93ea5e89",
   "metadata": {},
   "source": [
    "### 5.4 Unpacking Sequences"
   ]
  },
  {
   "cell_type": "markdown",
   "id": "3421ce7e-71b8-49f1-bdd3-b11ae6de2dcf",
   "metadata": {},
   "source": [
    "You can unpack any sequence's elements by assigning the sequence to a comma-separated list of variables. A ValueError occurs if the number of variables to the left of the assignment is not identical to the number of elements in the sequences on the right."
   ]
  },
  {
   "cell_type": "code",
   "execution_count": 17,
   "id": "e3d4f7af-d11b-4862-86ea-a40e60c1d83d",
   "metadata": {},
   "outputs": [
    {
     "name": "stdout",
     "output_type": "stream",
     "text": [
      "Amanda\n",
      "[98, 85, 87]\n"
     ]
    }
   ],
   "source": [
    "student_tuple = ('Amanda', [98, 85, 87])\n",
    "\n",
    "first_name, grades = student_tuple\n",
    "\n",
    "print(first_name)\n",
    "print(grades)"
   ]
  },
  {
   "cell_type": "markdown",
   "id": "fe4b4ba2-1dc4-4293-8340-7f51937164c3",
   "metadata": {},
   "source": [
    "Unpack a string, a list, and a sequence produced by range."
   ]
  },
  {
   "cell_type": "code",
   "execution_count": 19,
   "id": "33cf3c42-b343-4ba8-a872-049a7f413360",
   "metadata": {},
   "outputs": [
    {
     "name": "stdout",
     "output_type": "stream",
     "text": [
      "h i\n"
     ]
    }
   ],
   "source": [
    "first, second = 'hi'\n",
    "print(f'{first} {second}')"
   ]
  },
  {
   "cell_type": "code",
   "execution_count": 20,
   "id": "19b5154c-bf0f-4e02-b8dc-f62fb24bb9fc",
   "metadata": {},
   "outputs": [
    {
     "name": "stdout",
     "output_type": "stream",
     "text": [
      "2 3 5\n"
     ]
    }
   ],
   "source": [
    "number1, number2, number3 = [2, 3, 5]\n",
    "\n",
    "print(f'{number1} {number2} {number3}')"
   ]
  },
  {
   "cell_type": "code",
   "execution_count": 21,
   "id": "df0f4ff0-9cde-46c7-b860-d6b1d5655122",
   "metadata": {},
   "outputs": [
    {
     "name": "stdout",
     "output_type": "stream",
     "text": [
      "10 20 30\n"
     ]
    }
   ],
   "source": [
    "number1, number2, number3 = range(10, 40, 10)\n",
    "print(f'{number1} {number2} {number3}')"
   ]
  },
  {
   "cell_type": "markdown",
   "id": "a3939d21-9d01-4088-ac59-612f8e85b4c8",
   "metadata": {},
   "source": [
    "Swapping values via packing and unpacking"
   ]
  },
  {
   "cell_type": "code",
   "execution_count": 23,
   "id": "205c5a14-ed29-459b-b422-8cdc14275dea",
   "metadata": {},
   "outputs": [
    {
     "name": "stdout",
     "output_type": "stream",
     "text": [
      "number1 = 22; number2 = 99\n"
     ]
    }
   ],
   "source": [
    "number1 = 99\n",
    "\n",
    "number2 = 22\n",
    "\n",
    "number1, number2 = (number2, number1)\n",
    "\n",
    "print(f'number1 = {number1}; number2 = {number2}')"
   ]
  },
  {
   "cell_type": "markdown",
   "id": "49bde0f4-2968-4112-be21-444dbe629932",
   "metadata": {},
   "source": [
    "**Accessing indices and values safely with built-in function enumerate.**"
   ]
  },
  {
   "cell_type": "markdown",
   "id": "d76b6178-8006-4ca0-80f2-b8bb7893ba15",
   "metadata": {},
   "source": [
    "The preferred mechanism for accessing an element's index and value is the built-in function **enumerate**. This function receives an iterable and creates an iterator that, for each element, returns a tuple containing the element's index and value."
   ]
  },
  {
   "cell_type": "code",
   "execution_count": 26,
   "id": "aba58d26-6fcc-41cc-9696-eabc9a9f7edc",
   "metadata": {},
   "outputs": [
    {
     "data": {
      "text/plain": [
       "[(0, 'red'), (1, 'orange'), (2, 'yellow')]"
      ]
     },
     "execution_count": 26,
     "metadata": {},
     "output_type": "execute_result"
    }
   ],
   "source": [
    "colors = ['red', 'orange', 'yellow']\n",
    "\n",
    "list((enumerate(colors)))\n"
   ]
  },
  {
   "cell_type": "code",
   "execution_count": null,
   "id": "d2038421-99d7-4119-9c50-ab70a0047d85",
   "metadata": {},
   "outputs": [],
   "source": []
  }
 ],
 "metadata": {
  "kernelspec": {
   "display_name": "Python 3 (ipykernel)",
   "language": "python",
   "name": "python3"
  },
  "language_info": {
   "codemirror_mode": {
    "name": "ipython",
    "version": 3
   },
   "file_extension": ".py",
   "mimetype": "text/x-python",
   "name": "python",
   "nbconvert_exporter": "python",
   "pygments_lexer": "ipython3",
   "version": "3.9.7"
  }
 },
 "nbformat": 4,
 "nbformat_minor": 5
}
