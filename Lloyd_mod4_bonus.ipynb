{
 "cells": [
  {
   "cell_type": "code",
   "execution_count": 1,
   "id": "840bdff3-3c4d-47e8-ad6c-80e94a429a97",
   "metadata": {},
   "outputs": [],
   "source": [
    "with open('olympics.txt') as f:\n",
    "    contents = f.read()"
   ]
  },
  {
   "cell_type": "code",
   "execution_count": 2,
   "id": "285b8f33-4315-4954-8943-7f7da1b460e7",
   "metadata": {},
   "outputs": [],
   "source": [
    "words_counts = {}\n",
    "\n",
    "punc = '''!()-[]{};:'\"\\,<>./?@#$%^&*_~'''\n",
    "rem_words = ['is', 'and', 'or', 'the', 'a']"
   ]
  },
  {
   "cell_type": "code",
   "execution_count": 3,
   "id": "9d8cacb4-86b3-4c82-8fc5-2969e5cbc8dd",
   "metadata": {},
   "outputs": [
    {
     "name": "stdout",
     "output_type": "stream",
     "text": [
      "there are thousands of local staff and volunteers that help olympic participants inside the \"closed loop.\"\n",
      "\n",
      "most people never fully see each other's expressions, as everyone is masked. in fact, many of them are covered from head to toe in full protective gear. but many of them are eager to chat, longing for more interaction.\n",
      "\n",
      "in each conversation, i'm struck by the personal sacrifice they've made to be a part of the event. for months, they have to live apart from their families inside the olympic bubble. after the games end, they're in quarantine for 21 days at a government facility to ensure no covid-19 case slips out. \n",
      "\n",
      "there are two tiny glass cubicles outside of our hotel. inside each one is a worker in a hazmat suit, mask and face shield. they administer our covid-19 tests every day. the first cubicle scans our credentials and hands us a tube. the second cubicle takes our throat swab.\n",
      "\n",
      "i asked the man in the first cubicle how he was doing. he's a nurse in beijing and volunteered to work during the games. he lives in the same hotel as we do, and can only go between the hotel and the cubicle.\n",
      "\n",
      "during his shifts that last at least six hours, he cannot drink, eat, or use the bathroom the entire time. to prevent himself from needing to relieve himself, he doesn’t eat before his shift starts. he says it's difficult to be away from his 6-year-old son for so long, but he manages to video call him every day. despite the grueling work, he said he's proud to be part of the winter olympics. \n",
      "\n",
      "to travel between our hotel and olympic venues, we have dedicated drivers. one of them told me he misses his 3-year-old son, and that he's already grown tired of the food in his closed-loop hotel. \n",
      "\n",
      "on lunar new year day, i saw an olympic worker standing at the edge of the closed-loop, waving to her two young sons behind layers of barricades and fences. meters apart, her sons yelled to their mother that they missed her and wished they could be together for the new year. the woman told me her family lives close to the olympic area. in fact, she could even see her home from her hotel room in the closed-loop. she told me this was the longest that she'd ever been apart from her kids, and it made her tearful to think about how close, yet how far apart they are. \n"
     ]
    }
   ],
   "source": [
    "contents_lower = contents.lower()\n",
    "print(contents_lower)"
   ]
  },
  {
   "cell_type": "code",
   "execution_count": 4,
   "id": "e319cd75-7e17-4bdb-be94-7da33c635064",
   "metadata": {},
   "outputs": [],
   "source": [
    "for ele in contents_lower:\n",
    "    if ele in punc:\n",
    "        contents_lower= contents_lower.replace(ele, '')"
   ]
  },
  {
   "cell_type": "code",
   "execution_count": 5,
   "id": "51d33595-f7ed-4272-bd12-f5f8a67f94d4",
   "metadata": {},
   "outputs": [
    {
     "name": "stdout",
     "output_type": "stream",
     "text": [
      "there are thousands of local staff and volunteers that help olympic participants inside the closed loop\n",
      "\n",
      "most people never fully see each others expressions as everyone is masked in fact many of them are covered from head to toe in full protective gear but many of them are eager to chat longing for more interaction\n",
      "\n",
      "in each conversation im struck by the personal sacrifice theyve made to be a part of the event for months they have to live apart from their families inside the olympic bubble after the games end theyre in quarantine for 21 days at a government facility to ensure no covid19 case slips out \n",
      "\n",
      "there are two tiny glass cubicles outside of our hotel inside each one is a worker in a hazmat suit mask and face shield they administer our covid19 tests every day the first cubicle scans our credentials and hands us a tube the second cubicle takes our throat swab\n",
      "\n",
      "i asked the man in the first cubicle how he was doing hes a nurse in beijing and volunteered to work during the games he lives in the same hotel as we do and can only go between the hotel and the cubicle\n",
      "\n",
      "during his shifts that last at least six hours he cannot drink eat or use the bathroom the entire time to prevent himself from needing to relieve himself he doesn’t eat before his shift starts he says its difficult to be away from his 6yearold son for so long but he manages to video call him every day despite the grueling work he said hes proud to be part of the winter olympics \n",
      "\n",
      "to travel between our hotel and olympic venues we have dedicated drivers one of them told me he misses his 3yearold son and that hes already grown tired of the food in his closedloop hotel \n",
      "\n",
      "on lunar new year day i saw an olympic worker standing at the edge of the closedloop waving to her two young sons behind layers of barricades and fences meters apart her sons yelled to their mother that they missed her and wished they could be together for the new year the woman told me her family lives close to the olympic area in fact she could even see her home from her hotel room in the closedloop she told me this was the longest that shed ever been apart from her kids and it made her tearful to think about how close yet how far apart they are \n"
     ]
    }
   ],
   "source": [
    "print(contents_lower)"
   ]
  },
  {
   "cell_type": "code",
   "execution_count": 6,
   "id": "7d729771-2440-4ac4-b23d-6e8af66dbc22",
   "metadata": {},
   "outputs": [
    {
     "name": "stdout",
     "output_type": "stream",
     "text": [
      "['there', 'are', 'thousands', 'of', 'local', 'staff', 'and', 'volunteers', 'that', 'help', 'olympic', 'participants', 'inside', 'the', 'closed', 'loop', 'most', 'people', 'never', 'fully', 'see', 'each', 'others', 'expressions', 'as', 'everyone', 'is', 'masked', 'in', 'fact', 'many', 'of', 'them', 'are', 'covered', 'from', 'head', 'to', 'toe', 'in', 'full', 'protective', 'gear', 'but', 'many', 'of', 'them', 'are', 'eager', 'to', 'chat', 'longing', 'for', 'more', 'interaction', 'in', 'each', 'conversation', 'im', 'struck', 'by', 'the', 'personal', 'sacrifice', 'theyve', 'made', 'to', 'be', 'a', 'part', 'of', 'the', 'event', 'for', 'months', 'they', 'have', 'to', 'live', 'apart', 'from', 'their', 'families', 'inside', 'the', 'olympic', 'bubble', 'after', 'the', 'games', 'end', 'theyre', 'in', 'quarantine', 'for', '21', 'days', 'at', 'a', 'government', 'facility', 'to', 'ensure', 'no', 'covid19', 'case', 'slips', 'out', 'there', 'are', 'two', 'tiny', 'glass', 'cubicles', 'outside', 'of', 'our', 'hotel', 'inside', 'each', 'one', 'is', 'a', 'worker', 'in', 'a', 'hazmat', 'suit', 'mask', 'and', 'face', 'shield', 'they', 'administer', 'our', 'covid19', 'tests', 'every', 'day', 'the', 'first', 'cubicle', 'scans', 'our', 'credentials', 'and', 'hands', 'us', 'a', 'tube', 'the', 'second', 'cubicle', 'takes', 'our', 'throat', 'swab', 'i', 'asked', 'the', 'man', 'in', 'the', 'first', 'cubicle', 'how', 'he', 'was', 'doing', 'hes', 'a', 'nurse', 'in', 'beijing', 'and', 'volunteered', 'to', 'work', 'during', 'the', 'games', 'he', 'lives', 'in', 'the', 'same', 'hotel', 'as', 'we', 'do', 'and', 'can', 'only', 'go', 'between', 'the', 'hotel', 'and', 'the', 'cubicle', 'during', 'his', 'shifts', 'that', 'last', 'at', 'least', 'six', 'hours', 'he', 'cannot', 'drink', 'eat', 'or', 'use', 'the', 'bathroom', 'the', 'entire', 'time', 'to', 'prevent', 'himself', 'from', 'needing', 'to', 'relieve', 'himself', 'he', 'doesn’t', 'eat', 'before', 'his', 'shift', 'starts', 'he', 'says', 'its', 'difficult', 'to', 'be', 'away', 'from', 'his', '6yearold', 'son', 'for', 'so', 'long', 'but', 'he', 'manages', 'to', 'video', 'call', 'him', 'every', 'day', 'despite', 'the', 'grueling', 'work', 'he', 'said', 'hes', 'proud', 'to', 'be', 'part', 'of', 'the', 'winter', 'olympics', 'to', 'travel', 'between', 'our', 'hotel', 'and', 'olympic', 'venues', 'we', 'have', 'dedicated', 'drivers', 'one', 'of', 'them', 'told', 'me', 'he', 'misses', 'his', '3yearold', 'son', 'and', 'that', 'hes', 'already', 'grown', 'tired', 'of', 'the', 'food', 'in', 'his', 'closedloop', 'hotel', 'on', 'lunar', 'new', 'year', 'day', 'i', 'saw', 'an', 'olympic', 'worker', 'standing', 'at', 'the', 'edge', 'of', 'the', 'closedloop', 'waving', 'to', 'her', 'two', 'young', 'sons', 'behind', 'layers', 'of', 'barricades', 'and', 'fences', 'meters', 'apart', 'her', 'sons', 'yelled', 'to', 'their', 'mother', 'that', 'they', 'missed', 'her', 'and', 'wished', 'they', 'could', 'be', 'together', 'for', 'the', 'new', 'year', 'the', 'woman', 'told', 'me', 'her', 'family', 'lives', 'close', 'to', 'the', 'olympic', 'area', 'in', 'fact', 'she', 'could', 'even', 'see', 'her', 'home', 'from', 'her', 'hotel', 'room', 'in', 'the', 'closedloop', 'she', 'told', 'me', 'this', 'was', 'the', 'longest', 'that', 'shed', 'ever', 'been', 'apart', 'from', 'her', 'kids', 'and', 'it', 'made', 'her', 'tearful', 'to', 'think', 'about', 'how', 'close', 'yet', 'how', 'far', 'apart', 'they', 'are']\n"
     ]
    }
   ],
   "source": [
    "contents_split = contents_lower.split()\n",
    "print(contents_split)"
   ]
  },
  {
   "cell_type": "code",
   "execution_count": 7,
   "id": "afb9bf28-8639-4006-9742-7e4a32439472",
   "metadata": {},
   "outputs": [],
   "source": [
    "for word in contents_split:\n",
    "    if word in rem_words:\n",
    "        contents_split.remove(word)"
   ]
  },
  {
   "cell_type": "code",
   "execution_count": 8,
   "id": "1d9f67ae-2fb0-4d52-aecc-a3ce550dd57c",
   "metadata": {},
   "outputs": [
    {
     "name": "stdout",
     "output_type": "stream",
     "text": [
      "['there', 'are', 'thousands', 'of', 'local', 'staff', 'volunteers', 'that', 'help', 'olympic', 'participants', 'inside', 'closed', 'loop', 'most', 'people', 'never', 'fully', 'see', 'each', 'others', 'expressions', 'as', 'everyone', 'masked', 'in', 'fact', 'many', 'of', 'them', 'are', 'covered', 'from', 'head', 'to', 'toe', 'in', 'full', 'protective', 'gear', 'but', 'many', 'of', 'them', 'are', 'eager', 'to', 'chat', 'longing', 'for', 'more', 'interaction', 'in', 'each', 'conversation', 'im', 'struck', 'by', 'personal', 'sacrifice', 'theyve', 'made', 'to', 'be', 'part', 'of', 'event', 'for', 'months', 'they', 'have', 'to', 'live', 'apart', 'from', 'their', 'families', 'inside', 'olympic', 'bubble', 'after', 'games', 'end', 'theyre', 'in', 'quarantine', 'for', '21', 'days', 'at', 'government', 'facility', 'to', 'ensure', 'no', 'covid19', 'case', 'slips', 'out', 'there', 'are', 'two', 'tiny', 'glass', 'cubicles', 'outside', 'of', 'our', 'hotel', 'inside', 'each', 'one', 'worker', 'in', 'hazmat', 'suit', 'mask', 'face', 'shield', 'they', 'administer', 'our', 'covid19', 'tests', 'every', 'day', 'first', 'cubicle', 'scans', 'our', 'credentials', 'hands', 'us', 'tube', 'second', 'cubicle', 'takes', 'our', 'throat', 'swab', 'i', 'asked', 'man', 'in', 'first', 'cubicle', 'how', 'he', 'was', 'doing', 'hes', 'a', 'nurse', 'in', 'beijing', 'volunteered', 'to', 'work', 'during', 'games', 'he', 'lives', 'in', 'same', 'hotel', 'as', 'we', 'do', 'can', 'only', 'go', 'between', 'hotel', 'cubicle', 'during', 'his', 'shifts', 'that', 'last', 'at', 'least', 'six', 'hours', 'he', 'cannot', 'drink', 'eat', 'use', 'bathroom', 'entire', 'time', 'to', 'prevent', 'himself', 'from', 'needing', 'to', 'relieve', 'himself', 'he', 'doesn’t', 'eat', 'before', 'his', 'shift', 'starts', 'he', 'says', 'its', 'difficult', 'to', 'be', 'away', 'from', 'his', '6yearold', 'son', 'for', 'so', 'long', 'but', 'he', 'manages', 'to', 'video', 'call', 'him', 'every', 'day', 'despite', 'grueling', 'work', 'he', 'said', 'hes', 'proud', 'to', 'be', 'part', 'of', 'winter', 'olympics', 'to', 'travel', 'between', 'our', 'hotel', 'olympic', 'venues', 'we', 'have', 'dedicated', 'drivers', 'one', 'of', 'them', 'told', 'me', 'he', 'misses', 'his', '3yearold', 'son', 'that', 'hes', 'already', 'grown', 'tired', 'of', 'food', 'in', 'his', 'closedloop', 'hotel', 'on', 'lunar', 'new', 'year', 'day', 'i', 'saw', 'an', 'olympic', 'worker', 'standing', 'at', 'edge', 'of', 'closedloop', 'waving', 'to', 'her', 'two', 'young', 'sons', 'behind', 'layers', 'of', 'barricades', 'fences', 'meters', 'apart', 'her', 'sons', 'yelled', 'to', 'their', 'mother', 'that', 'they', 'missed', 'her', 'wished', 'they', 'could', 'be', 'together', 'for', 'new', 'year', 'woman', 'told', 'me', 'her', 'family', 'lives', 'close', 'to', 'olympic', 'area', 'in', 'fact', 'she', 'could', 'even', 'see', 'her', 'home', 'from', 'her', 'hotel', 'room', 'in', 'closedloop', 'she', 'told', 'me', 'this', 'was', 'the', 'longest', 'that', 'shed', 'ever', 'been', 'apart', 'from', 'her', 'kids', 'it', 'made', 'her', 'tearful', 'to', 'think', 'about', 'how', 'close', 'yet', 'how', 'far', 'apart', 'they', 'are']\n"
     ]
    }
   ],
   "source": [
    "print(contents_split)"
   ]
  },
  {
   "cell_type": "code",
   "execution_count": 9,
   "id": "d15b5f26-e229-4716-842c-955b415ef6b1",
   "metadata": {},
   "outputs": [],
   "source": [
    "for word in contents_split:\n",
    "    if word in words_counts:\n",
    "        words_counts[word] += 1 # update existing key-value pair\n",
    "    else:\n",
    "        words_counts[word] = 1 # insert new key-value pair"
   ]
  },
  {
   "cell_type": "code",
   "execution_count": 10,
   "id": "2ca5ed7b-49d4-417c-816f-001325ab7c99",
   "metadata": {},
   "outputs": [
    {
     "name": "stdout",
     "output_type": "stream",
     "text": [
      "dict_items([('there', 2), ('are', 5), ('thousands', 1), ('of', 10), ('local', 1), ('staff', 1), ('volunteers', 1), ('that', 5), ('help', 1), ('olympic', 5), ('participants', 1), ('inside', 3), ('closed', 1), ('loop', 1), ('most', 1), ('people', 1), ('never', 1), ('fully', 1), ('see', 2), ('each', 3), ('others', 1), ('expressions', 1), ('as', 2), ('everyone', 1), ('masked', 1), ('in', 11), ('fact', 2), ('many', 2), ('them', 3), ('covered', 1), ('from', 6), ('head', 1), ('to', 16), ('toe', 1), ('full', 1), ('protective', 1), ('gear', 1), ('but', 2), ('eager', 1), ('chat', 1), ('longing', 1), ('for', 5), ('more', 1), ('interaction', 1), ('conversation', 1), ('im', 1), ('struck', 1), ('by', 1), ('personal', 1), ('sacrifice', 1), ('theyve', 1), ('made', 2), ('be', 4), ('part', 2), ('event', 1), ('months', 1), ('they', 5), ('have', 2), ('live', 1), ('apart', 4), ('their', 2), ('families', 1), ('bubble', 1), ('after', 1), ('games', 2), ('end', 1), ('theyre', 1), ('quarantine', 1), ('21', 1), ('days', 1), ('at', 3), ('government', 1), ('facility', 1), ('ensure', 1), ('no', 1), ('covid19', 2), ('case', 1), ('slips', 1), ('out', 1), ('two', 2), ('tiny', 1), ('glass', 1), ('cubicles', 1), ('outside', 1), ('our', 5), ('hotel', 6), ('one', 2), ('worker', 2), ('hazmat', 1), ('suit', 1), ('mask', 1), ('face', 1), ('shield', 1), ('administer', 1), ('tests', 1), ('every', 2), ('day', 3), ('first', 2), ('cubicle', 4), ('scans', 1), ('credentials', 1), ('hands', 1), ('us', 1), ('tube', 1), ('second', 1), ('takes', 1), ('throat', 1), ('swab', 1), ('i', 2), ('asked', 1), ('man', 1), ('how', 3), ('he', 8), ('was', 2), ('doing', 1), ('hes', 3), ('a', 1), ('nurse', 1), ('beijing', 1), ('volunteered', 1), ('work', 2), ('during', 2), ('lives', 2), ('same', 1), ('we', 2), ('do', 1), ('can', 1), ('only', 1), ('go', 1), ('between', 2), ('his', 5), ('shifts', 1), ('last', 1), ('least', 1), ('six', 1), ('hours', 1), ('cannot', 1), ('drink', 1), ('eat', 2), ('use', 1), ('bathroom', 1), ('entire', 1), ('time', 1), ('prevent', 1), ('himself', 2), ('needing', 1), ('relieve', 1), ('doesn’t', 1), ('before', 1), ('shift', 1), ('starts', 1), ('says', 1), ('its', 1), ('difficult', 1), ('away', 1), ('6yearold', 1), ('son', 2), ('so', 1), ('long', 1), ('manages', 1), ('video', 1), ('call', 1), ('him', 1), ('despite', 1), ('grueling', 1), ('said', 1), ('proud', 1), ('winter', 1), ('olympics', 1), ('travel', 1), ('venues', 1), ('dedicated', 1), ('drivers', 1), ('told', 3), ('me', 3), ('misses', 1), ('3yearold', 1), ('already', 1), ('grown', 1), ('tired', 1), ('food', 1), ('closedloop', 3), ('on', 1), ('lunar', 1), ('new', 2), ('year', 2), ('saw', 1), ('an', 1), ('standing', 1), ('edge', 1), ('waving', 1), ('her', 8), ('young', 1), ('sons', 2), ('behind', 1), ('layers', 1), ('barricades', 1), ('fences', 1), ('meters', 1), ('yelled', 1), ('mother', 1), ('missed', 1), ('wished', 1), ('could', 2), ('together', 1), ('woman', 1), ('family', 1), ('close', 2), ('area', 1), ('she', 2), ('even', 1), ('home', 1), ('room', 1), ('this', 1), ('the', 1), ('longest', 1), ('shed', 1), ('ever', 1), ('been', 1), ('kids', 1), ('it', 1), ('tearful', 1), ('think', 1), ('about', 1), ('yet', 1), ('far', 1)])\n"
     ]
    }
   ],
   "source": [
    "print(words_counts.items())"
   ]
  },
  {
   "cell_type": "code",
   "execution_count": 13,
   "id": "d4c1975c-0fef-46bb-9f55-cd3ac17d166c",
   "metadata": {},
   "outputs": [
    {
     "name": "stdout",
     "output_type": "stream",
     "text": [
      "COUNT       WORD\n",
      "16          to\n",
      "11          in\n",
      "10          of\n",
      "8           he\n",
      "8           her\n",
      "6           from\n",
      "6           hotel\n",
      "5           are\n",
      "5           that\n",
      "5           olympic\n",
      "5           for\n",
      "5           they\n",
      "5           our\n",
      "5           his\n",
      "4           be\n",
      "4           apart\n",
      "4           cubicle\n",
      "3           inside\n",
      "3           each\n",
      "3           them\n",
      "3           at\n",
      "3           day\n",
      "3           how\n",
      "3           hes\n",
      "3           told\n",
      "3           me\n",
      "3           closedloop\n",
      "2           there\n",
      "2           see\n",
      "2           as\n",
      "2           fact\n",
      "2           many\n",
      "2           but\n",
      "2           made\n",
      "2           part\n",
      "2           have\n",
      "2           their\n",
      "2           games\n",
      "2           covid19\n",
      "2           two\n",
      "2           one\n",
      "2           worker\n",
      "2           every\n",
      "2           first\n",
      "2           i\n",
      "2           was\n",
      "2           work\n",
      "2           during\n",
      "2           lives\n",
      "2           we\n",
      "2           between\n",
      "2           eat\n",
      "2           himself\n",
      "2           son\n",
      "2           new\n",
      "2           year\n",
      "2           sons\n",
      "2           could\n",
      "2           close\n",
      "2           she\n",
      "1           thousands\n",
      "1           local\n",
      "1           staff\n",
      "1           volunteers\n",
      "1           help\n",
      "1           participants\n",
      "1           closed\n",
      "1           loop\n",
      "1           most\n",
      "1           people\n",
      "1           never\n",
      "1           fully\n",
      "1           others\n",
      "1           expressions\n",
      "1           everyone\n",
      "1           masked\n",
      "1           covered\n",
      "1           head\n",
      "1           toe\n",
      "1           full\n",
      "1           protective\n",
      "1           gear\n",
      "1           eager\n",
      "1           chat\n",
      "1           longing\n",
      "1           more\n",
      "1           interaction\n",
      "1           conversation\n",
      "1           im\n",
      "1           struck\n",
      "1           by\n",
      "1           personal\n",
      "1           sacrifice\n",
      "1           theyve\n",
      "1           event\n",
      "1           months\n",
      "1           live\n",
      "1           families\n",
      "1           bubble\n",
      "1           after\n",
      "1           end\n",
      "1           theyre\n",
      "1           quarantine\n",
      "1           21\n",
      "1           days\n",
      "1           government\n",
      "1           facility\n",
      "1           ensure\n",
      "1           no\n",
      "1           case\n",
      "1           slips\n",
      "1           out\n",
      "1           tiny\n",
      "1           glass\n",
      "1           cubicles\n",
      "1           outside\n",
      "1           hazmat\n",
      "1           suit\n",
      "1           mask\n",
      "1           face\n",
      "1           shield\n",
      "1           administer\n",
      "1           tests\n",
      "1           scans\n",
      "1           credentials\n",
      "1           hands\n",
      "1           us\n",
      "1           tube\n",
      "1           second\n",
      "1           takes\n",
      "1           throat\n",
      "1           swab\n",
      "1           asked\n",
      "1           man\n",
      "1           doing\n",
      "1           a\n",
      "1           nurse\n",
      "1           beijing\n",
      "1           volunteered\n",
      "1           same\n",
      "1           do\n",
      "1           can\n",
      "1           only\n",
      "1           go\n",
      "1           shifts\n",
      "1           last\n",
      "1           least\n",
      "1           six\n",
      "1           hours\n",
      "1           cannot\n",
      "1           drink\n",
      "1           use\n",
      "1           bathroom\n",
      "1           entire\n",
      "1           time\n",
      "1           prevent\n",
      "1           needing\n",
      "1           relieve\n",
      "1           doesn’t\n",
      "1           before\n",
      "1           shift\n",
      "1           starts\n",
      "1           says\n",
      "1           its\n",
      "1           difficult\n",
      "1           away\n",
      "1           6yearold\n",
      "1           so\n",
      "1           long\n",
      "1           manages\n",
      "1           video\n",
      "1           call\n",
      "1           him\n",
      "1           despite\n",
      "1           grueling\n",
      "1           said\n",
      "1           proud\n",
      "1           winter\n",
      "1           olympics\n",
      "1           travel\n",
      "1           venues\n",
      "1           dedicated\n",
      "1           drivers\n",
      "1           misses\n",
      "1           3yearold\n",
      "1           already\n",
      "1           grown\n",
      "1           tired\n",
      "1           food\n",
      "1           on\n",
      "1           lunar\n",
      "1           saw\n",
      "1           an\n",
      "1           standing\n",
      "1           edge\n",
      "1           waving\n",
      "1           young\n",
      "1           behind\n",
      "1           layers\n",
      "1           barricades\n",
      "1           fences\n",
      "1           meters\n",
      "1           yelled\n",
      "1           mother\n",
      "1           missed\n",
      "1           wished\n",
      "1           together\n",
      "1           woman\n",
      "1           family\n",
      "1           area\n",
      "1           even\n",
      "1           home\n",
      "1           room\n",
      "1           this\n",
      "1           the\n",
      "1           longest\n",
      "1           shed\n",
      "1           ever\n",
      "1           been\n",
      "1           kids\n",
      "1           it\n",
      "1           tearful\n",
      "1           think\n",
      "1           about\n",
      "1           yet\n",
      "1           far\n",
      "\n",
      "Number of unique words: 226\n"
     ]
    }
   ],
   "source": [
    "print(f'{\"COUNT\":<12}WORD')\n",
    "\n",
    "for count, word in sorted(words_counts.items(), key=lambda item: item[1], reverse=True):\n",
    "    print(f'{word:<12}{count}')\n",
    "    \n",
    "print('\\nNumber of unique words:', len(words_counts))"
   ]
  }
 ],
 "metadata": {
  "kernelspec": {
   "display_name": "Python 3 (ipykernel)",
   "language": "python",
   "name": "python3"
  },
  "language_info": {
   "codemirror_mode": {
    "name": "ipython",
    "version": 3
   },
   "file_extension": ".py",
   "mimetype": "text/x-python",
   "name": "python",
   "nbconvert_exporter": "python",
   "pygments_lexer": "ipython3",
   "version": "3.9.7"
  }
 },
 "nbformat": 4,
 "nbformat_minor": 5
}
