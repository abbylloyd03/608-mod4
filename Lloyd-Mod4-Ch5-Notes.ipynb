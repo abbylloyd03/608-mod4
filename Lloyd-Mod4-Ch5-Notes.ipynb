{
 "cells": [
  {
   "cell_type": "markdown",
   "id": "21410960-a523-45af-8c28-77c4f71fa527",
   "metadata": {},
   "source": [
    "# Chapter 5: Lists and Tuples"
   ]
  },
  {
   "cell_type": "markdown",
   "id": "675139e3-d946-4837-b71e-a5c30f16baf1",
   "metadata": {},
   "source": [
    "### 5.2 Lists"
   ]
  },
  {
   "cell_type": "markdown",
   "id": "d1ac20ab-ce8c-4d67-bff6-62e086554e4d",
   "metadata": {},
   "source": [
    "Lists typically store homogeneous data, but they may also store heterogenous data."
   ]
  },
  {
   "cell_type": "code",
   "execution_count": 1,
   "id": "3138ac1a-e8ec-4a23-bee4-2532a3c67784",
   "metadata": {},
   "outputs": [
    {
     "name": "stdout",
     "output_type": "stream",
     "text": [
      "[-45, 6, 0, 72, 1543]\n",
      "<class 'list'>\n"
     ]
    }
   ],
   "source": [
    "c = [-45, 6, 0, 72, 1543]\n",
    "print(c)\n",
    "print(type(c))"
   ]
  },
  {
   "cell_type": "markdown",
   "id": "18905d85-53be-4045-8289-412837d45b19",
   "metadata": {},
   "source": [
    "Accessing elements of a list"
   ]
  },
  {
   "cell_type": "code",
   "execution_count": 2,
   "id": "b745779f-5455-4b45-9cbe-3c95cbb25bd8",
   "metadata": {},
   "outputs": [
    {
     "data": {
      "text/plain": [
       "-45"
      ]
     },
     "execution_count": 2,
     "metadata": {},
     "output_type": "execute_result"
    }
   ],
   "source": [
    "c[0]"
   ]
  },
  {
   "cell_type": "code",
   "execution_count": 3,
   "id": "59da734c-e9aa-40fc-a692-f71fca1e39d0",
   "metadata": {},
   "outputs": [
    {
     "data": {
      "text/plain": [
       "1543"
      ]
     },
     "execution_count": 3,
     "metadata": {},
     "output_type": "execute_result"
    }
   ],
   "source": [
    "c[4]"
   ]
  },
  {
   "cell_type": "markdown",
   "id": "bf824c9c-ead2-4a08-af5b-b6a4e9a2bec0",
   "metadata": {},
   "source": [
    "Length of a list"
   ]
  },
  {
   "cell_type": "code",
   "execution_count": 4,
   "id": "49075136-79f0-4d17-b092-2ba7832de1d1",
   "metadata": {},
   "outputs": [
    {
     "data": {
      "text/plain": [
       "5"
      ]
     },
     "execution_count": 4,
     "metadata": {},
     "output_type": "execute_result"
    }
   ],
   "source": [
    "len(c)"
   ]
  },
  {
   "cell_type": "markdown",
   "id": "3eda7b9a-feaa-4c42-af56-9b740be77d7c",
   "metadata": {},
   "source": [
    "Accessing elements of a list with negative indices"
   ]
  },
  {
   "cell_type": "code",
   "execution_count": 5,
   "id": "4feefba0-ce51-4ee5-8311-fc9f42183007",
   "metadata": {},
   "outputs": [
    {
     "data": {
      "text/plain": [
       "1543"
      ]
     },
     "execution_count": 5,
     "metadata": {},
     "output_type": "execute_result"
    }
   ],
   "source": [
    "c[-1]"
   ]
  },
  {
   "cell_type": "code",
   "execution_count": 6,
   "id": "ef5f27a1-eab0-4b1c-aaa2-9cfb9acf02b1",
   "metadata": {},
   "outputs": [
    {
     "data": {
      "text/plain": [
       "-45"
      ]
     },
     "execution_count": 6,
     "metadata": {},
     "output_type": "execute_result"
    }
   ],
   "source": [
    "c[-5]"
   ]
  },
  {
   "cell_type": "markdown",
   "id": "b0055dd7-b18d-40cd-94cf-0c71f13154cd",
   "metadata": {},
   "source": [
    "Lists are mutable"
   ]
  },
  {
   "cell_type": "code",
   "execution_count": 7,
   "id": "16aa9fdd-bd54-4f88-93fc-4abed6a52bfc",
   "metadata": {},
   "outputs": [
    {
     "name": "stdout",
     "output_type": "stream",
     "text": [
      "[-45, 6, 0, 72, 17]\n"
     ]
    }
   ],
   "source": [
    "c[4] = 17\n",
    "print(c)"
   ]
  },
  {
   "cell_type": "markdown",
   "id": "110e6eb3-9da2-406c-ae3c-6ec47085a65f",
   "metadata": {},
   "source": [
    "Python's string and tuple sequences are immutable–they cannot be modified. "
   ]
  },
  {
   "cell_type": "code",
   "execution_count": 8,
   "id": "5aaef6e4-8570-4c78-b21b-9599f2125783",
   "metadata": {},
   "outputs": [
    {
     "name": "stdout",
     "output_type": "stream",
     "text": [
      "h\n"
     ]
    }
   ],
   "source": [
    "s = 'hello'\n",
    "print(s[0])"
   ]
  },
  {
   "cell_type": "code",
   "execution_count": 9,
   "id": "9c5f8bd1-a397-431f-94ef-6cb4a11bc310",
   "metadata": {},
   "outputs": [
    {
     "ename": "TypeError",
     "evalue": "'str' object does not support item assignment",
     "output_type": "error",
     "traceback": [
      "\u001b[0;31m---------------------------------------------------------------------------\u001b[0m",
      "\u001b[0;31mTypeError\u001b[0m                                 Traceback (most recent call last)",
      "Input \u001b[0;32mIn [9]\u001b[0m, in \u001b[0;36m<module>\u001b[0;34m\u001b[0m\n\u001b[0;32m----> 1\u001b[0m s[\u001b[38;5;241m0\u001b[39m] \u001b[38;5;241m=\u001b[39m \u001b[38;5;124m'\u001b[39m\u001b[38;5;124mH\u001b[39m\u001b[38;5;124m'\u001b[39m\n",
      "\u001b[0;31mTypeError\u001b[0m: 'str' object does not support item assignment"
     ]
    }
   ],
   "source": [
    "s[0] = 'H'"
   ]
  },
  {
   "cell_type": "markdown",
   "id": "05bbca47-d1fa-489d-aa8b-3272df96f481",
   "metadata": {},
   "source": [
    "Attempting to Access a nonexistent element"
   ]
  },
  {
   "cell_type": "code",
   "execution_count": null,
   "id": "eb40e7af-37f9-4de3-92fc-3c90ed208c44",
   "metadata": {},
   "outputs": [],
   "source": [
    "c[100]"
   ]
  },
  {
   "cell_type": "markdown",
   "id": "2490a697-af20-492a-bedf-36f21d290252",
   "metadata": {},
   "source": [
    "Using list elements in expressions"
   ]
  },
  {
   "cell_type": "code",
   "execution_count": null,
   "id": "b2c67c92-6d03-4b47-b45b-2a07dd8486ef",
   "metadata": {},
   "outputs": [],
   "source": [
    "c[0] + c[1] + c[2]"
   ]
  },
  {
   "cell_type": "markdown",
   "id": "6ea0da85-c72c-46b0-b340-4a135d31fc49",
   "metadata": {},
   "source": [
    "Appending to a list with +="
   ]
  },
  {
   "cell_type": "code",
   "execution_count": null,
   "id": "da7057f6-79a4-4e0e-a21c-42d782494680",
   "metadata": {},
   "outputs": [],
   "source": [
    "a_list = []\n",
    "\n",
    "for number in range(1, 6):\n",
    "    a_list += [number] #the square brackets around number creat a one-element list, which we append to a_list\n",
    "\n",
    "a_list"
   ]
  },
  {
   "cell_type": "code",
   "execution_count": null,
   "id": "172ced3b-f57a-420e-8883-dcffd16f7760",
   "metadata": {},
   "outputs": [],
   "source": [
    "letters = []\n",
    "\n",
    "letters += 'Python'\n",
    "\n",
    "letters"
   ]
  },
  {
   "cell_type": "markdown",
   "id": "d39c2e30-735a-429c-af42-80d84fdea605",
   "metadata": {},
   "source": [
    "Concatenating lists with +"
   ]
  },
  {
   "cell_type": "code",
   "execution_count": null,
   "id": "948a3436-99d4-46c6-8305-a3c586af6fe3",
   "metadata": {},
   "outputs": [],
   "source": [
    "list1 = [10, 20, 30]\n",
    "\n",
    "list2 = [40, 50]\n",
    "\n",
    "concatenated_list = list1 + list2\n",
    "\n",
    "concatenated_list"
   ]
  },
  {
   "cell_type": "markdown",
   "id": "b73bf9e3-4746-426b-89ea-1817b174e283",
   "metadata": {},
   "source": [
    "Using for and range to accesss list indices and values"
   ]
  },
  {
   "cell_type": "code",
   "execution_count": null,
   "id": "7fdbf10d-090c-456f-bda8-78db8e430228",
   "metadata": {},
   "outputs": [],
   "source": [
    "for i in range(len(concatenated_list)):\n",
    "    print(f'{i}: {concatenated_list[i]}')"
   ]
  },
  {
   "cell_type": "code",
   "execution_count": null,
   "id": "05585e78-5539-44ce-b76e-e75ac5747a07",
   "metadata": {},
   "outputs": [],
   "source": [
    "a = [1, 2, 3]\n",
    "\n",
    "b = [1, 2, 3]\n",
    "\n",
    "c = [1, 2, 3, 4]\n",
    "\n",
    "print(a == b)\n",
    "\n",
    "print(a == c)\n",
    "\n",
    "print(a < c) # fewer elements\n",
    "\n",
    "print(c >= b)"
   ]
  },
  {
   "cell_type": "markdown",
   "id": "e28f53c5-d5e0-4ff5-8a8b-77addb4f54ef",
   "metadata": {},
   "source": [
    "### 5.2 Self Check"
   ]
  },
  {
   "cell_type": "code",
   "execution_count": null,
   "id": "22c7a9a8-16f2-481d-a595-961b41486375",
   "metadata": {},
   "outputs": [],
   "source": [
    "def cube_list(values):\n",
    "    for i in range(len(values)):\n",
    "        values[i] **= 3\n",
    "\n",
    "numbers = [1, 2, 3, 4, 5, 6, 7, 8, 9, 10]\n",
    "\n",
    "cube_list(numbers)\n",
    "print(numbers)"
   ]
  },
  {
   "cell_type": "markdown",
   "id": "61c8da0d-b724-4419-9e72-7ac40abad1fa",
   "metadata": {},
   "source": [
    "### 5.3 Tuples"
   ]
  },
  {
   "cell_type": "markdown",
   "id": "22b4f7fd-c0e9-404a-9fe5-994f12718d1f",
   "metadata": {},
   "source": [
    "Tuples are immutable and typically store heterogeneous data, but the data can be homogeneous. A tuple's length cannot change during program execution. To create an empty tuple, use empty ()."
   ]
  },
  {
   "cell_type": "code",
   "execution_count": null,
   "id": "e8f4ec0a-ec55-4c6d-873a-2ded53f6ae55",
   "metadata": {},
   "outputs": [],
   "source": [
    "student_tuple = ()\n",
    "\n",
    "len(student_tuple)"
   ]
  },
  {
   "cell_type": "markdown",
   "id": "14d70237-00f5-4c33-ab55-9874717c2237",
   "metadata": {},
   "source": [
    "Pack a tuple by separating its values with commas."
   ]
  },
  {
   "cell_type": "code",
   "execution_count": null,
   "id": "789e1f3f-6607-4edc-893e-e28b6d9e7d39",
   "metadata": {},
   "outputs": [],
   "source": [
    "student_tuple = 'John', 'Green', 3.3\n",
    "\n",
    "print(student_tuple)\n",
    "print(len(student_tuple))"
   ]
  },
  {
   "cell_type": "markdown",
   "id": "78371859-73a2-4098-9a7d-ddfc6e6fcc68",
   "metadata": {},
   "source": [
    "When you output a tuple, Python alwyas displays its contents in parantheses."
   ]
  },
  {
   "cell_type": "code",
   "execution_count": null,
   "id": "5bd14590-bee3-4313-bc2d-5f4411cd2dc3",
   "metadata": {},
   "outputs": [],
   "source": [
    "another_student_tuple = 'Mary', 'Red', 3.3\n",
    "print(another_student_tuple)"
   ]
  },
  {
   "cell_type": "markdown",
   "id": "91953c94-5cbc-45ff-a15c-c6804ad5c6fb",
   "metadata": {},
   "source": [
    "To make a singelton tuple, you need to put a comma after the item. () are optional."
   ]
  },
  {
   "cell_type": "code",
   "execution_count": null,
   "id": "c8521f70-2020-4c8a-ba46-9141f0158d8b",
   "metadata": {},
   "outputs": [],
   "source": [
    "a_singleton_tuple = ('red',)\n",
    "print(a_singleton_tuple)"
   ]
  },
  {
   "cell_type": "markdown",
   "id": "a779c89e-995f-42de-b8ea-da67dc63b1f7",
   "metadata": {},
   "source": [
    "**Accessing tuple elements**: Usually, you do not iterate over tuples. Rather, you access each individually. Tuple indices start at 0, like lists. "
   ]
  },
  {
   "cell_type": "code",
   "execution_count": null,
   "id": "5ce005d3-0ddb-4c6a-adc8-f5ef9fcc3135",
   "metadata": {},
   "outputs": [],
   "source": [
    "time_tuple = (9, 16, 1)\n",
    "\n",
    "time_tuple[0]"
   ]
  },
  {
   "cell_type": "code",
   "execution_count": null,
   "id": "7190bfec-84b5-4edc-8ee6-a402d1cd7c1e",
   "metadata": {},
   "outputs": [],
   "source": [
    "time_tuple[0] * 3600 + time_tuple[1] * 60 + time_tuple[2]"
   ]
  },
  {
   "cell_type": "markdown",
   "id": "729fffeb-488d-4247-b304-a1e722604087",
   "metadata": {},
   "source": [
    "**Adding items to a string or tuple**: the =+ statement can be used with strings and tuples, even though they're immutable. "
   ]
  },
  {
   "cell_type": "code",
   "execution_count": null,
   "id": "de6e6a6a-6fae-40b4-a759-84ef66691df1",
   "metadata": {},
   "outputs": [],
   "source": [
    "tuple1 = (10, 20, 30)\n",
    "\n",
    "tuple2 = tuple1\n",
    "\n",
    "tuple2"
   ]
  },
  {
   "cell_type": "code",
   "execution_count": null,
   "id": "f421c443-5def-4e38-aee4-479375b01b5d",
   "metadata": {},
   "outputs": [],
   "source": [
    "tuple1 += (40, 50)\n",
    "\n",
    "print(tuple1)\n",
    "\n",
    "print(tuple2)"
   ]
  },
  {
   "cell_type": "markdown",
   "id": "d451960e-b491-4337-a956-54badd3a81c1",
   "metadata": {},
   "source": [
    "**Appending tuples to lists**: you can use += to append a tuple to a list."
   ]
  },
  {
   "cell_type": "code",
   "execution_count": null,
   "id": "10934d15-1233-4d18-a342-58db74d852f8",
   "metadata": {},
   "outputs": [],
   "source": [
    "numbers = [1, 2, 3, 4, 5]\n",
    "\n",
    "numbers += (6, 7)\n",
    "\n",
    "numbers"
   ]
  },
  {
   "cell_type": "markdown",
   "id": "da4397ed-2b4c-45fd-a284-f19cc816d731",
   "metadata": {},
   "source": [
    "**Tuples may contain mutable objects**"
   ]
  },
  {
   "cell_type": "code",
   "execution_count": null,
   "id": "f863500e-e6e3-42a5-a9b4-e0d21d4c0543",
   "metadata": {},
   "outputs": [],
   "source": [
    "student_tuple = ('Amanda', 'Blue', [98, 75, 87])\n",
    "\n",
    "student_tuple[2][1] = 85\n",
    "\n",
    "print(student_tuple)"
   ]
  },
  {
   "cell_type": "markdown",
   "id": "52ae857f-8b6b-43b0-86e2-01232793b7d4",
   "metadata": {},
   "source": [
    "### 5.3 Self Check"
   ]
  },
  {
   "cell_type": "code",
   "execution_count": null,
   "id": "4b88f65d-c60b-4d48-9162-f70c422e6b52",
   "metadata": {},
   "outputs": [],
   "source": [
    "single_tuple = (123.45,)\n",
    "\n",
    "print(single_tuple)"
   ]
  },
  {
   "cell_type": "code",
   "execution_count": null,
   "id": "01d287c9-ef48-4c0d-885e-be6951b4a369",
   "metadata": {},
   "outputs": [],
   "source": [
    "list10 = [1, 2, 3]\n",
    "\n",
    "tuple10 = (4, 5, 6)\n",
    "\n",
    "list10 += tuple10\n",
    "\n",
    "print(list10)"
   ]
  },
  {
   "cell_type": "code",
   "execution_count": null,
   "id": "aa727d2b-b174-4d6d-ad78-1e5313651423",
   "metadata": {},
   "outputs": [],
   "source": [
    "[1, 2, 3] + (4, 5, 6)"
   ]
  },
  {
   "cell_type": "markdown",
   "id": "13e50ea0-ede0-4843-81b6-630f93ea5e89",
   "metadata": {},
   "source": [
    "### 5.4 Unpacking Sequences"
   ]
  },
  {
   "cell_type": "markdown",
   "id": "3421ce7e-71b8-49f1-bdd3-b11ae6de2dcf",
   "metadata": {},
   "source": [
    "You can unpack any sequence's elements by assigning the sequence to a comma-separated list of variables. A ValueError occurs if the number of variables to the left of the assignment is not identical to the number of elements in the sequences on the right."
   ]
  },
  {
   "cell_type": "code",
   "execution_count": null,
   "id": "e3d4f7af-d11b-4862-86ea-a40e60c1d83d",
   "metadata": {},
   "outputs": [],
   "source": [
    "student_tuple = ('Amanda', [98, 85, 87])\n",
    "\n",
    "first_name, grades = student_tuple\n",
    "\n",
    "print(first_name)\n",
    "print(grades)"
   ]
  },
  {
   "cell_type": "markdown",
   "id": "fe4b4ba2-1dc4-4293-8340-7f51937164c3",
   "metadata": {},
   "source": [
    "Unpack a string, a list, and a sequence produced by range."
   ]
  },
  {
   "cell_type": "code",
   "execution_count": null,
   "id": "33cf3c42-b343-4ba8-a872-049a7f413360",
   "metadata": {},
   "outputs": [],
   "source": [
    "first, second = 'hi'\n",
    "print(f'{first} {second}')"
   ]
  },
  {
   "cell_type": "code",
   "execution_count": null,
   "id": "19b5154c-bf0f-4e02-b8dc-f62fb24bb9fc",
   "metadata": {},
   "outputs": [],
   "source": [
    "number1, number2, number3 = [2, 3, 5]\n",
    "\n",
    "print(f'{number1} {number2} {number3}')"
   ]
  },
  {
   "cell_type": "code",
   "execution_count": null,
   "id": "df0f4ff0-9cde-46c7-b860-d6b1d5655122",
   "metadata": {},
   "outputs": [],
   "source": [
    "number1, number2, number3 = range(10, 40, 10)\n",
    "print(f'{number1} {number2} {number3}')"
   ]
  },
  {
   "cell_type": "markdown",
   "id": "a3939d21-9d01-4088-ac59-612f8e85b4c8",
   "metadata": {},
   "source": [
    "Swapping values via packing and unpacking"
   ]
  },
  {
   "cell_type": "code",
   "execution_count": null,
   "id": "205c5a14-ed29-459b-b422-8cdc14275dea",
   "metadata": {},
   "outputs": [],
   "source": [
    "number1 = 99\n",
    "\n",
    "number2 = 22\n",
    "\n",
    "number1, number2 = (number2, number1)\n",
    "\n",
    "print(f'number1 = {number1}; number2 = {number2}')"
   ]
  },
  {
   "cell_type": "markdown",
   "id": "49bde0f4-2968-4112-be21-444dbe629932",
   "metadata": {},
   "source": [
    "**Accessing indices and values safely with built-in function enumerate.**"
   ]
  },
  {
   "cell_type": "markdown",
   "id": "d76b6178-8006-4ca0-80f2-b8bb7893ba15",
   "metadata": {},
   "source": [
    "The preferred mechanism for accessing an element's index and value is the built-in function **enumerate**. This function receives an iterable and creates an iterator that, for each element, returns a tuple containing the element's index and value."
   ]
  },
  {
   "cell_type": "code",
   "execution_count": null,
   "id": "aba58d26-6fcc-41cc-9696-eabc9a9f7edc",
   "metadata": {},
   "outputs": [],
   "source": [
    "colors = ['red', 'orange', 'yellow']\n",
    "\n",
    "list((enumerate(colors)))\n"
   ]
  },
  {
   "cell_type": "code",
   "execution_count": null,
   "id": "d2038421-99d7-4119-9c50-ab70a0047d85",
   "metadata": {},
   "outputs": [],
   "source": [
    "tuple(enumerate(colors))"
   ]
  },
  {
   "cell_type": "markdown",
   "id": "d0f0ed03-e5f2-4808-b315-87836050600e",
   "metadata": {},
   "source": [
    "Unpack each tuple returned be enumerate into the variables index and value."
   ]
  },
  {
   "cell_type": "code",
   "execution_count": null,
   "id": "4be69152-9ce8-42ba-8748-02a5ed6fd2b4",
   "metadata": {},
   "outputs": [],
   "source": [
    "for index, value in enumerate(colors):\n",
    "    print(f'{index}:{value}')"
   ]
  },
  {
   "cell_type": "markdown",
   "id": "099cb59d-b7fe-4691-9826-be257acde67d",
   "metadata": {},
   "source": [
    "Creating a primitive bar chart."
   ]
  },
  {
   "cell_type": "code",
   "execution_count": null,
   "id": "eb60f1cc-ad57-4834-9cc9-e4e1d7fc588c",
   "metadata": {},
   "outputs": [],
   "source": [
    "\"\"\"Displaying a bar chart\"\"\"\n",
    "\n",
    "numbers = [19, 3, 15, 7, 11]\n",
    "\n",
    "print('\\nCreating a bar chart from numbers:')\n",
    "print(f'Index{\"Value\":>8}   Bar')\n",
    "\n",
    "for index, value in enumerate(numbers):\n",
    "    print(f'{index:>5}{value:>8}   {\"*\" * value}')\n",
    "\n"
   ]
  },
  {
   "cell_type": "markdown",
   "id": "4fd4cf2d-af02-4d08-a258-dd95dcddae38",
   "metadata": {},
   "source": [
    "### 5.4 Self Check"
   ]
  },
  {
   "cell_type": "code",
   "execution_count": null,
   "id": "28a55b8a-72a4-47ae-ba9f-3a5d6b7785bc",
   "metadata": {},
   "outputs": [],
   "source": [
    "high_low = ('Tuesday', 56, 19)\n",
    "print(high_low)\n",
    "\n",
    "print(high_low[0])\n",
    "print(high_low[1])\n",
    "print(high_low[2])\n",
    "\n",
    "day, high, low = high_low\n",
    "\n",
    "print(f'day: {day}')\n",
    "print(f'high: {high}')\n",
    "print(f'low: {low}')\n",
    "      "
   ]
  },
  {
   "cell_type": "code",
   "execution_count": null,
   "id": "4fbcb1c5-7cd9-4019-b316-40d95211f23f",
   "metadata": {},
   "outputs": [],
   "source": [
    "names = ['Abby', 'Kalie', 'Riley']\n",
    "\n",
    "for index, value in enumerate(names):\n",
    "    print(index, value)"
   ]
  },
  {
   "cell_type": "markdown",
   "id": "0f3c7a3e-5aa6-42f5-8a97-bf18a081c487",
   "metadata": {},
   "source": [
    "### 5.5 Sequence Slicing"
   ]
  },
  {
   "cell_type": "markdown",
   "id": "f09b5130-ba96-4fdb-b9a7-113e16da36c3",
   "metadata": {},
   "source": [
    "Slice operations can modify mutable sequences. The slice copies elements from the starting index up to (but not including) the ending index. **The original list is not modified.** Though slices create new objects, **slices make shallow copies of the elements.** They copy the elements' references but not the objects they point to."
   ]
  },
  {
   "cell_type": "code",
   "execution_count": null,
   "id": "29bbc28a-4bb8-4af2-958a-c051d2177957",
   "metadata": {},
   "outputs": [],
   "source": [
    "numbers = [2, 3, 5, 7, 11, 13, 17, 19]\n",
    "\n",
    "print(numbers[2:6])"
   ]
  },
  {
   "cell_type": "markdown",
   "id": "66ce12b9-d049-4932-a5a3-5e654026e916",
   "metadata": {
    "tags": []
   },
   "source": [
    "Specifying a slice with only an ending index."
   ]
  },
  {
   "cell_type": "code",
   "execution_count": null,
   "id": "b7a53693-85ae-48fa-a869-c1d001f5b0e4",
   "metadata": {},
   "outputs": [],
   "source": [
    "print(numbers[:6])\n",
    "\n",
    "print(numbers[0:6])"
   ]
  },
  {
   "cell_type": "markdown",
   "id": "beab9e0a-4a3e-4b6c-bfe2-d1ac9f31bb1c",
   "metadata": {},
   "source": [
    "Specifying a slice with only a startind index."
   ]
  },
  {
   "cell_type": "code",
   "execution_count": null,
   "id": "734b605b-53d1-4b5c-b18d-db573084b8b5",
   "metadata": {},
   "outputs": [],
   "source": [
    "print(numbers[6:])\n",
    "\n",
    "print(numbers[6:len(numbers)])"
   ]
  },
  {
   "cell_type": "markdown",
   "id": "a1ddad14-d0b2-41df-a867-f964d07c1e00",
   "metadata": {},
   "source": [
    "Specifying a slice with no indices. (Copies the entire sequence.)"
   ]
  },
  {
   "cell_type": "code",
   "execution_count": null,
   "id": "ad0769f8-4162-412e-b75f-607484190990",
   "metadata": {},
   "outputs": [],
   "source": [
    "numbers[:]"
   ]
  },
  {
   "cell_type": "markdown",
   "id": "7fd8ca7a-272f-4731-8376-e67ec1cd4199",
   "metadata": {},
   "source": [
    "Slicing with steps."
   ]
  },
  {
   "cell_type": "code",
   "execution_count": null,
   "id": "67188598-3ea2-4e5c-83b0-11b0711d1a05",
   "metadata": {},
   "outputs": [],
   "source": [
    "numbers[::2]"
   ]
  },
  {
   "cell_type": "code",
   "execution_count": null,
   "id": "1068565d-aee1-45fc-8b74-38cfd2014836",
   "metadata": {},
   "outputs": [],
   "source": [
    "numbers[1:7:2]"
   ]
  },
  {
   "cell_type": "markdown",
   "id": "53bf849f-0b03-4a8f-86f0-7ea4d0ba6649",
   "metadata": {},
   "source": [
    "Slicing with negative indices and steps."
   ]
  },
  {
   "cell_type": "code",
   "execution_count": null,
   "id": "affbd336-39d1-4f6f-aaa4-4aee1e38813a",
   "metadata": {},
   "outputs": [],
   "source": [
    "numbers[::-1]"
   ]
  },
  {
   "cell_type": "code",
   "execution_count": null,
   "id": "ca6a077e-ae4d-4dff-b9a6-fc203f00b64b",
   "metadata": {},
   "outputs": [],
   "source": [
    "numbers[-1:-9:-1]"
   ]
  },
  {
   "cell_type": "markdown",
   "id": "0bed52bd-69fb-4264-b5f8-31f8f921c61a",
   "metadata": {},
   "source": [
    "Modifying lists via slices. You can modify a list by assigning a slice of it to new values."
   ]
  },
  {
   "cell_type": "code",
   "execution_count": null,
   "id": "f6b0db72-65b4-49b1-b931-ee28f044cb49",
   "metadata": {},
   "outputs": [],
   "source": [
    "numbers[0:3] = ['two', 'three', 'five']\n",
    "\n",
    "print(numbers)"
   ]
  },
  {
   "cell_type": "markdown",
   "id": "a64e484e-dea7-45da-bef7-c9dccdb531ad",
   "metadata": {},
   "source": [
    "Delete part of a list using a slice."
   ]
  },
  {
   "cell_type": "code",
   "execution_count": null,
   "id": "91b13d24-c9e6-4877-8334-3c00c4b7f63f",
   "metadata": {},
   "outputs": [],
   "source": [
    "numbers[0:3] = []\n",
    "print(numbers)"
   ]
  },
  {
   "cell_type": "markdown",
   "id": "3601e230-5978-492d-8411-05475af1ca94",
   "metadata": {},
   "source": [
    "Assign a list's elements to a slice of every other element."
   ]
  },
  {
   "cell_type": "code",
   "execution_count": null,
   "id": "6b983772-3111-434c-ab15-13a78a54a687",
   "metadata": {},
   "outputs": [],
   "source": [
    "numbers = [2, 3, 5, 7, 11, 13, 17, 19]\n",
    "\n",
    "numbers[::2] = [100, 100, 100, 100]\n",
    "\n",
    "print(numbers)"
   ]
  },
  {
   "cell_type": "markdown",
   "id": "ad35ac51-82e0-4db1-b89b-3432d3968050",
   "metadata": {},
   "source": [
    "Delete all elements in a string, using a slice."
   ]
  },
  {
   "cell_type": "code",
   "execution_count": null,
   "id": "0b58c6b0-3abe-4fcf-bad3-fe8f888a08ae",
   "metadata": {},
   "outputs": [],
   "source": [
    "print(id(numbers))\n",
    "\n",
    "numbers[:] = []\n",
    "\n",
    "print(numbers)\n",
    "print(id(numbers))\n",
    " "
   ]
  },
  {
   "cell_type": "code",
   "execution_count": null,
   "id": "81a64db1-2881-42cc-92c7-d16bb22261f5",
   "metadata": {},
   "outputs": [],
   "source": [
    "print(id(numbers))\n",
    "print(numbers)\n",
    "\n",
    "numbers = []\n",
    "print(numbers)\n",
    "print(id(numbers))"
   ]
  },
  {
   "cell_type": "markdown",
   "id": "dd37dd55-40bf-439b-9cc9-4a0318d941ce",
   "metadata": {},
   "source": [
    "### 5.6 Self Check"
   ]
  },
  {
   "cell_type": "code",
   "execution_count": null,
   "id": "14ed7c6b-d520-44a6-888d-959093d787cc",
   "metadata": {},
   "outputs": [],
   "source": [
    "numbers = [1, 2, 3, 4, 5, 6, 7, 8, 9, 10, 11, 12, 13, 14, 15]\n",
    "\n",
    "print(f'Even numbers: {numbers[1::2]}')\n",
    "\n",
    "numbers[4:10] = [0, 0, 0, 0, 0]\n",
    "print(f'Replace indices 5 through 9: {numbers}')\n",
    "\n",
    "numbers[5:] = []\n",
    "print(f'Keep only the first five elements: {numbers}')\n",
    "\n",
    "numbers[:] = []\n",
    "print(f'Delete all remaining elements: {numbers}')"
   ]
  },
  {
   "cell_type": "markdown",
   "id": "51dd03fd-0cb8-4423-ac71-d655dca73045",
   "metadata": {},
   "source": [
    "### 5.6 del Statement"
   ]
  },
  {
   "cell_type": "markdown",
   "id": "57298cb8-9f79-439f-95c9-631cfa790efe",
   "metadata": {},
   "source": [
    "The del statement can be used to remove elements from a list and to delete variables from the interactive session."
   ]
  },
  {
   "cell_type": "markdown",
   "id": "529f93eb-a850-447f-955d-629e2b8e73d1",
   "metadata": {},
   "source": [
    "Deleting the element at a specific list index."
   ]
  },
  {
   "cell_type": "code",
   "execution_count": null,
   "id": "26e306a1-f937-49c2-b469-ce5d0540d973",
   "metadata": {},
   "outputs": [],
   "source": [
    "numbers = list(range(0, 10))\n",
    "\n",
    "print(numbers)\n",
    "\n",
    "del numbers[-1]\n",
    "\n",
    "print(numbers)"
   ]
  },
  {
   "cell_type": "markdown",
   "id": "42fa7b4c-a612-4c84-a7d8-3a075094a88f",
   "metadata": {},
   "source": [
    "Deleting a slice from a list."
   ]
  },
  {
   "cell_type": "code",
   "execution_count": null,
   "id": "e076bdd2-07af-4013-a349-3a3a12214ef5",
   "metadata": {},
   "outputs": [],
   "source": [
    "del numbers[0:2]\n",
    "print(numbers)"
   ]
  },
  {
   "cell_type": "code",
   "execution_count": null,
   "id": "6f0c7727-bb3e-4d44-a16e-ee896c50bba0",
   "metadata": {},
   "outputs": [],
   "source": [
    "del numbers[::2]\n",
    "print(numbers)"
   ]
  },
  {
   "cell_type": "markdown",
   "id": "0193f0c5-396a-46c2-a7af-4db257a27c1f",
   "metadata": {},
   "source": [
    "Deleting a slice representing the entire list."
   ]
  },
  {
   "cell_type": "code",
   "execution_count": null,
   "id": "e6208d39-c2ef-4508-9a4a-eebb2e5ac215",
   "metadata": {},
   "outputs": [],
   "source": [
    "del numbers[:]\n",
    "print(numbers)"
   ]
  },
  {
   "cell_type": "markdown",
   "id": "7ad5bd22-240a-4c14-bc60-3138e440411c",
   "metadata": {},
   "source": [
    "Delete a variable from the current session."
   ]
  },
  {
   "cell_type": "code",
   "execution_count": null,
   "id": "56e8195f-7b92-44cc-acfc-2ad4e1427539",
   "metadata": {},
   "outputs": [],
   "source": [
    "del numbers\n",
    "print(numbers)"
   ]
  },
  {
   "cell_type": "markdown",
   "id": "d2bfab3f-511e-4996-948c-d2499aa7704e",
   "metadata": {},
   "source": [
    "### 5.6 Self Check"
   ]
  },
  {
   "cell_type": "code",
   "execution_count": null,
   "id": "d07cdd35-2fd4-4493-a5e8-7d5a8e90383d",
   "metadata": {},
   "outputs": [],
   "source": [
    "numbers = list(range(1, 16))\n",
    "\n",
    "del numbers[0:4]\n",
    "print(numbers)\n",
    "\n",
    "del numbers[::2]\n",
    "print(numbers)"
   ]
  },
  {
   "cell_type": "markdown",
   "id": "f1a9f615-7bb0-4325-b5c7-1f149fd93b67",
   "metadata": {},
   "source": [
    "### 5.7 Passing Lists to Functions"
   ]
  },
  {
   "cell_type": "markdown",
   "id": "d17943ec-66b0-4566-abc7-9e28af1783cf",
   "metadata": {},
   "source": [
    "Passing an entire list to a function. The function receives a reference to the original list, so the statement in the loop's suite modifies each element in the original list object."
   ]
  },
  {
   "cell_type": "code",
   "execution_count": null,
   "id": "58b95f72-9ff5-4ffa-9a93-3995974f11fa",
   "metadata": {},
   "outputs": [],
   "source": [
    "def modify_elements(items):\n",
    "    \"\"\"Multiplies all eleent values in items by 2.\"\"\"\n",
    "    for i in range(len(items)):\n",
    "        items[i] *= 2\n",
    "      \n",
    "numbers = [10, 3, 7, 1, 9]\n",
    "\n",
    "modify_elements(numbers)\n",
    "\n",
    "print(numbers)"
   ]
  },
  {
   "cell_type": "markdown",
   "id": "017ab08e-f31e-4b4e-86cf-d4a9a3bddab9",
   "metadata": {},
   "source": [
    "When you pass a tuple to a function, attempting to modify the tuple's immutable elements results in a TypeError. (Tuples may contain mutable objects, such as list. Those objects still can be modified when a tuple is passed to a function.)"
   ]
  },
  {
   "cell_type": "code",
   "execution_count": null,
   "id": "2defe29f-bc05-453b-adbc-540effc5e28c",
   "metadata": {},
   "outputs": [],
   "source": [
    "numbers_tuple = (10, 20, 30)\n",
    "\n",
    "print(numbers_tuple)\n",
    "\n",
    "modify_elements(numbers_tuple)"
   ]
  },
  {
   "cell_type": "markdown",
   "id": "67d0e32c-5d1f-4d0a-9b53-f0c24f277207",
   "metadata": {},
   "source": [
    "### 5.8 Sorting Lists"
   ]
  },
  {
   "cell_type": "markdown",
   "id": "9e537ccf-8c0b-4af2-a9c6-061c4041db31",
   "metadata": {},
   "source": [
    "Sorting a list in ascending order."
   ]
  },
  {
   "cell_type": "code",
   "execution_count": null,
   "id": "2e9041a2-ba94-406f-8aa9-f6e94d595039",
   "metadata": {},
   "outputs": [],
   "source": [
    "numbers = [10, 9, 8, 7, 6, 5, 4, 3, 2, 1]\n",
    "\n",
    "numbers.sort()\n",
    "\n",
    "print(numbers)"
   ]
  },
  {
   "cell_type": "markdown",
   "id": "ddc05f20-98aa-49ba-8b70-7df4da76c873",
   "metadata": {},
   "source": [
    "Sorting a list in descending order."
   ]
  },
  {
   "cell_type": "code",
   "execution_count": null,
   "id": "f4156589-2739-401b-b3c0-659cc377b320",
   "metadata": {},
   "outputs": [],
   "source": [
    "numbers.sort(reverse=True)\n",
    "\n",
    "print(numbers)"
   ]
  },
  {
   "cell_type": "markdown",
   "id": "331bceed-26ba-4810-a8d1-62417e6890d3",
   "metadata": {},
   "source": [
    "The built-in function **sorted** returns a new list containing the sorted elements of its argument sequence. The original sequence is unmodified."
   ]
  },
  {
   "cell_type": "code",
   "execution_count": null,
   "id": "c0037314-f88f-4b7d-9bd9-ffd98e65f947",
   "metadata": {},
   "outputs": [],
   "source": [
    "numbers = [10, 3, 7, 6, 5, 9, 8, 3, 4]\n",
    "\n",
    "ascending_numbers = sorted(numbers)\n",
    "\n",
    "print(ascending_numbers)\n",
    "print(numbers)\n",
    "\n",
    "letters = 'owiejfnalasdkfjo'\n",
    "\n",
    "ascending_letters = sorted(letters)\n",
    "print(ascending_letters)\n",
    "\n",
    "colors = ('red', 'orange', 'yellow', 'green', 'blue')\n",
    "\n",
    "ascending_colors = sorted(colors)\n",
    "print(ascending_colors)"
   ]
  },
  {
   "cell_type": "markdown",
   "id": "02ffb2cf-fd84-46f6-ad58-de0d9d17fac6",
   "metadata": {},
   "source": [
    "Use the optional keyword argument **reverse** with the value **True** to sort the elements in descending order."
   ]
  },
  {
   "cell_type": "code",
   "execution_count": null,
   "id": "cd3a2d94-abce-41bf-b95e-b3d5ac5230bc",
   "metadata": {},
   "outputs": [],
   "source": [
    "descending_numbers = sorted(numbers, reverse = True)\n",
    "print(descending_numbers)\n",
    "\n",
    "descending_letters = sorted(letters, reverse = True)\n",
    "print(descending_letters)"
   ]
  },
  {
   "cell_type": "markdown",
   "id": "d3960b52-16d4-4919-9e18-64e29e9a4cea",
   "metadata": {},
   "source": [
    "Immutable sequences like tuples and strings do not provide a sort method. Instead use the built-in sort function."
   ]
  },
  {
   "cell_type": "markdown",
   "id": "c75ab65b-0c19-469e-9926-fc1eee9f39a6",
   "metadata": {},
   "source": [
    "### 5.8 Self Check"
   ]
  },
  {
   "cell_type": "code",
   "execution_count": null,
   "id": "bfe2abbd-f8ab-403e-90ae-f663da05de42",
   "metadata": {},
   "outputs": [],
   "source": [
    "foods = ['Cookies', 'pizza', 'Grapes', 'apples', 'steak', 'Bacon']\n",
    "\n",
    "foods.sort()\n",
    "\n",
    "print(foods)"
   ]
  },
  {
   "cell_type": "markdown",
   "id": "62353205-04d7-49cb-8590-3252c113fb3c",
   "metadata": {},
   "source": [
    "### 5.9 Searching Sequences"
   ]
  },
  {
   "cell_type": "markdown",
   "id": "1dc6e516-d8de-4e56-a342-198c98ce5f18",
   "metadata": {},
   "source": [
    "Searching is the process of locating a key."
   ]
  },
  {
   "cell_type": "markdown",
   "id": "7c9f1b15-48df-43a0-814c-ab982f3ed6d1",
   "metadata": {},
   "source": [
    "List method index takes as an argument a search key -- the value to locate in the list -- then searches through the list from index 0 and returns the **first** element that matches the search key. A ValueError occurs if it is not in the list."
   ]
  },
  {
   "cell_type": "code",
   "execution_count": null,
   "id": "c5ebbf74-1777-43fe-a7c5-b3970f04206d",
   "metadata": {},
   "outputs": [],
   "source": [
    "numbers = [3, 7, 1, 4, 2, 8, 5, 6]\n",
    "numbers.index(5)"
   ]
  },
  {
   "cell_type": "markdown",
   "id": "20aaf955-7c33-4f2c-8a94-e327aa7a8b63",
   "metadata": {},
   "source": [
    "Specifying the starting index of a search: Using method index's optional arguments, you can search a subset of a list's elements."
   ]
  },
  {
   "cell_type": "code",
   "execution_count": null,
   "id": "fc995ee3-07a5-4909-a0e0-41861882c7c5",
   "metadata": {},
   "outputs": [],
   "source": [
    "numbers *= 2\n",
    "print(numbers)"
   ]
  },
  {
   "cell_type": "code",
   "execution_count": null,
   "id": "c0f804f6-8da0-4957-8298-c2c396771168",
   "metadata": {},
   "outputs": [],
   "source": [
    "numbers.index(5, 7)"
   ]
  },
  {
   "cell_type": "markdown",
   "id": "ddff4126-39ee-4ce0-a654-53b96d64341b",
   "metadata": {},
   "source": [
    "Specifying the starting and ending indices of a search."
   ]
  },
  {
   "cell_type": "code",
   "execution_count": null,
   "id": "107ed520-05e0-4751-ad69-2413c681d617",
   "metadata": {},
   "outputs": [],
   "source": [
    "numbers.index(7, 0, 4)"
   ]
  },
  {
   "cell_type": "markdown",
   "id": "a85bbca1-be6a-445c-bcd6-ffc510d72507",
   "metadata": {},
   "source": [
    "Operators **in** and **not in**"
   ]
  },
  {
   "cell_type": "code",
   "execution_count": null,
   "id": "21bf95ef-0f50-49b9-af70-af4f6b102955",
   "metadata": {},
   "outputs": [],
   "source": [
    "print(1000 in numbers)\n",
    "\n",
    "print(5 in numbers)"
   ]
  },
  {
   "cell_type": "code",
   "execution_count": null,
   "id": "5cb7c82f-42b5-4fa5-a0ad-e0a8b0293e32",
   "metadata": {},
   "outputs": [],
   "source": [
    "print(1000 not in numbers)\n",
    "print(5 not in numbers)"
   ]
  },
  {
   "cell_type": "markdown",
   "id": "045ff141-1edc-4f18-8f37-9dd74d49858b",
   "metadata": {},
   "source": [
    "Using operator **in** to prevent a ValueError"
   ]
  },
  {
   "cell_type": "code",
   "execution_count": null,
   "id": "43d1994c-fcaf-4dd9-8d1e-7f9f75cd1cf6",
   "metadata": {
    "tags": []
   },
   "outputs": [],
   "source": [
    "key = 1000\n",
    "\n",
    "if key in numbers:\n",
    "    print(f'found {key} at index {numbers.index(key)}')\n",
    "else:\n",
    "    print (f'{key} not found')"
   ]
  },
  {
   "cell_type": "markdown",
   "id": "c57a2883-d476-41a6-8295-a6ca6064def9",
   "metadata": {},
   "source": [
    "Built-in functions **any** and **all**\n",
    "- **Any**: Returns True if any item in its iterable argument is True\n",
    "- **All**: Returns True if all items in its iterable argument are True. \n",
    "- Non-empty iterable objects also evaluate to True\n",
    "- Empty iterable objects evalutes to False"
   ]
  },
  {
   "cell_type": "markdown",
   "id": "b89d0b10-bed6-4548-9eab-358ea07decbf",
   "metadata": {},
   "source": [
    "### 5.9 Self Check"
   ]
  },
  {
   "cell_type": "code",
   "execution_count": null,
   "id": "ddcae0c3-462b-47da-bba0-17502fcb3b1b",
   "metadata": {},
   "outputs": [],
   "source": [
    "list5 = [67, 12, 46, 43, 13]\n",
    "\n",
    "list5.index(43)"
   ]
  },
  {
   "cell_type": "code",
   "execution_count": null,
   "id": "e171265b-bac1-4b8b-9b8f-e75baded6e7e",
   "metadata": {},
   "outputs": [],
   "source": [
    "value = 44\n",
    "\n",
    "if value in list5:\n",
    "    print(f'found {value} at index {list5.index(value)}')\n",
    "else:\n",
    "    print(f'{value} not found')"
   ]
  },
  {
   "cell_type": "markdown",
   "id": "5f974918-76e7-4024-9465-3209fc8447e2",
   "metadata": {},
   "source": [
    "### 5.10 Other List Methods"
   ]
  },
  {
   "cell_type": "markdown",
   "id": "f1b0855e-3193-4906-b8cf-54749fce9639",
   "metadata": {},
   "source": [
    "Inserting an element at a specific list index."
   ]
  },
  {
   "cell_type": "code",
   "execution_count": null,
   "id": "d4e5ba6a-db80-40a5-a357-87b445d1d3b6",
   "metadata": {},
   "outputs": [],
   "source": [
    "color_names = ['orange', 'yellow', 'green']\n",
    "color_names.insert(0, 'red')\n",
    "print(color_names)"
   ]
  },
  {
   "cell_type": "markdown",
   "id": "7c9cc05b-2c91-4fba-b4c6-b54af17b1154",
   "metadata": {},
   "source": [
    "Adding an element to the end of a list."
   ]
  },
  {
   "cell_type": "code",
   "execution_count": null,
   "id": "91ea45e9-a0d0-49a6-8ee4-17a510887e84",
   "metadata": {},
   "outputs": [],
   "source": [
    "color_names.append('blue')\n",
    "\n",
    "print(color_names)"
   ]
  },
  {
   "cell_type": "markdown",
   "id": "6c97db4e-94ce-452b-8bce-b736b246caf9",
   "metadata": {},
   "source": [
    "Adding all the elements of a sequence to the end of a list. This is the equivalent of using +=."
   ]
  },
  {
   "cell_type": "code",
   "execution_count": null,
   "id": "8c6c7847-8f23-4ddb-8e60-c2f6bbc87951",
   "metadata": {},
   "outputs": [],
   "source": [
    "color_names.extend(('indigo', 'violet'))\n",
    "print(color_names)"
   ]
  },
  {
   "cell_type": "code",
   "execution_count": null,
   "id": "c5a72c0f-f0b2-4ae4-a5c0-a20a6de69fba",
   "metadata": {},
   "outputs": [],
   "source": [
    "sample_list = []\n",
    "\n",
    "s = 'abc'\n",
    "\n",
    "sample_list.extend(s)\n",
    "\n",
    "print(sample_list)\n",
    "\n",
    "t = (1, 2, 3)\n",
    "\n",
    "sample_list.extend(t)\n",
    "\n",
    "print(sample_list)"
   ]
  },
  {
   "cell_type": "code",
   "execution_count": null,
   "id": "9daa0a17-e8b3-4c6e-a531-b48c35600db2",
   "metadata": {},
   "outputs": [],
   "source": [
    "sample_list.extend((4, 5, 6)) #An extra set of parentheses is required because extend expects one iterable argument\n",
    "\n",
    "print(sample_list)"
   ]
  },
  {
   "cell_type": "markdown",
   "id": "f0ed511a-1b79-4f13-ac75-c60a43825e2e",
   "metadata": {},
   "source": [
    "Removing the first occurence of an element in a list."
   ]
  },
  {
   "cell_type": "code",
   "execution_count": null,
   "id": "49c2394c-e5c7-4d5c-8891-5b34001b345b",
   "metadata": {},
   "outputs": [],
   "source": [
    "color_names.remove('green')\n",
    "print(color_names)"
   ]
  },
  {
   "cell_type": "markdown",
   "id": "dad5a81f-fcc7-4cd8-a7bf-bd14e71929ea",
   "metadata": {},
   "source": [
    "Empyting a list."
   ]
  },
  {
   "cell_type": "code",
   "execution_count": null,
   "id": "6e45f463-d0af-4871-805a-30757a045e8e",
   "metadata": {},
   "outputs": [],
   "source": [
    "color_names.clear()\n",
    "print(color_names)"
   ]
  },
  {
   "cell_type": "raw",
   "id": "209c7021-2cc4-42a3-9ddc-efccf8edf69b",
   "metadata": {},
   "source": [
    "Counting the number of occurrence of an item."
   ]
  },
  {
   "cell_type": "code",
   "execution_count": null,
   "id": "be1d1812-2c82-4c49-8412-41e573b89374",
   "metadata": {},
   "outputs": [],
   "source": [
    "responses = [1, 2, 5, 4, 3, 7, 5, 4, 3, 2, 1, 8 ,9, 0, 7, 6, 5, 4, 3, 2, 1, 2, 3, 4, 5, 6, 7, 9]\n",
    "\n",
    "for i in range(1, 6):\n",
    "    print(f'{i} appears {responses.count(i)} times in responses')"
   ]
  },
  {
   "cell_type": "markdown",
   "id": "350001f4-b148-4ad5-95c6-a66c28708540",
   "metadata": {},
   "source": [
    "Reversing a list's elements."
   ]
  },
  {
   "cell_type": "code",
   "execution_count": null,
   "id": "5a5b8583-c0fd-4acf-b57f-4b4325197c63",
   "metadata": {},
   "outputs": [],
   "source": [
    "color_names = ['red', 'orange', 'yellow', 'green', 'blue']\n",
    "\n",
    "color_names.reverse()\n",
    "\n",
    "print(color_names)"
   ]
  },
  {
   "cell_type": "markdown",
   "id": "92e3c347-82fd-4169-ae25-6a81d763001e",
   "metadata": {},
   "source": [
    "Reversing a list's elements. List method **copy** returns a new list containing a shallow copy of the original list."
   ]
  },
  {
   "cell_type": "code",
   "execution_count": null,
   "id": "35f31c53-583f-476e-923f-7b7b82a33e4d",
   "metadata": {},
   "outputs": [],
   "source": [
    "copied_list = color_names.copy()\n",
    "\n",
    "print(copied_list)"
   ]
  },
  {
   "cell_type": "markdown",
   "id": "d98c4fcd-62f8-4c8e-969e-752627fb20b8",
   "metadata": {},
   "source": [
    "### 5.10 Self Check"
   ]
  },
  {
   "cell_type": "code",
   "execution_count": null,
   "id": "ed641849-8cfb-4930-8504-162a9fd5b006",
   "metadata": {},
   "outputs": [],
   "source": [
    "rainbow = ['green', 'orange', 'violet']\n",
    "\n",
    "print(rainbow.index('violet'))"
   ]
  },
  {
   "cell_type": "code",
   "execution_count": null,
   "id": "4565dce4-d487-424f-a0e7-f51b50171924",
   "metadata": {},
   "outputs": [],
   "source": [
    "rainbow.insert(2, 'red')\n",
    "print(rainbow)"
   ]
  },
  {
   "cell_type": "code",
   "execution_count": null,
   "id": "279c9cbf-c4d4-4e89-aecc-f7e51a4a6c27",
   "metadata": {},
   "outputs": [],
   "source": [
    "rainbow.append('yellow')\n",
    "print(rainbow)"
   ]
  },
  {
   "cell_type": "code",
   "execution_count": null,
   "id": "4f407752-cca5-492d-910f-d61cb4ec6b64",
   "metadata": {},
   "outputs": [],
   "source": [
    "rainbow.reverse()\n",
    "print(rainbow)"
   ]
  },
  {
   "cell_type": "code",
   "execution_count": null,
   "id": "b81de96f-7daf-4396-8398-e3ca783f02fc",
   "metadata": {},
   "outputs": [],
   "source": [
    "rainbow.remove('orange')\n",
    "print(rainbow)"
   ]
  },
  {
   "cell_type": "markdown",
   "id": "bc61db5f-56d9-4fb8-af3a-ff292a36f399",
   "metadata": {},
   "source": [
    "### 5.11 Simulating Stacks with Lists"
   ]
  },
  {
   "cell_type": "code",
   "execution_count": null,
   "id": "6b637f5a-ecf3-46fb-aead-321149d7b3cf",
   "metadata": {},
   "outputs": [],
   "source": [
    "stack = [] # Create a stack\n",
    "\n",
    "stack.append('red') # Push\n",
    "\n",
    "print(stack)\n",
    "\n",
    "stack.append('green') # Push\n",
    "\n",
    "print(stack)"
   ]
  },
  {
   "cell_type": "code",
   "execution_count": null,
   "id": "8aaba1bd-6b26-4c95-be6e-a4a8f931e1e3",
   "metadata": {},
   "outputs": [],
   "source": [
    "stack.pop() # Pop: removes and returns the item at the end of the list\n",
    "print(stack)"
   ]
  },
  {
   "cell_type": "code",
   "execution_count": null,
   "id": "d5c1db31-f4fa-4091-9fcf-c1623453d091",
   "metadata": {},
   "outputs": [],
   "source": [
    "stack.pop()"
   ]
  },
  {
   "cell_type": "code",
   "execution_count": null,
   "id": "a525b469-e3e2-4809-abce-62c1c4240933",
   "metadata": {},
   "outputs": [],
   "source": [
    "print(stack)"
   ]
  },
  {
   "cell_type": "markdown",
   "id": "d93b6d77-10aa-4210-96bd-edbe6af276d6",
   "metadata": {},
   "source": [
    "Popping from an empty stack causes an IndexError. To prevent an IndexError, ensure that len(stack) > 0 before calling pop."
   ]
  },
  {
   "cell_type": "markdown",
   "id": "5f82effd-22aa-47b2-bc13-5e4906b54c3f",
   "metadata": {},
   "source": [
    "### 5.12 List Comprehensions"
   ]
  },
  {
   "cell_type": "markdown",
   "id": "4989e04e-c08e-4222-ba26-10d24b1dbbe9",
   "metadata": {},
   "source": [
    "List comprehension: a convenient notation for creating new lists. List comprehension can replace for statements that iterate over existing sequences and creat new lists."
   ]
  },
  {
   "cell_type": "markdown",
   "id": "7b832dd7-c266-484a-9213-f12122ddb43f",
   "metadata": {},
   "source": [
    "Using a list comprehension to create a list of integers."
   ]
  },
  {
   "cell_type": "code",
   "execution_count": null,
   "id": "abfd312b-3042-47d1-a7b5-cb5182ea5288",
   "metadata": {},
   "outputs": [],
   "source": [
    "list2 = [item for item in range(1, 6)]\n",
    "\n",
    "# This is the same as using list2 = list(range(1, 6))\n",
    "\n",
    "print(list2)"
   ]
  },
  {
   "cell_type": "markdown",
   "id": "6b24e040-4ab3-416c-a01a-369d725fff3e",
   "metadata": {},
   "source": [
    "Mapping: Performing operations in a list comprehension's expression."
   ]
  },
  {
   "cell_type": "code",
   "execution_count": null,
   "id": "f358ee46-7a00-40e7-a968-7818d802cdf4",
   "metadata": {},
   "outputs": [],
   "source": [
    "list3 = [item ** 3 for item in range(1, 6)]\n",
    "\n",
    "print(list3)"
   ]
  },
  {
   "cell_type": "markdown",
   "id": "ce5b40ca-edcc-48d6-ab7c-32b4607af1e7",
   "metadata": {},
   "source": [
    "Filtering: List comprehensions with if clauses."
   ]
  },
  {
   "cell_type": "code",
   "execution_count": null,
   "id": "9337ce17-639b-476e-9c44-3a32c14e51b5",
   "metadata": {},
   "outputs": [],
   "source": [
    "list4 = [item for item in range(1, 11) if item % 2 == 0]\n",
    "print(list4)"
   ]
  },
  {
   "cell_type": "markdown",
   "id": "e5fcea5b-5047-41b5-8b45-c7f472cc17ed",
   "metadata": {},
   "source": [
    "List comprehension that processes another list's elements."
   ]
  },
  {
   "cell_type": "code",
   "execution_count": null,
   "id": "44cdf1cb-9bb1-4bad-a6e7-6ea957da99c8",
   "metadata": {},
   "outputs": [],
   "source": [
    "colors = ['red', 'orange', 'yellow', 'green', 'blue']\n",
    "\n",
    "colors2 = [item.upper() for item in colors]\n",
    "\n",
    "print(colors2)\n",
    "print(colors)\n"
   ]
  },
  {
   "cell_type": "markdown",
   "id": "be4ebb7b-aa25-4551-854a-9ca3b70d0ad0",
   "metadata": {},
   "source": [
    "### 5.12 Self Check"
   ]
  },
  {
   "cell_type": "code",
   "execution_count": null,
   "id": "3f4be162-1026-43b7-9936-0849c37d087e",
   "metadata": {},
   "outputs": [],
   "source": [
    "list5 = [(item, item ** 3) for item in range (1, 6)]\n",
    "print(list5)"
   ]
  },
  {
   "cell_type": "code",
   "execution_count": null,
   "id": "d3f0c2ce-1b86-4260-8114-b364b626ccfc",
   "metadata": {},
   "outputs": [],
   "source": [
    "list6 = [item for item in range(3, 30, 3)]\n",
    "print(list6)"
   ]
  },
  {
   "cell_type": "markdown",
   "id": "57afccbc-77a2-435e-9b3c-cd107e23b321",
   "metadata": {},
   "source": [
    "### 5.13 Generator Expressions"
   ]
  },
  {
   "cell_type": "markdown",
   "id": "f9171868-d118-4fd3-8b6f-a94a0a8050fd",
   "metadata": {},
   "source": [
    "A generator expression is similar to a list comprehension, but creates an iterable generator object that produces values on demand. (Lazy evaluation) You define them in parantheses instead of square brackets. A generator expression does not create a list."
   ]
  },
  {
   "cell_type": "code",
   "execution_count": null,
   "id": "b7fa9a69-f198-4471-9cb1-b2635ae13df8",
   "metadata": {},
   "outputs": [],
   "source": [
    "numbers = [10, 3, 7, 1, 9, 4, 2, 8, 5, 6]\n",
    "\n",
    "for value in (x ** 2 for x in numbers if x % 2 !=0):\n",
    "    print(value, end=' ')\n",
    "\n",
    "square_of_odds = (x ** 2 for x in numbers if x % 2 !=0)\n",
    "\n",
    "print(square_of_odds)"
   ]
  },
  {
   "cell_type": "markdown",
   "id": "6817c14f-ab69-4f1e-a8d7-be7ebddd552b",
   "metadata": {},
   "source": [
    "### 5.13 Self Check"
   ]
  },
  {
   "cell_type": "code",
   "execution_count": 10,
   "id": "068bd907-428b-433d-981f-998a0853c683",
   "metadata": {},
   "outputs": [
    {
     "name": "stdout",
     "output_type": "stream",
     "text": [
      "[1000, 64, 8]\n"
     ]
    }
   ],
   "source": [
    "list7 = list(x ** 3 for x in [10, 3, 7, 1, 9, 4, 2] if x % 2 == 0)\n",
    "print(list7)\n",
    "# This works in the console."
   ]
  },
  {
   "cell_type": "markdown",
   "id": "0658e615-34fc-47bc-8114-b36860cdc921",
   "metadata": {},
   "source": [
    "### 5.14 Filter, Map and Reduce"
   ]
  },
  {
   "cell_type": "code",
   "execution_count": 11,
   "id": "26da387f-0113-43a2-848d-41cccecad53f",
   "metadata": {},
   "outputs": [
    {
     "data": {
      "text/plain": [
       "[3, 7, 1, 9, 5]"
      ]
     },
     "execution_count": 11,
     "metadata": {},
     "output_type": "execute_result"
    }
   ],
   "source": [
    "numbers = [10, 3, 7, 1, 9, 4, 2, 8, 5, 6]\n",
    "\n",
    "def is_odd(x):\n",
    "    \"\"\"Returns True only if x is odd.\"\"\"\n",
    "    return x % 2 != 0 \n",
    "\n",
    "list(filter(is_odd, numbers))\n",
    "# This works in the console."
   ]
  },
  {
   "cell_type": "markdown",
   "id": "2518d24e-5ce1-480c-b278-e2969ecfa1aa",
   "metadata": {},
   "source": [
    "Using a lambda rather than a function. A lambda function is an anonymous function. A lambda begins with the lambda keyword followed by a comma-separated parameter list, a colon, and an expression.\n",
    "- lambda parameter_list: expression"
   ]
  },
  {
   "cell_type": "code",
   "execution_count": 14,
   "id": "f1e30988-1ab7-4d4e-8ef8-42acce7a3506",
   "metadata": {},
   "outputs": [
    {
     "name": "stdout",
     "output_type": "stream",
     "text": [
      "[3, 7, 1, 9, 5]\n"
     ]
    }
   ],
   "source": [
    "variable = list(filter(lambda x: x % 2 != 0, numbers))\n",
    "print(variable)"
   ]
  },
  {
   "cell_type": "markdown",
   "id": "2c641d37-94b8-4469-96a3-5743c8402fe6",
   "metadata": {},
   "source": [
    "Mapping a sequence's values to new values. Map's first argument is a function that receives one value and returns a new value. The second argument is an iterable of values to map."
   ]
  },
  {
   "cell_type": "code",
   "execution_count": 13,
   "id": "017afb99-8d58-4587-ad16-db463087883c",
   "metadata": {},
   "outputs": [
    {
     "name": "stdout",
     "output_type": "stream",
     "text": [
      "[10, 3, 7, 1, 9, 4, 2, 8, 5, 6]\n",
      "[100, 9, 49, 1, 81, 16, 4, 64, 25, 36]\n"
     ]
    }
   ],
   "source": [
    "print(numbers)\n",
    "\n",
    "squared_list = list(map(lambda x: x **2, numbers))\n",
    "print(squared_list)"
   ]
  },
  {
   "cell_type": "markdown",
   "id": "76075970-cbec-460a-99a1-44a2b7c2ce6b",
   "metadata": {},
   "source": [
    "Combining filter and map."
   ]
  },
  {
   "cell_type": "code",
   "execution_count": 15,
   "id": "a6dd89dd-7ea7-42ec-9460-8c2566f56a9f",
   "metadata": {},
   "outputs": [
    {
     "name": "stdout",
     "output_type": "stream",
     "text": [
      "[9, 49, 1, 81, 25]\n"
     ]
    }
   ],
   "source": [
    "squared_fil_list = list(map(lambda x: x ** 2, \n",
    "         filter(lambda x: x % 2 != 0, numbers)))\n",
    "\n",
    "print(squared_fil_list)"
   ]
  },
  {
   "cell_type": "markdown",
   "id": "669ac570-548b-4f6b-acbf-8850e85e4fb5",
   "metadata": {},
   "source": [
    "### 5.14 Self Check"
   ]
  },
  {
   "cell_type": "code",
   "execution_count": 16,
   "id": "adfb5e12-a7e0-4816-8ecf-3269fb6ac291",
   "metadata": {},
   "outputs": [
    {
     "name": "stdout",
     "output_type": "stream",
     "text": [
      "[1, 2, 3, 4, 5, 6, 7, 8, 9, 10, 11, 12, 13, 14, 15]\n"
     ]
    }
   ],
   "source": [
    "list_numbers = list(range(1, 16))\n",
    "print(list_numbers)"
   ]
  },
  {
   "cell_type": "code",
   "execution_count": 19,
   "id": "b0074abc-9933-4351-bbe4-554f2916bc7b",
   "metadata": {},
   "outputs": [
    {
     "name": "stdout",
     "output_type": "stream",
     "text": [
      "[2, 4, 6, 8, 10, 12, 14]\n"
     ]
    }
   ],
   "source": [
    "list_even = list(filter(lambda x: x % 2 == 0, list_numbers))\n",
    "print(list_even)"
   ]
  },
  {
   "cell_type": "code",
   "execution_count": 20,
   "id": "c8fc1130-0114-4cfd-9ca5-f3edf5a612b8",
   "metadata": {},
   "outputs": [
    {
     "name": "stdout",
     "output_type": "stream",
     "text": [
      "[1, 4, 9, 16, 25, 36, 49, 64, 81, 100, 121, 144, 169, 196, 225]\n"
     ]
    }
   ],
   "source": [
    "list_squared = list(map(lambda x: x ** 2, list_numbers))\n",
    "print(list_squared)"
   ]
  },
  {
   "cell_type": "code",
   "execution_count": 23,
   "id": "ff20ef99-7e88-49b3-9b69-bb570eff6e5c",
   "metadata": {},
   "outputs": [
    {
     "name": "stdout",
     "output_type": "stream",
     "text": [
      "[4, 16, 36, 64, 100, 144, 196]\n"
     ]
    }
   ],
   "source": [
    "list_even_squared = list(map(lambda x: x ** 2,\n",
    "                             filter(lambda x: x % 2 == 0, list_numbers)))\n",
    "print(list_even_squared)"
   ]
  },
  {
   "cell_type": "code",
   "execution_count": 28,
   "id": "3197e57f-6f42-4522-b0d3-db6abcde2d8d",
   "metadata": {},
   "outputs": [
    {
     "name": "stdout",
     "output_type": "stream",
     "text": [
      "[(41, 5.0), (32, 0.0), (212, 100.0)]\n"
     ]
    }
   ],
   "source": [
    "fdegrees = [41, 32, 212]\n",
    "\n",
    "cdegrees = list(map(lambda x: (x, (x - 32) * (5/9)), fdegrees))\n",
    "\n",
    "print(cdegrees)"
   ]
  },
  {
   "cell_type": "markdown",
   "id": "55ff05e3-9d48-4736-9a00-285836e8f51c",
   "metadata": {},
   "source": [
    "### 5.15 Other Sequence Processing Functions"
   ]
  },
  {
   "cell_type": "markdown",
   "id": "48780e84-2028-43a4-9179-32c689aca308",
   "metadata": {},
   "source": [
    "Finding the min and max values using a key function. The key keyword argument must be a one-parameter function that returns a value."
   ]
  },
  {
   "cell_type": "code",
   "execution_count": 34,
   "id": "6bf8b105-1e5b-49a4-85af-3babf31ef641",
   "metadata": {},
   "outputs": [
    {
     "name": "stdout",
     "output_type": "stream",
     "text": [
      "Blue\n",
      "Yellow\n"
     ]
    }
   ],
   "source": [
    "colors = ['Red', 'orange', 'Yellow', 'green', 'Blue']\n",
    "\n",
    "print(min(colors, key=lambda s: s.lower()))\n",
    "\n",
    "print(max(colors, key=lambda s: s.lower()))"
   ]
  },
  {
   "cell_type": "markdown",
   "id": "4c6fada2-dcfa-481f-ab78-7a176937d123",
   "metadata": {},
   "source": [
    "Iterating backword through a sequence. Reverse returns an iterator that enables you to iterate over a sequence's values backwords."
   ]
  },
  {
   "cell_type": "code",
   "execution_count": 35,
   "id": "bbba7e08-9853-4f09-8a66-b2f7a018929d",
   "metadata": {},
   "outputs": [
    {
     "name": "stdout",
     "output_type": "stream",
     "text": [
      "[36, 25, 64, 4, 16, 81, 1, 49, 9, 100]\n"
     ]
    }
   ],
   "source": [
    "numbers = [10, 3, 7, 1, 9, 4, 2, 8, 5, 6]\n",
    "\n",
    "reversed_numbers = [item ** 2 for item in reversed(numbers)]\n",
    "\n",
    "print(reversed_numbers)"
   ]
  },
  {
   "cell_type": "markdown",
   "id": "572fadb2-2adf-4b96-a622-7a8673a2e695",
   "metadata": {},
   "source": [
    "Combining iterables into tuples of corresponding elements. Zip enables you to iterate over multiple iterables of data at the same time. Zip receives as arguments any number of iterables and returns an iterator that produces tuples."
   ]
  },
  {
   "cell_type": "code",
   "execution_count": 40,
   "id": "3bb518f2-31d9-4007-862f-30fb10bfa43f",
   "metadata": {},
   "outputs": [
    {
     "name": "stdout",
     "output_type": "stream",
     "text": [
      "[('Bob', 3.5), ('Sue', 4.0), ('Amanda', 3.75)]\n",
      "Name=Bob; GPA=3.5\n",
      "Name=Sue; GPA=4.0\n",
      "Name=Amanda; GPA=3.75\n"
     ]
    }
   ],
   "source": [
    "names = ['Bob', 'Sue', 'Amanda']\n",
    "\n",
    "grade_point_averages = [3.5, 4.0, 3.75]\n",
    "\n",
    "tuple = list(zip(names, grade_point_averages))\n",
    "print(tuple)\n",
    "\n",
    "for name, gpa in zip(names, grade_point_averages):\n",
    "    print (f'Name={name}; GPA={gpa}')"
   ]
  },
  {
   "cell_type": "markdown",
   "id": "ae9d3f1e-94f7-45d0-95e6-b97b503eddab",
   "metadata": {},
   "source": [
    "### 5.15 Self Check"
   ]
  },
  {
   "cell_type": "code",
   "execution_count": 41,
   "id": "84ed1a5f-4992-4c55-bc8f-56744865a9c9",
   "metadata": {},
   "outputs": [
    {
     "name": "stdout",
     "output_type": "stream",
     "text": [
      "Bacon\n"
     ]
    }
   ],
   "source": [
    "foods = ['Cookies', 'pizza', 'Grapes', 'apples', 'steak', 'Bacon']\n",
    "print(min(foods))"
   ]
  },
  {
   "cell_type": "code",
   "execution_count": 43,
   "id": "24121fd0-2f8d-418d-802e-41deebd743fd",
   "metadata": {},
   "outputs": [
    {
     "name": "stdout",
     "output_type": "stream",
     "text": [
      "apples\n"
     ]
    }
   ],
   "source": [
    "print(min(foods, key=lambda s: s.lower()))"
   ]
  },
  {
   "cell_type": "code",
   "execution_count": 46,
   "id": "67fdee4d-becd-44e0-ad9a-092beb9548a5",
   "metadata": {},
   "outputs": [
    {
     "name": "stdout",
     "output_type": "stream",
     "text": [
      "[2, 4, 6, 8, 10]\n"
     ]
    }
   ],
   "source": [
    "integer1 = [1, 2, 3, 4, 5]\n",
    "integer2 = [1, 2, 3, 4, 5]\n",
    "\n",
    "sum = list((a + b) for a, b in zip(integer1, integer2))\n",
    "print(sum)"
   ]
  },
  {
   "cell_type": "markdown",
   "id": "e9abac62-092f-4b89-903d-914380e9a25a",
   "metadata": {},
   "source": [
    "### Two-Dimensional Lists"
   ]
  },
  {
   "cell_type": "markdown",
   "id": "462a8051-b3d0-4af9-aa0e-9b3ba656ed3b",
   "metadata": {},
   "source": [
    "Lists can contain other lists as elements. "
   ]
  },
  {
   "cell_type": "code",
   "execution_count": 49,
   "id": "274c8de4-87f3-4fb4-af83-87edab22986c",
   "metadata": {},
   "outputs": [
    {
     "name": "stdout",
     "output_type": "stream",
     "text": [
      "77\n",
      "68\n",
      "96\n"
     ]
    }
   ],
   "source": [
    "a = [[77, 68, 86, 73], \n",
    "     [96, 87, 89, 81],\n",
    "     [70, 90, 86, 81]]\n",
    "\n",
    "# location = a[row][column]\n",
    "\n",
    "\n",
    "print(a[0][0])\n",
    "print(a[0][1])\n",
    "print(a[1][0])"
   ]
  },
  {
   "cell_type": "code",
   "execution_count": 50,
   "id": "c04f29ba-183e-4f49-9106-6f78137ec025",
   "metadata": {},
   "outputs": [
    {
     "name": "stdout",
     "output_type": "stream",
     "text": [
      "77 68 86 73 \n",
      "96 87 89 81 \n",
      "70 90 86 81 \n"
     ]
    }
   ],
   "source": [
    "for row in a:\n",
    "    for item in row:\n",
    "        print( item, end=' ')\n",
    "    print()"
   ]
  }
 ],
 "metadata": {
  "kernelspec": {
   "display_name": "Python 3 (ipykernel)",
   "language": "python",
   "name": "python3"
  },
  "language_info": {
   "codemirror_mode": {
    "name": "ipython",
    "version": 3
   },
   "file_extension": ".py",
   "mimetype": "text/x-python",
   "name": "python",
   "nbconvert_exporter": "python",
   "pygments_lexer": "ipython3",
   "version": "3.9.7"
  }
 },
 "nbformat": 4,
 "nbformat_minor": 5
}
